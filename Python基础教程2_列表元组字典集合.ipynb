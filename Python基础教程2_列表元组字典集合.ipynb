{
 "cells": [
  {
   "cell_type": "markdown",
   "metadata": {
    "colab_type": "text",
    "id": "e9rC8Z1znAwq"
   },
   "source": [
    "# 第一节 列表和元组"
   ]
  },
  {
   "cell_type": "code",
   "execution_count": null,
   "metadata": {
    "colab": {},
    "colab_type": "code",
    "id": "Ft4RqmuCcw1v"
   },
   "outputs": [],
   "source": [
    "#元组(tuple)\n",
    "\"\"\"\n",
    "*元组与列表类似，不同之处在于元组的元素不能修改\n",
    "*元组使用小括号，列表使用方括号\n",
    "*元组创建很简单，只需要在括号中添加元素，并使用逗号隔开即可\n",
    "*没有 append()，insert() 这样进行修改的方法，其他方法都与列表一样\n",
    "*字典中的键必须是唯一的同时不可变的，值则没有限制\n",
    "*元组中只包含一个元素时，需要在元素后面添加逗号，否则括号会被当作运算符使用\n",
    "\"\"\"\n",
    "#列表(list)\n",
    "\"\"\"\n",
    "列表是一种无序的、可重复的数据序列，可以随时添加、删除其中的元素。\n",
    "列表页的每个元素都分配一个数字索引，从 0 开始\n",
    "列表使用方括号创建，使用逗号分隔元素\n",
    "列表元素值可以是任意类型，包括变量\n",
    "使用方括号对列表进行元素访问、切片、修改、删除等操作，开闭合区间为[)形式\n",
    "列表的元素访问可以嵌套\n",
    "方括号内可以是任意表达式\n",
    "\"\"\""
   ]
  },
  {
   "cell_type": "code",
   "execution_count": 1,
   "metadata": {
    "colab": {
     "base_uri": "https://localhost:8080/",
     "height": 34
    },
    "colab_type": "code",
    "executionInfo": {
     "elapsed": 1866,
     "status": "ok",
     "timestamp": 1584607377356,
     "user": {
      "displayName": "Wang Huapeng",
      "photoUrl": "https://lh3.googleusercontent.com/a-/AOh14GhZeT_eN8i8VkCvGXMJ1JrrGvzGmZ2E61XsDT-e=s64",
      "userId": "09498284361622645166"
     },
     "user_tz": -480
    },
    "id": "h-z32J2dU_Qe",
    "outputId": "dec0a599-d8cf-4fc6-9eb8-f7cff7bb589c",
    "ExecuteTime": {
     "end_time": "2023-10-23T11:12:19.382126900Z",
     "start_time": "2023-10-23T11:12:19.369117200Z"
    }
   },
   "outputs": [
    {
     "name": "stdout",
     "output_type": "stream",
     "text": [
      "[[1, 2, 3], [4, 5, 6]]\n"
     ]
    }
   ],
   "source": [
    "#列表和元组\n",
    "#列表（list）：使用方括号[]标示,可改变。\n",
    "#元组（tuple）：使用小括号()标示，定义后，不可改变。\n",
    "lst_1 = [1,2,3]  #list\n",
    "lst_2 = [[1,2,3],[4,5,6]]\n",
    "lst_3 = []\n",
    "lst_mix = [333444,\"whp\",33,[3,3,3]]\n",
    "\n",
    "tup1 = (1,2,3)\n",
    "print(lst_2)"
   ]
  },
  {
   "cell_type": "code",
   "execution_count": 2,
   "metadata": {
    "colab": {
     "base_uri": "https://localhost:8080/",
     "height": 52
    },
    "colab_type": "code",
    "executionInfo": {
     "elapsed": 1119,
     "status": "ok",
     "timestamp": 1584607502455,
     "user": {
      "displayName": "Wang Huapeng",
      "photoUrl": "https://lh3.googleusercontent.com/a-/AOh14GhZeT_eN8i8VkCvGXMJ1JrrGvzGmZ2E61XsDT-e=s64",
      "userId": "09498284361622645166"
     },
     "user_tz": -480
    },
    "id": "4JI3-n0uWROI",
    "outputId": "ab33b8b5-1d56-437d-9ff6-7b987f079ae4",
    "ExecuteTime": {
     "end_time": "2023-10-23T11:12:33.945788600Z",
     "start_time": "2023-10-23T11:12:33.838897400Z"
    }
   },
   "outputs": [
    {
     "name": "stdout",
     "output_type": "stream",
     "text": [
      "y\n",
      "o\n"
     ]
    }
   ],
   "source": [
    "#索引从0开始\n",
    "s = \"Python\"\n",
    "print(s[1]) \n",
    "print(s[-2])"
   ]
  },
  {
   "cell_type": "code",
   "execution_count": 3,
   "metadata": {
    "colab": {
     "base_uri": "https://localhost:8080/",
     "height": 70
    },
    "colab_type": "code",
    "executionInfo": {
     "elapsed": 651,
     "status": "ok",
     "timestamp": 1584607672641,
     "user": {
      "displayName": "Wang Huapeng",
      "photoUrl": "https://lh3.googleusercontent.com/a-/AOh14GhZeT_eN8i8VkCvGXMJ1JrrGvzGmZ2E61XsDT-e=s64",
      "userId": "09498284361622645166"
     },
     "user_tz": -480
    },
    "id": "AIfyZE7gWRFY",
    "outputId": "d5a097d0-d4fa-49aa-d205-c28b08e6e7ed",
    "ExecuteTime": {
     "end_time": "2023-10-23T11:12:36.260943600Z",
     "start_time": "2023-10-23T11:12:36.231388400Z"
    }
   },
   "outputs": [
    {
     "name": "stdout",
     "output_type": "stream",
     "text": [
      "国刑警学\n",
      "国刑警学院567\n",
      "中国刑\n"
     ]
    }
   ],
   "source": [
    "#切片  一次性取出多个元素  [开始位置：结束位置]\n",
    "#切片访问\n",
    "#格式: list_name[begin:end:step]\n",
    "#begin 表示起始位置(默认为0)，end 表示结束位置(默认为最后一个元素)，step 表示步长(默认为1)\n",
    "\n",
    "s = \"中国刑警学院567\"\n",
    "print(s[1:5])\n",
    "print(s[1:])\n",
    "print(s[:3])"
   ]
  },
  {
   "cell_type": "code",
   "execution_count": 4,
   "metadata": {
    "colab": {
     "base_uri": "https://localhost:8080/",
     "height": 52
    },
    "colab_type": "code",
    "executionInfo": {
     "elapsed": 946,
     "status": "ok",
     "timestamp": 1584607827042,
     "user": {
      "displayName": "Wang Huapeng",
      "photoUrl": "https://lh3.googleusercontent.com/a-/AOh14GhZeT_eN8i8VkCvGXMJ1JrrGvzGmZ2E61XsDT-e=s64",
      "userId": "09498284361622645166"
     },
     "user_tz": -480
    },
    "id": "_YlnW_xZWRBg",
    "outputId": "394b8466-31dc-4e86-c9f5-ab026559b07c",
    "ExecuteTime": {
     "end_time": "2023-10-23T11:12:40.067847400Z",
     "start_time": "2023-10-23T11:12:40.041655900Z"
    }
   },
   "outputs": [
    {
     "name": "stdout",
     "output_type": "stream",
     "text": [
      "6\n",
      "9\n"
     ]
    }
   ],
   "source": [
    "#获取序列的长度  len（序列名称） length\n",
    "print(len(\"Python\"))\n",
    "print(len(s))"
   ]
  },
  {
   "cell_type": "code",
   "execution_count": 5,
   "metadata": {
    "colab": {
     "base_uri": "https://localhost:8080/",
     "height": 34
    },
    "colab_type": "code",
    "executionInfo": {
     "elapsed": 1240,
     "status": "ok",
     "timestamp": 1581779223084,
     "user": {
      "displayName": "Wang Huapeng",
      "photoUrl": "https://lh3.googleusercontent.com/a-/AAuE7mBhqocIW-rrzElcykSAW7N2a3Oo0ekiYtM3ruGt=s64",
      "userId": "09498284361622645166"
     },
     "user_tz": -480
    },
    "id": "FntODUH1WQ-I",
    "outputId": "baa61c3f-0d45-451d-c97a-df4bab280722",
    "ExecuteTime": {
     "end_time": "2023-10-23T11:12:41.792279Z",
     "start_time": "2023-10-23T11:12:41.761633400Z"
    }
   },
   "outputs": [
    {
     "data": {
      "text/plain": "6"
     },
     "execution_count": 5,
     "metadata": {},
     "output_type": "execute_result"
    }
   ],
   "source": [
    "s = \"Python\"\n",
    "len(s)"
   ]
  },
  {
   "cell_type": "code",
   "execution_count": 6,
   "metadata": {
    "colab": {
     "base_uri": "https://localhost:8080/",
     "height": 34
    },
    "colab_type": "code",
    "executionInfo": {
     "elapsed": 864,
     "status": "ok",
     "timestamp": 1581779232255,
     "user": {
      "displayName": "Wang Huapeng",
      "photoUrl": "https://lh3.googleusercontent.com/a-/AAuE7mBhqocIW-rrzElcykSAW7N2a3Oo0ekiYtM3ruGt=s64",
      "userId": "09498284361622645166"
     },
     "user_tz": -480
    },
    "id": "usWznimaWQ2Y",
    "outputId": "06d37fb5-b5c9-459b-c24b-4704d4070a28",
    "ExecuteTime": {
     "end_time": "2023-10-23T11:12:45.775578800Z",
     "start_time": "2023-10-23T11:12:45.760416100Z"
    }
   },
   "outputs": [
    {
     "data": {
      "text/plain": "4"
     },
     "execution_count": 6,
     "metadata": {},
     "output_type": "execute_result"
    }
   ],
   "source": [
    "len([1,2,3,4])"
   ]
  },
  {
   "cell_type": "code",
   "execution_count": 7,
   "metadata": {
    "colab": {
     "base_uri": "https://localhost:8080/",
     "height": 34
    },
    "colab_type": "code",
    "executionInfo": {
     "elapsed": 1060,
     "status": "ok",
     "timestamp": 1584607911557,
     "user": {
      "displayName": "Wang Huapeng",
      "photoUrl": "https://lh3.googleusercontent.com/a-/AOh14GhZeT_eN8i8VkCvGXMJ1JrrGvzGmZ2E61XsDT-e=s64",
      "userId": "09498284361622645166"
     },
     "user_tz": -480
    },
    "id": "rOxNhST8WQoY",
    "outputId": "b3fbf77a-7b69-4bf1-a395-f34df906fac4",
    "ExecuteTime": {
     "end_time": "2023-10-23T11:12:50.865686200Z",
     "start_time": "2023-10-23T11:12:50.811140100Z"
    }
   },
   "outputs": [
    {
     "data": {
      "text/plain": "2"
     },
     "execution_count": 7,
     "metadata": {},
     "output_type": "execute_result"
    }
   ],
   "source": [
    "#获取二维列表的长度\n",
    "lst_1 = [[1,2,3],[3,4,5]]\n",
    "len(lst_1)"
   ]
  },
  {
   "cell_type": "code",
   "execution_count": 8,
   "metadata": {
    "colab": {
     "base_uri": "https://localhost:8080/",
     "height": 34
    },
    "colab_type": "code",
    "executionInfo": {
     "elapsed": 910,
     "status": "ok",
     "timestamp": 1581779381202,
     "user": {
      "displayName": "Wang Huapeng",
      "photoUrl": "https://lh3.googleusercontent.com/a-/AAuE7mBhqocIW-rrzElcykSAW7N2a3Oo0ekiYtM3ruGt=s64",
      "userId": "09498284361622645166"
     },
     "user_tz": -480
    },
    "id": "ihfz6ijhWQUk",
    "outputId": "fd091a75-8833-45b6-fa59-d72242f9c596",
    "ExecuteTime": {
     "end_time": "2023-10-23T11:12:53.548012200Z",
     "start_time": "2023-10-23T11:12:53.516168Z"
    }
   },
   "outputs": [
    {
     "data": {
      "text/plain": "3"
     },
     "execution_count": 8,
     "metadata": {},
     "output_type": "execute_result"
    }
   ],
   "source": [
    "#获取元组的长度\n",
    "tup_1 = (1,2,3)\n",
    "len(tup_1)"
   ]
  },
  {
   "cell_type": "code",
   "execution_count": 9,
   "metadata": {
    "colab": {
     "base_uri": "https://localhost:8080/",
     "height": 34
    },
    "colab_type": "code",
    "executionInfo": {
     "elapsed": 1424,
     "status": "ok",
     "timestamp": 1584607972138,
     "user": {
      "displayName": "Wang Huapeng",
      "photoUrl": "https://lh3.googleusercontent.com/a-/AOh14GhZeT_eN8i8VkCvGXMJ1JrrGvzGmZ2E61XsDT-e=s64",
      "userId": "09498284361622645166"
     },
     "user_tz": -480
    },
    "id": "WMKfQJajZguQ",
    "outputId": "f91eb8e3-5f80-473f-ace3-d96fccac8f2b",
    "ExecuteTime": {
     "end_time": "2023-10-23T11:12:55.080575500Z",
     "start_time": "2023-10-23T11:12:55.047410700Z"
    }
   },
   "outputs": [
    {
     "data": {
      "text/plain": "[1, 2, 3, 400]"
     },
     "execution_count": 9,
     "metadata": {},
     "output_type": "execute_result"
    }
   ],
   "source": [
    "#更新列表\n",
    "#添加元素 append（）\n",
    "lst_1 = [1,2,3]\n",
    "lst_1.append(400)\n",
    "lst_1"
   ]
  },
  {
   "cell_type": "code",
   "execution_count": 12,
   "metadata": {
    "colab": {
     "base_uri": "https://localhost:8080/",
     "height": 34
    },
    "colab_type": "code",
    "executionInfo": {
     "elapsed": 1114,
     "status": "ok",
     "timestamp": 1584608079933,
     "user": {
      "displayName": "Wang Huapeng",
      "photoUrl": "https://lh3.googleusercontent.com/a-/AOh14GhZeT_eN8i8VkCvGXMJ1JrrGvzGmZ2E61XsDT-e=s64",
      "userId": "09498284361622645166"
     },
     "user_tz": -480
    },
    "id": "VePravN2ZgnZ",
    "outputId": "52fe7a41-51fb-4691-fd57-7d2ff43c5314"
   },
   "outputs": [
    {
     "data": {
      "text/plain": [
       "[500, 1, 2, 3]"
      ]
     },
     "execution_count": 12,
     "metadata": {
      "tags": []
     },
     "output_type": "execute_result"
    }
   ],
   "source": [
    "lst_1 = [1,2,3]\n",
    "lst_1.insert(0,500)  #第一个参数指定位置，第二个参数是要插入的元素\n",
    "lst_1"
   ]
  },
  {
   "cell_type": "code",
   "execution_count": 13,
   "metadata": {
    "colab": {
     "base_uri": "https://localhost:8080/",
     "height": 34
    },
    "colab_type": "code",
    "executionInfo": {
     "elapsed": 1705,
     "status": "ok",
     "timestamp": 1584608125718,
     "user": {
      "displayName": "Wang Huapeng",
      "photoUrl": "https://lh3.googleusercontent.com/a-/AOh14GhZeT_eN8i8VkCvGXMJ1JrrGvzGmZ2E61XsDT-e=s64",
      "userId": "09498284361622645166"
     },
     "user_tz": -480
    },
    "id": "ZiNvKYHHZgf0",
    "outputId": "715af0b7-3315-4354-cfcf-44f68849dc48"
   },
   "outputs": [
    {
     "data": {
      "text/plain": [
       "[1, 2, 3, 4, 5]"
      ]
     },
     "execution_count": 13,
     "metadata": {
      "tags": []
     },
     "output_type": "execute_result"
    }
   ],
   "source": [
    "#合并列表\n",
    "lst_1 = [1,2,3]\n",
    "lst_2 = [4,5]\n",
    "lst_1.extend(lst_2)\n",
    "lst_1"
   ]
  },
  {
   "cell_type": "code",
   "execution_count": null,
   "metadata": {
    "colab": {
     "base_uri": "https://localhost:8080/",
     "height": 34
    },
    "colab_type": "code",
    "executionInfo": {
     "elapsed": 1616,
     "status": "ok",
     "timestamp": 1581779781868,
     "user": {
      "displayName": "Wang Huapeng",
      "photoUrl": "https://lh3.googleusercontent.com/a-/AAuE7mBhqocIW-rrzElcykSAW7N2a3Oo0ekiYtM3ruGt=s64",
      "userId": "09498284361622645166"
     },
     "user_tz": -480
    },
    "id": "SluuQnyYZgYn",
    "outputId": "acb1950e-6bd6-4f5d-ca56-ca75bf3d344e"
   },
   "outputs": [
    {
     "data": {
      "text/plain": [
       "[1, 2, 3, 4, 5]"
      ]
     },
     "execution_count": 15,
     "metadata": {
      "tags": []
     },
     "output_type": "execute_result"
    }
   ],
   "source": [
    "lst_1 = [1,2,3]\n",
    "lst_2 = [4,5]\n",
    "lst_3 = lst_1+lst_2  #用+号合并\n",
    "lst_3"
   ]
  },
  {
   "cell_type": "code",
   "execution_count": null,
   "metadata": {
    "colab": {
     "base_uri": "https://localhost:8080/",
     "height": 34
    },
    "colab_type": "code",
    "executionInfo": {
     "elapsed": 1014,
     "status": "ok",
     "timestamp": 1581779871422,
     "user": {
      "displayName": "Wang Huapeng",
      "photoUrl": "https://lh3.googleusercontent.com/a-/AAuE7mBhqocIW-rrzElcykSAW7N2a3Oo0ekiYtM3ruGt=s64",
      "userId": "09498284361622645166"
     },
     "user_tz": -480
    },
    "id": "bPf1TwC5ZgVv",
    "outputId": "db1a8286-ac29-4607-ee56-b3a193d61e38"
   },
   "outputs": [
    {
     "data": {
      "text/plain": [
       "[1, 3]"
      ]
     },
     "execution_count": 16,
     "metadata": {
      "tags": []
     },
     "output_type": "execute_result"
    }
   ],
   "source": [
    "#删除元素\n",
    "lst_1 = [1,2,3]\n",
    "del lst_1[1]\n",
    "lst_1"
   ]
  },
  {
   "cell_type": "code",
   "execution_count": null,
   "metadata": {
    "colab": {
     "base_uri": "https://localhost:8080/",
     "height": 34
    },
    "colab_type": "code",
    "executionInfo": {
     "elapsed": 1080,
     "status": "ok",
     "timestamp": 1581779978788,
     "user": {
      "displayName": "Wang Huapeng",
      "photoUrl": "https://lh3.googleusercontent.com/a-/AAuE7mBhqocIW-rrzElcykSAW7N2a3Oo0ekiYtM3ruGt=s64",
      "userId": "09498284361622645166"
     },
     "user_tz": -480
    },
    "id": "KXOORFd6ZgCZ",
    "outputId": "90094003-b551-45ee-c4c2-1f28d2f95eb1"
   },
   "outputs": [
    {
     "data": {
      "text/plain": [
       "[1, 2, 3, 5, 8, 9]"
      ]
     },
     "execution_count": 17,
     "metadata": {
      "tags": []
     },
     "output_type": "execute_result"
    }
   ],
   "source": [
    "#排序\n",
    "lst_1 = [1,2,3,9,8,5]\n",
    "lst_1.sort()\n",
    "lst_1"
   ]
  },
  {
   "cell_type": "code",
   "execution_count": null,
   "metadata": {
    "colab": {
     "base_uri": "https://localhost:8080/",
     "height": 34
    },
    "colab_type": "code",
    "executionInfo": {
     "elapsed": 901,
     "status": "ok",
     "timestamp": 1581780046899,
     "user": {
      "displayName": "Wang Huapeng",
      "photoUrl": "https://lh3.googleusercontent.com/a-/AAuE7mBhqocIW-rrzElcykSAW7N2a3Oo0ekiYtM3ruGt=s64",
      "userId": "09498284361622645166"
     },
     "user_tz": -480
    },
    "id": "1FOWomdWbzE_",
    "outputId": "333128ac-41ef-456a-cb1c-812b1b4d66fb"
   },
   "outputs": [
    {
     "data": {
      "text/plain": [
       "[9, 8, 5, 3, 2, 1]"
      ]
     },
     "execution_count": 18,
     "metadata": {
      "tags": []
     },
     "output_type": "execute_result"
    }
   ],
   "source": [
    "#倒排序\n",
    "lst_1.reverse()\n",
    "lst_1"
   ]
  },
  {
   "cell_type": "markdown",
   "metadata": {
    "colab_type": "text",
    "id": "CQwISU8mcI31"
   },
   "source": [
    "元组不能修改，不支持上述操作"
   ]
  },
  {
   "cell_type": "code",
   "execution_count": null,
   "metadata": {
    "colab": {
     "base_uri": "https://localhost:8080/",
     "height": 34
    },
    "colab_type": "code",
    "executionInfo": {
     "elapsed": 1511,
     "status": "ok",
     "timestamp": 1581780272312,
     "user": {
      "displayName": "Wang Huapeng",
      "photoUrl": "https://lh3.googleusercontent.com/a-/AAuE7mBhqocIW-rrzElcykSAW7N2a3Oo0ekiYtM3ruGt=s64",
      "userId": "09498284361622645166"
     },
     "user_tz": -480
    },
    "id": "gD8rioa1by7T",
    "outputId": "972da32f-6037-4948-833f-11bc6ecd71ae"
   },
   "outputs": [
    {
     "name": "stdout",
     "output_type": "stream",
     "text": [
      "1 2 3 8 9 "
     ]
    }
   ],
   "source": [
    "#遍历列表元素\n",
    "lst_1 = [1,2,3,8,9]\n",
    "for i in lst_1:\n",
    "    print(i,end=\" \")"
   ]
  },
  {
   "cell_type": "code",
   "execution_count": null,
   "metadata": {
    "colab": {},
    "colab_type": "code",
    "id": "-R0Ba3O2fSL_"
   },
   "outputs": [],
   "source": [
    "\"\"\"\n",
    "列表操作符\n",
    "+ 用于合并列表\n",
    "* 用于重复列表元素\n",
    "in 用于判断元素是否存在于列表中\n",
    "for ... in ... 用于遍历列表元素\n",
    "\"\"\""
   ]
  },
  {
   "cell_type": "code",
   "execution_count": null,
   "metadata": {
    "colab": {},
    "colab_type": "code",
    "id": "_6kW4L39eZ32"
   },
   "outputs": [],
   "source": [
    "\"\"\"\n",
    "#元组函数\n",
    "len(tuple) 元组元素个数\n",
    "max(tuple) 元组元素中的最大值\n",
    "min(tuple) 元组元素中的最小值\n",
    "tuple(tuple) 将列表转换为元组\n",
    "\n",
    "#7、列表函数\n",
    "len(list) 列表元素个数\n",
    "max(list) 列表元素中的最大值\n",
    "min(list) 列表元素中的最小值\n",
    "list(seq) 将元组转换为列表\n",
    "\"\"\"\n",
    "#8、列表方法\n",
    "\"\"\"\n",
    "list.append(obj)\n",
    "在列表末尾添加新的对象\n",
    "list.count(obj)\n",
    "返回元素在列表中出现的次数\n",
    "list.extend(seq)\n",
    "在列表末尾一次性追加另一个序列中的多个值\n",
    "list.index(obj)\n",
    "返回查找对象的索引位置，如果没有找到对象则抛出异常\n",
    "list.insert(index, obj)\n",
    "将指定对象插入列表的指定位置\n",
    "list.pop([index=-1]])\n",
    "移除列表中的一个元素（默认最后一个元素），并且返回该元素的值\n",
    "list.remove(obj)\n",
    "移除列表中某个值的第一个匹配项\n",
    "list.reverse()\n",
    "反向排序列表的元素\n",
    "list.sort(cmp=None, key=None, reverse=False)\n",
    "对原列表进行排序，如果指定参数，则使用比较函数指定的比较函数\n",
    "list.clear()\n",
    "清空列表\n",
    "还可以使用 del list[:]、li = [] 等方式实现\n",
    "list.copy()\n",
    "复制列表\n",
    "默认使用等号赋值给另一个变量，实际上是引用列表变量。如果要实现\n"
   ]
  },
  {
   "cell_type": "code",
   "execution_count": null,
   "metadata": {
    "colab": {
     "base_uri": "https://localhost:8080/",
     "height": 34
    },
    "colab_type": "code",
    "executionInfo": {
     "elapsed": 1087,
     "status": "ok",
     "timestamp": 1583559594453,
     "user": {
      "displayName": "Wang Huapeng",
      "photoUrl": "https://lh3.googleusercontent.com/a-/AOh14GhZeT_eN8i8VkCvGXMJ1JrrGvzGmZ2E61XsDT-e=s64",
      "userId": "09498284361622645166"
     },
     "user_tz": -480
    },
    "id": "w5DIV5X4gZfd",
    "outputId": "6dc1553c-574c-4052-9df2-5c3f71baafed"
   },
   "outputs": [
    {
     "data": {
      "text/plain": [
       "[(2, 4), (4, 16), (6, 36)]"
      ]
     },
     "execution_count": 1,
     "metadata": {
      "tags": []
     },
     "output_type": "execute_result"
    }
   ],
   "source": [
    "#9、列表推导式\n",
    "\"\"\"\n",
    "列表推导式提供了从序列创建列表的简单途径。通常应用程序将一些操作应用于某个序列的每个元素，\n",
    "用其获得的结果作为生成新列表的元素，或者根据确定的判定条件创建子序列。\n",
    "\n",
    "每个列表推导式都在 for 之后跟一个表达式，然后有零到多个 for 或 if 子句。\n",
    "返回结果是一个根据表达从其后的 for 和 if 上下文环境中生成出来的列表。\n",
    "如果希望表达式推导出一个元组，就必须使用括号。\n",
    "\n",
    "\"\"\"\n",
    "\n",
    "#将列表中每个数值平方，获得一个新的列表：\n",
    "vec = [2, 4, 6]\n",
    "[(x, x**2) for x in vec]"
   ]
  },
  {
   "cell_type": "code",
   "execution_count": null,
   "metadata": {
    "colab": {
     "base_uri": "https://localhost:8080/",
     "height": 34
    },
    "colab_type": "code",
    "executionInfo": {
     "elapsed": 2041,
     "status": "ok",
     "timestamp": 1583559710415,
     "user": {
      "displayName": "Wang Huapeng",
      "photoUrl": "https://lh3.googleusercontent.com/a-/AOh14GhZeT_eN8i8VkCvGXMJ1JrrGvzGmZ2E61XsDT-e=s64",
      "userId": "09498284361622645166"
     },
     "user_tz": -480
    },
    "id": "xnXCKR_pgtGz",
    "outputId": "0b02ef42-a5cc-418d-d566-2dad4dcae29d"
   },
   "outputs": [
    {
     "data": {
      "text/plain": [
       "[12, 18]"
      ]
     },
     "execution_count": 3,
     "metadata": {
      "tags": []
     },
     "output_type": "execute_result"
    }
   ],
   "source": [
    "#用 if 子句作为过滤器：\n",
    "vec = [2, 4, 6]\n",
    "[3*x for x in vec if x > 3]"
   ]
  },
  {
   "cell_type": "code",
   "execution_count": null,
   "metadata": {
    "colab": {
     "base_uri": "https://localhost:8080/",
     "height": 34
    },
    "colab_type": "code",
    "executionInfo": {
     "elapsed": 1318,
     "status": "ok",
     "timestamp": 1583559824366,
     "user": {
      "displayName": "Wang Huapeng",
      "photoUrl": "https://lh3.googleusercontent.com/a-/AOh14GhZeT_eN8i8VkCvGXMJ1JrrGvzGmZ2E61XsDT-e=s64",
      "userId": "09498284361622645166"
     },
     "user_tz": -480
    },
    "id": "DgDCY6yghRsM",
    "outputId": "5ec6904f-88ba-4abc-f4c0-4402ac0ca95d"
   },
   "outputs": [
    {
     "data": {
      "text/plain": [
       "[8, 6, -18, 16, 12, -36, 24, 18, -54]"
      ]
     },
     "execution_count": 4,
     "metadata": {
      "tags": []
     },
     "output_type": "execute_result"
    }
   ],
   "source": [
    "#双循环\n",
    "vec1 = [2, 4, 6]\n",
    "vec2 = [4, 3, -9]\n",
    "\n",
    "[x*y for x in vec1 for y in vec2]"
   ]
  },
  {
   "cell_type": "code",
   "execution_count": null,
   "metadata": {
    "colab": {
     "base_uri": "https://localhost:8080/",
     "height": 34
    },
    "colab_type": "code",
    "executionInfo": {
     "elapsed": 1077,
     "status": "ok",
     "timestamp": 1583559862292,
     "user": {
      "displayName": "Wang Huapeng",
      "photoUrl": "https://lh3.googleusercontent.com/a-/AOh14GhZeT_eN8i8VkCvGXMJ1JrrGvzGmZ2E61XsDT-e=s64",
      "userId": "09498284361622645166"
     },
     "user_tz": -480
    },
    "id": "QetmTD2shdDp",
    "outputId": "9e24082d-916b-47c0-f39d-08501451a2d5"
   },
   "outputs": [
    {
     "data": {
      "text/plain": [
       "[8, 12, -54]"
      ]
     },
     "execution_count": 5,
     "metadata": {
      "tags": []
     },
     "output_type": "execute_result"
    }
   ],
   "source": [
    "[vec1[i]*vec2[i] for i in range(len(vec1))]"
   ]
  },
  {
   "cell_type": "code",
   "execution_count": null,
   "metadata": {
    "colab": {
     "base_uri": "https://localhost:8080/",
     "height": 34
    },
    "colab_type": "code",
    "executionInfo": {
     "elapsed": 1505,
     "status": "ok",
     "timestamp": 1583559704184,
     "user": {
      "displayName": "Wang Huapeng",
      "photoUrl": "https://lh3.googleusercontent.com/a-/AOh14GhZeT_eN8i8VkCvGXMJ1JrrGvzGmZ2E61XsDT-e=s64",
      "userId": "09498284361622645166"
     },
     "user_tz": -480
    },
    "id": "HdUdubDggrqE",
    "outputId": "59fb1002-b683-4a23-9ea4-a504a9dec657"
   },
   "outputs": [
    {
     "data": {
      "text/plain": [
       "['banana', 'loganberry', 'passion fruit']"
      ]
     },
     "execution_count": 2,
     "metadata": {
      "tags": []
     },
     "output_type": "execute_result"
    }
   ],
   "source": [
    "#对序列里每一个元素逐个调用某方法：\n",
    "freshfruit = ['  banana', '  loganberry ', 'passion fruit  ']\n",
    "[weapon.strip() for weapon in freshfruit]"
   ]
  },
  {
   "cell_type": "markdown",
   "metadata": {
    "colab_type": "text",
    "id": "dePp0kVqdHdA"
   },
   "source": [
    "# 第二节 字典和集合"
   ]
  },
  {
   "cell_type": "code",
   "execution_count": null,
   "metadata": {
    "colab": {},
    "colab_type": "code",
    "id": "Jv2bkroZhq0_"
   },
   "outputs": [],
   "source": [
    "#字典(dict)\n",
    "'''\n",
    "*字典是另一种可变容器模型，可存储任意类型对象\n",
    "*字典的每个键值(key=>value)对用冒号(:)分割，每个对之间用逗号(,)分割，整个字典包括在花括号({})中\n",
    "*键必须是唯一的，但值则不必\n",
    "*值可以是任意数据类型\n",
    "*键必须是不可变的，例如：数字、字符串、元组可以，但列表就不行\n",
    "*如果用字典里没有的键访问数据，会报错\n",
    "*字典的元素没有顺序，不能通过下标引用元素，通过键来引用\n",
    "*字典内部存放的顺序和 key 放入的顺序是没有关系的\n",
    "*格式如下:\n",
    "d = {key1 : value1, key2 : value2 }\n",
    "'''"
   ]
  },
  {
   "cell_type": "code",
   "execution_count": null,
   "metadata": {
    "colab": {
     "base_uri": "https://localhost:8080/",
     "height": 34
    },
    "colab_type": "code",
    "executionInfo": {
     "elapsed": 993,
     "status": "ok",
     "timestamp": 1581780803630,
     "user": {
      "displayName": "Wang Huapeng",
      "photoUrl": "https://lh3.googleusercontent.com/a-/AAuE7mBhqocIW-rrzElcykSAW7N2a3Oo0ekiYtM3ruGt=s64",
      "userId": "09498284361622645166"
     },
     "user_tz": -480
    },
    "id": "YqLa-rnwby3-",
    "outputId": "2555ad44-5f9d-4386-9ad1-1622cb27a521"
   },
   "outputs": [
    {
     "data": {
      "text/plain": [
       "{'english': 98, '数学': 95, '语文': 90}"
      ]
     },
     "execution_count": 29,
     "metadata": {
      "tags": []
     },
     "output_type": "execute_result"
    }
   ],
   "source": [
    "#字典（key/value）\n",
    "score = {\"语文\":90,\"数学\":95,\"english\":98}\n",
    "score"
   ]
  },
  {
   "cell_type": "code",
   "execution_count": null,
   "metadata": {
    "colab": {},
    "colab_type": "code",
    "id": "S8ROdC4Mbyxy"
   },
   "outputs": [],
   "source": [
    "speaker = {\"name\":\"mary\",\"age\":25}"
   ]
  },
  {
   "cell_type": "code",
   "execution_count": null,
   "metadata": {
    "colab": {
     "base_uri": "https://localhost:8080/",
     "height": 34
    },
    "colab_type": "code",
    "executionInfo": {
     "elapsed": 874,
     "status": "ok",
     "timestamp": 1581780947138,
     "user": {
      "displayName": "Wang Huapeng",
      "photoUrl": "https://lh3.googleusercontent.com/a-/AAuE7mBhqocIW-rrzElcykSAW7N2a3Oo0ekiYtM3ruGt=s64",
      "userId": "09498284361622645166"
     },
     "user_tz": -480
    },
    "id": "r8yEKPlxbyuj",
    "outputId": "ddac8853-4778-4c6e-c88f-fbba01241423"
   },
   "outputs": [
    {
     "data": {
      "text/plain": [
       "{'age': 24, 'name': {'first': 'Mary', 'last': 'Smith'}}"
      ]
     },
     "execution_count": 30,
     "metadata": {
      "tags": []
     },
     "output_type": "execute_result"
    }
   ],
   "source": [
    "who = {\"name\":{\"first\":\"Mary\",\"last\":\"Smith\"},\"age\":24}  #嵌套，元素还可以是一个字典\n",
    "who"
   ]
  },
  {
   "cell_type": "code",
   "execution_count": null,
   "metadata": {
    "colab": {
     "base_uri": "https://localhost:8080/",
     "height": 52
    },
    "colab_type": "code",
    "executionInfo": {
     "elapsed": 2455,
     "status": "ok",
     "timestamp": 1581781068898,
     "user": {
      "displayName": "Wang Huapeng",
      "photoUrl": "https://lh3.googleusercontent.com/a-/AAuE7mBhqocIW-rrzElcykSAW7N2a3Oo0ekiYtM3ruGt=s64",
      "userId": "09498284361622645166"
     },
     "user_tz": -480
    },
    "id": "aMfGC2ctbytb",
    "outputId": "775f99da-079e-40bc-a508-177081bee7ee"
   },
   "outputs": [
    {
     "name": "stdout",
     "output_type": "stream",
     "text": [
      "{'语文': 90, '数学': 95, 'english': 98}\n",
      "98\n"
     ]
    }
   ],
   "source": [
    "#打印字典\n",
    "print(score)\n",
    "print(score[\"english\"])"
   ]
  },
  {
   "cell_type": "code",
   "execution_count": null,
   "metadata": {
    "colab": {
     "base_uri": "https://localhost:8080/",
     "height": 34
    },
    "colab_type": "code",
    "executionInfo": {
     "elapsed": 863,
     "status": "ok",
     "timestamp": 1581781116053,
     "user": {
      "displayName": "Wang Huapeng",
      "photoUrl": "https://lh3.googleusercontent.com/a-/AAuE7mBhqocIW-rrzElcykSAW7N2a3Oo0ekiYtM3ruGt=s64",
      "userId": "09498284361622645166"
     },
     "user_tz": -480
    },
    "id": "NZe1calhbyl6",
    "outputId": "e6b76820-48f9-4fed-8908-d3329dfe2192"
   },
   "outputs": [
    {
     "data": {
      "text/plain": [
       "3"
      ]
     },
     "execution_count": 33,
     "metadata": {
      "tags": []
     },
     "output_type": "execute_result"
    }
   ],
   "source": [
    "#获取字典长度\n",
    "len(score)"
   ]
  },
  {
   "cell_type": "code",
   "execution_count": null,
   "metadata": {
    "colab": {
     "base_uri": "https://localhost:8080/",
     "height": 34
    },
    "colab_type": "code",
    "executionInfo": {
     "elapsed": 897,
     "status": "ok",
     "timestamp": 1581781224151,
     "user": {
      "displayName": "Wang Huapeng",
      "photoUrl": "https://lh3.googleusercontent.com/a-/AAuE7mBhqocIW-rrzElcykSAW7N2a3Oo0ekiYtM3ruGt=s64",
      "userId": "09498284361622645166"
     },
     "user_tz": -480
    },
    "id": "Z3aQ6PiVgKP5",
    "outputId": "658396e3-253d-45aa-c087-132a80e83e37"
   },
   "outputs": [
    {
     "data": {
      "text/plain": [
       "True"
      ]
     },
     "execution_count": 34,
     "metadata": {
      "tags": []
     },
     "output_type": "execute_result"
    }
   ],
   "source": [
    "#判断字典是否存在元素--in运算符\n",
    "\"english\" in score"
   ]
  },
  {
   "cell_type": "code",
   "execution_count": null,
   "metadata": {
    "colab": {},
    "colab_type": "code",
    "id": "eg7ipecnjHFE"
   },
   "outputs": [],
   "source": [
    "#1、访问字典  key value\n",
    "\n",
    "dis = {'a': 1, 'b': [1, 2, 3]}\n",
    "print(dis['b'][2])"
   ]
  },
  {
   "cell_type": "code",
   "execution_count": null,
   "metadata": {
    "colab": {},
    "colab_type": "code",
    "id": "-bwVcKGpjG38"
   },
   "outputs": [],
   "source": [
    "#2、修改字典\n",
    "\n",
    "dis = {'a': 1, 'b': [1, 2, 3], 9: {'name': 'hello'}}\n",
    "dis[9]['name'] = 999\n",
    "print(dis)"
   ]
  },
  {
   "cell_type": "code",
   "execution_count": null,
   "metadata": {
    "colab": {},
    "colab_type": "code",
    "id": "o7lFc852jGz9"
   },
   "outputs": [],
   "source": [
    "#3、删除字典\n",
    "\n",
    "dis = {'a': 1, 'b': [1, 2, 3], 9: {'name': 'hello'}}\n",
    "del dis[9]['name']\n",
    "print(dis)\n",
    "del dis "
   ]
  },
  {
   "cell_type": "code",
   "execution_count": null,
   "metadata": {
    "colab": {
     "base_uri": "https://localhost:8080/",
     "height": 34
    },
    "colab_type": "code",
    "executionInfo": {
     "elapsed": 1365,
     "status": "ok",
     "timestamp": 1581781383972,
     "user": {
      "displayName": "Wang Huapeng",
      "photoUrl": "https://lh3.googleusercontent.com/a-/AAuE7mBhqocIW-rrzElcykSAW7N2a3Oo0ekiYtM3ruGt=s64",
      "userId": "09498284361622645166"
     },
     "user_tz": -480
    },
    "id": "kExYtNOXgKLe",
    "outputId": "4c2fb72c-ca4f-470c-9089-5538bb5012ba"
   },
   "outputs": [
    {
     "name": "stdout",
     "output_type": "stream",
     "text": [
      "语文 数学 english "
     ]
    }
   ],
   "source": [
    "#遍历字典  keys() values()  items()\n",
    "score = {\"语文\":90,\"数学\":95,\"english\":98}\n",
    "for key in score.keys():\n",
    "    print(key,end=\" \")  #字典中元素是无序的，每次打印的结果可能不同"
   ]
  },
  {
   "cell_type": "code",
   "execution_count": null,
   "metadata": {
    "colab": {
     "base_uri": "https://localhost:8080/",
     "height": 70
    },
    "colab_type": "code",
    "executionInfo": {
     "elapsed": 1215,
     "status": "ok",
     "timestamp": 1581781607029,
     "user": {
      "displayName": "Wang Huapeng",
      "photoUrl": "https://lh3.googleusercontent.com/a-/AAuE7mBhqocIW-rrzElcykSAW7N2a3Oo0ekiYtM3ruGt=s64",
      "userId": "09498284361622645166"
     },
     "user_tz": -480
    },
    "id": "siZWflxMgKJH",
    "outputId": "e3ffb98c-5fd7-429e-fcc6-2a579ee2522e"
   },
   "outputs": [
    {
     "name": "stdout",
     "output_type": "stream",
     "text": [
      "('语文', 90)\n",
      "('数学', 95)\n",
      "('english', 98)\n"
     ]
    }
   ],
   "source": [
    "score = {\"语文\":90,\"数学\":95,\"english\":98}\n",
    "for item in score.items():\n",
    "    print(item)"
   ]
  },
  {
   "cell_type": "code",
   "execution_count": null,
   "metadata": {
    "colab": {
     "base_uri": "https://localhost:8080/",
     "height": 70
    },
    "colab_type": "code",
    "executionInfo": {
     "elapsed": 1386,
     "status": "ok",
     "timestamp": 1581781901162,
     "user": {
      "displayName": "Wang Huapeng",
      "photoUrl": "https://lh3.googleusercontent.com/a-/AAuE7mBhqocIW-rrzElcykSAW7N2a3Oo0ekiYtM3ruGt=s64",
      "userId": "09498284361622645166"
     },
     "user_tz": -480
    },
    "id": "YfIhnHLWgKD6",
    "outputId": "f75fe010-ef53-4b0c-cb61-ab4bc8ee76e9"
   },
   "outputs": [
    {
     "name": "stdout",
     "output_type": "stream",
     "text": [
      "score[语文]= 90\n",
      "score[数学]= 95\n",
      "score[english]= 98\n"
     ]
    }
   ],
   "source": [
    "#格式化输出结果\n",
    "score = {\"语文\":90,\"数学\":95,\"english\":98}\n",
    "for key,val in score.items():\n",
    "    print(\"score[%s]=\" %(key),val)"
   ]
  },
  {
   "cell_type": "code",
   "execution_count": null,
   "metadata": {
    "colab": {
     "base_uri": "https://localhost:8080/",
     "height": 34
    },
    "colab_type": "code",
    "executionInfo": {
     "elapsed": 995,
     "status": "ok",
     "timestamp": 1581782017064,
     "user": {
      "displayName": "Wang Huapeng",
      "photoUrl": "https://lh3.googleusercontent.com/a-/AAuE7mBhqocIW-rrzElcykSAW7N2a3Oo0ekiYtM3ruGt=s64",
      "userId": "09498284361622645166"
     },
     "user_tz": -480
    },
    "id": "rkmTHEsOgKAg",
    "outputId": "7d7b681f-6883-4ce4-8837-15ea60736078"
   },
   "outputs": [
    {
     "name": "stdout",
     "output_type": "stream",
     "text": [
      "{'语文': 99, '数学': 95, 'english': 98}\n"
     ]
    }
   ],
   "source": [
    "#更新字典\n",
    "score = {\"语文\":90,\"数学\":95,\"english\":98}\n",
    "score[\"语文\"] = 99\n",
    "print(score)"
   ]
  },
  {
   "cell_type": "code",
   "execution_count": null,
   "metadata": {
    "colab": {
     "base_uri": "https://localhost:8080/",
     "height": 34
    },
    "colab_type": "code",
    "executionInfo": {
     "elapsed": 1127,
     "status": "ok",
     "timestamp": 1581782121713,
     "user": {
      "displayName": "Wang Huapeng",
      "photoUrl": "https://lh3.googleusercontent.com/a-/AAuE7mBhqocIW-rrzElcykSAW7N2a3Oo0ekiYtM3ruGt=s64",
      "userId": "09498284361622645166"
     },
     "user_tz": -480
    },
    "id": "rAv6R_DSgJ91",
    "outputId": "4f953ffb-3604-4f5e-818e-c15926e1405a"
   },
   "outputs": [
    {
     "name": "stdout",
     "output_type": "stream",
     "text": [
      "{'语文': 90, '数学': 95, 'english': 98, '高等数学': 100}\n"
     ]
    }
   ],
   "source": [
    "score = {\"语文\":90,\"数学\":95,\"english\":98}\n",
    "score[\"高等数学\"] = 100\n",
    "print(score)"
   ]
  },
  {
   "cell_type": "code",
   "execution_count": null,
   "metadata": {
    "colab": {
     "base_uri": "https://localhost:8080/",
     "height": 34
    },
    "colab_type": "code",
    "executionInfo": {
     "elapsed": 886,
     "status": "ok",
     "timestamp": 1581782241938,
     "user": {
      "displayName": "Wang Huapeng",
      "photoUrl": "https://lh3.googleusercontent.com/a-/AAuE7mBhqocIW-rrzElcykSAW7N2a3Oo0ekiYtM3ruGt=s64",
      "userId": "09498284361622645166"
     },
     "user_tz": -480
    },
    "id": "FZ6-5vSTgJ5t",
    "outputId": "4d5a3c9d-8bd9-4ac9-d7f9-eda9672b3fc3"
   },
   "outputs": [
    {
     "name": "stdout",
     "output_type": "stream",
     "text": [
      "{'语文': 90, '数学': 95, 'english': 98, 'name': 'mary', 'age': 25}\n"
     ]
    }
   ],
   "source": [
    "#合并字典  update()\n",
    "score = {\"语文\":90,\"数学\":95,\"english\":98}\n",
    "speaker = {\"name\":\"mary\",\"age\":25}\n",
    "\n",
    "score.update(speaker)\n",
    "print(score)"
   ]
  },
  {
   "cell_type": "code",
   "execution_count": null,
   "metadata": {
    "colab": {
     "base_uri": "https://localhost:8080/",
     "height": 34
    },
    "colab_type": "code",
    "executionInfo": {
     "elapsed": 851,
     "status": "ok",
     "timestamp": 1581782357267,
     "user": {
      "displayName": "Wang Huapeng",
      "photoUrl": "https://lh3.googleusercontent.com/a-/AAuE7mBhqocIW-rrzElcykSAW7N2a3Oo0ekiYtM3ruGt=s64",
      "userId": "09498284361622645166"
     },
     "user_tz": -480
    },
    "id": "im-CxuPTgJzZ",
    "outputId": "288454d4-ed44-43df-ee0e-dbcbb7f15969"
   },
   "outputs": [
    {
     "name": "stdout",
     "output_type": "stream",
     "text": [
      "{'数学': 95, 'english': 98}\n"
     ]
    }
   ],
   "source": [
    "#删除字典中元素\n",
    "score = {\"语文\":90,\"数学\":95,\"english\":98}\n",
    "score.pop('语文')\n",
    "print(score)"
   ]
  },
  {
   "cell_type": "code",
   "execution_count": null,
   "metadata": {
    "colab": {
     "base_uri": "https://localhost:8080/",
     "height": 34
    },
    "colab_type": "code",
    "executionInfo": {
     "elapsed": 1072,
     "status": "ok",
     "timestamp": 1581782495694,
     "user": {
      "displayName": "Wang Huapeng",
      "photoUrl": "https://lh3.googleusercontent.com/a-/AAuE7mBhqocIW-rrzElcykSAW7N2a3Oo0ekiYtM3ruGt=s64",
      "userId": "09498284361622645166"
     },
     "user_tz": -480
    },
    "id": "uNVR-teOgJvS",
    "outputId": "0b17b99b-17c5-4f83-b3d1-3623fb954952"
   },
   "outputs": [
    {
     "data": {
      "text/plain": [
       "{}"
      ]
     },
     "execution_count": 49,
     "metadata": {
      "tags": []
     },
     "output_type": "execute_result"
    }
   ],
   "source": [
    "#清空字典\n",
    "score = {\"语文\":90,\"数学\":95,\"english\":98}\n",
    "score.clear()\n",
    "score"
   ]
  },
  {
   "cell_type": "code",
   "execution_count": null,
   "metadata": {
    "colab": {
     "base_uri": "https://localhost:8080/",
     "height": 34
    },
    "colab_type": "code",
    "executionInfo": {
     "elapsed": 2678,
     "status": "ok",
     "timestamp": 1583560647199,
     "user": {
      "displayName": "Wang Huapeng",
      "photoUrl": "https://lh3.googleusercontent.com/a-/AOh14GhZeT_eN8i8VkCvGXMJ1JrrGvzGmZ2E61XsDT-e=s64",
      "userId": "09498284361622645166"
     },
     "user_tz": -480
    },
    "id": "Bv4N8pKrkKvw",
    "outputId": "44a9b4b3-b188-4e81-8685-b2c69f5ee7e5"
   },
   "outputs": [
    {
     "data": {
      "text/plain": [
       "{'guido': 4127, 'jack': 4098, 'sape': 4139}"
      ]
     },
     "execution_count": 7,
     "metadata": {
      "tags": []
     },
     "output_type": "execute_result"
    }
   ],
   "source": [
    "#6、字典推导式\n",
    "#构造函数 dict() 直接从键值对元组列表中构建字典。如果有固定的模式，列表推导式指定特定的键值对：\n",
    "dict([('sape', 4139), ('guido', 4127), ('jack', 4098)])\n",
    "#此外，字典推导可以用来创建任意键和值的表达式词典：\n",
    "#{x: x**2 for x in (2, 4, 6)}"
   ]
  },
  {
   "cell_type": "code",
   "execution_count": null,
   "metadata": {
    "colab": {},
    "colab_type": "code",
    "id": "x7QOpoFEjZMM"
   },
   "outputs": [],
   "source": [
    "#字典函数\n",
    "\"\"\"\n",
    "len(dict) 计算字典元素个数，即键的总数\n",
    "str(dict) 输出字典，以可打印的字符串表示\n",
    "type(variable) 返回输入的变量类型，如果变量是字典就返回字典类型\n",
    "key in dict 判断键是否存在于字典中\n",
    "\n",
    "#字典方法\n",
    "dict.clear()\n",
    "删除字典内所有元素\n",
    "dict.copy()\n",
    "返回一个字典的浅复制\n",
    "dict.fromkeys(seq[, value])\n",
    "创建一个新字典，以序列 seq 中元素做字典的键，value 为字典所有键对应的初始值\n",
    "dict.get(key, default=None)\n",
    "返回指定键的值，如果值不在字典中返回默认值\n",
    "dict.items()\n",
    "以列表形式返回可遍历的(键, 值)元组数组\n",
    "dict.keys()\n",
    "以列表返回一个字典所有的键\n",
    "dict.values()\n",
    "以列表返回字典中的所有值\n",
    "dict.setdefault(key, default=None)\n",
    "如果 key 在字典中，返回对应的值。如果不在字典中，则插入 key 及设置的默认值 default，并返回 default ，default 默认值为 None。\n",
    "dict.pop(key[,default])\n",
    "删除字典给定键 key 所对应的值，返回值为被删除的值。key 值必须给出，否则返回 default 值。\n",
    "dict.popitem()\n",
    "随机返回并删除字典中的一对键和值(一般删除末尾对)\n",
    "dict.update(dict2)\n",
    "把字典参数 dict2 的键/值对更新到字典 dict 里\n",
    "\"\"\"\n"
   ]
  },
  {
   "cell_type": "code",
   "execution_count": null,
   "metadata": {
    "colab": {},
    "colab_type": "code",
    "id": "qv5T5tuSjZEE"
   },
   "outputs": [],
   "source": []
  },
  {
   "cell_type": "code",
   "execution_count": null,
   "metadata": {
    "colab": {
     "base_uri": "https://localhost:8080/",
     "height": 52
    },
    "colab_type": "code",
    "executionInfo": {
     "elapsed": 1034,
     "status": "ok",
     "timestamp": 1581782655599,
     "user": {
      "displayName": "Wang Huapeng",
      "photoUrl": "https://lh3.googleusercontent.com/a-/AAuE7mBhqocIW-rrzElcykSAW7N2a3Oo0ekiYtM3ruGt=s64",
      "userId": "09498284361622645166"
     },
     "user_tz": -480
    },
    "id": "q-qkUsKOla0-",
    "outputId": "6dcd3bd3-dd78-432b-cbd9-2ba079986bc4"
   },
   "outputs": [
    {
     "name": "stdout",
     "output_type": "stream",
     "text": [
      "{1, 2, 3, 4, 5, 6}\n"
     ]
    },
    {
     "data": {
      "text/plain": [
       "6"
      ]
     },
     "execution_count": 50,
     "metadata": {
      "tags": []
     },
     "output_type": "execute_result"
    }
   ],
   "source": [
    "#集合（set）：由一组无序排列的元素组成，用{}标示。\n",
    "#包括可变集合(set)和不可变集合(frozenset)\n",
    "set1={1,2,3,4,5,6,5,6}\n",
    "print(set1)\n",
    "len(set1)\n",
    "\n",
    "\"\"\"\n",
    "集合是一个无序不重复元素的序列\n",
    "\n",
    "1.创建集合\n",
    "可以使用大括号 {} 或者 set() 函数创建集合\n",
    "创建一个空集合必须用 set() 而不是 {}，因为 {} 是用来创建一个空字典\n",
    "set(value) 方式创建集合，value 可以是字符串、列表、元组、字典等序列类型\n",
    "创建、添加、修改等操作，集合会自动去重\n",
    "\"\"\"\n"
   ]
  },
  {
   "cell_type": "code",
   "execution_count": null,
   "metadata": {
    "colab": {
     "base_uri": "https://localhost:8080/",
     "height": 34
    },
    "colab_type": "code",
    "executionInfo": {
     "elapsed": 875,
     "status": "ok",
     "timestamp": 1581782740468,
     "user": {
      "displayName": "Wang Huapeng",
      "photoUrl": "https://lh3.googleusercontent.com/a-/AAuE7mBhqocIW-rrzElcykSAW7N2a3Oo0ekiYtM3ruGt=s64",
      "userId": "09498284361622645166"
     },
     "user_tz": -480
    },
    "id": "CvlH7QqBlaxW",
    "outputId": "b38ba915-98bd-4449-8546-9b8b6f36f9d3"
   },
   "outputs": [
    {
     "name": "stdout",
     "output_type": "stream",
     "text": [
      "{'P', 'n', 'h', 't', 'y', 'o'}\n"
     ]
    }
   ],
   "source": [
    "#创建集合\n",
    "set2 = set(\"Python\")\n",
    "print(set2)"
   ]
  },
  {
   "cell_type": "code",
   "execution_count": null,
   "metadata": {
    "colab": {
     "base_uri": "https://localhost:8080/",
     "height": 34
    },
    "colab_type": "code",
    "executionInfo": {
     "elapsed": 1514,
     "status": "ok",
     "timestamp": 1581782782562,
     "user": {
      "displayName": "Wang Huapeng",
      "photoUrl": "https://lh3.googleusercontent.com/a-/AAuE7mBhqocIW-rrzElcykSAW7N2a3Oo0ekiYtM3ruGt=s64",
      "userId": "09498284361622645166"
     },
     "user_tz": -480
    },
    "id": "_9md9olOlaoX",
    "outputId": "e4f2f022-0611-4fb9-88b7-d155f42f9c58"
   },
   "outputs": [
    {
     "name": "stdout",
     "output_type": "stream",
     "text": [
      "frozenset({'P', 'n', 'h', 't', 'y', 'o'})\n"
     ]
    }
   ],
   "source": [
    "set3 = frozenset('Python')\n",
    "print(set3)\n",
    "#备注：集合中的元素是无序的，因此不能通过下标来访问"
   ]
  },
  {
   "cell_type": "code",
   "execution_count": null,
   "metadata": {
    "colab": {
     "base_uri": "https://localhost:8080/",
     "height": 34
    },
    "colab_type": "code",
    "executionInfo": {
     "elapsed": 22399,
     "status": "ok",
     "timestamp": 1573118453866,
     "user": {
      "displayName": "Wang Huapeng",
      "photoUrl": "https://lh3.googleusercontent.com/a-/AAuE7mBhqocIW-rrzElcykSAW7N2a3Oo0ekiYtM3ruGt=s64",
      "userId": "09498284361622645166"
     },
     "user_tz": -480
    },
    "id": "iRifQOype3iv",
    "outputId": "f5675a58-6f58-476d-c822-ce698019c97a"
   },
   "outputs": [
    {
     "name": "stdout",
     "output_type": "stream",
     "text": [
      "{'Facebook', 'Runoob', 'Taobao', 'Google'}\n"
     ]
    }
   ],
   "source": [
    "#添加元素s.add( x )\n",
    "\"\"\"\n",
    "语法格式如下：\n",
    "set.add( x )\n",
    "将元素 val 添加到集合 set 中，如果元素已存在，则不进行任何操作：\n",
    "实例\n",
    "\"\"\"\n",
    "\n",
    "thisset = set((\"Google\", \"Runoob\", \"Taobao\"))\n",
    "thisset.add(\"Facebook\")\n",
    "print(thisset)"
   ]
  },
  {
   "cell_type": "code",
   "execution_count": null,
   "metadata": {
    "colab": {
     "base_uri": "https://localhost:8080/",
     "height": 52
    },
    "colab_type": "code",
    "executionInfo": {
     "elapsed": 1769,
     "status": "ok",
     "timestamp": 1583561335286,
     "user": {
      "displayName": "Wang Huapeng",
      "photoUrl": "https://lh3.googleusercontent.com/a-/AOh14GhZeT_eN8i8VkCvGXMJ1JrrGvzGmZ2E61XsDT-e=s64",
      "userId": "09498284361622645166"
     },
     "user_tz": -480
    },
    "id": "6YiXqRf7lxQ6",
    "outputId": "d9703741-fb10-422b-8b4d-badbf2665c67"
   },
   "outputs": [
    {
     "name": "stdout",
     "output_type": "stream",
     "text": [
      "{'Taobao', 1, 3, 'Google', 'Runoob'}\n",
      "{'Taobao', 1, 3, 4, 5, 6, 'Google', 'Runoob'}\n"
     ]
    }
   ],
   "source": [
    "#也可以用 update 方法批量添加元素，参数可以是列表，元组，字典等：s.update( x )\n",
    "thisset = set((\"Google\", \"Runoob\", \"Taobao\"))\n",
    "thisset.update({1,3})\n",
    "print(thisset)\n",
    "thisset.update([1,4],[5,6])  \n",
    "print(thisset)"
   ]
  },
  {
   "cell_type": "code",
   "execution_count": null,
   "metadata": {
    "colab": {},
    "colab_type": "code",
    "id": "xjmBk-qMlxJf"
   },
   "outputs": [],
   "source": [
    "#3、移除元素 s.remove( x )\n",
    "#如果存在元素 val 则移除，不存在就报错：\n",
    "\n",
    "thisset = set((\"Google\", \"Runoob\", \"Taobao\"))\n",
    "thisset.remove(\"Taobao\")\n",
    "print(thisset)"
   ]
  },
  {
   "cell_type": "code",
   "execution_count": null,
   "metadata": {
    "colab": {},
    "colab_type": "code",
    "id": "lR59mbVolxGR"
   },
   "outputs": [],
   "source": [
    "thisset.remove(\"Facebook\")   # 不存在会发生错误"
   ]
  },
  {
   "cell_type": "code",
   "execution_count": null,
   "metadata": {
    "colab": {},
    "colab_type": "code",
    "id": "j50KA0kRlxDP"
   },
   "outputs": [],
   "source": [
    "#如果存在元素 val 则移除，不存在也不会报错：s.discard( x )\n",
    "\n",
    "thisset = set((\"Google\", \"Runoob\", \"Taobao\"))\n",
    "thisset.discard(\"Facebook\")  # 不存在不会发生错误\n",
    "print(thisset)"
   ]
  },
  {
   "cell_type": "code",
   "execution_count": null,
   "metadata": {
    "colab": {},
    "colab_type": "code",
    "id": "XoxNSyYOlxAV"
   },
   "outputs": [],
   "source": [
    "#随机移除一个元素：s.pop() \n",
    "\n",
    "thisset = set((\"Google\", \"Runoob\", \"Taobao\", \"Facebook\"))\n",
    "x = thisset.pop()\n",
    " \n",
    "print(x)"
   ]
  },
  {
   "cell_type": "code",
   "execution_count": null,
   "metadata": {
    "colab": {},
    "colab_type": "code",
    "id": "wNco_bcolwvk"
   },
   "outputs": [],
   "source": [
    "#4、元素个数\n",
    "#与其他序列一样，可以用 len(set) 获取集合的元素个数。\n",
    "thisset = set((\"Google\", \"Runoob\", \"Taobao\"))\n",
    "len(thisset)"
   ]
  },
  {
   "cell_type": "code",
   "execution_count": null,
   "metadata": {
    "colab": {},
    "colab_type": "code",
    "id": "gaoQltkVltGC"
   },
   "outputs": [],
   "source": [
    "#5、清空集合\n",
    "set.clear(thisset)"
   ]
  },
  {
   "cell_type": "code",
   "execution_count": null,
   "metadata": {
    "colab": {},
    "colab_type": "code",
    "id": "NE5ncK1VnebD"
   },
   "outputs": [],
   "source": [
    "#6、判断元素是否存在val in set\n",
    "thisset = set((\"Google\", \"Runoob\", \"Taobao\"))\n",
    "\"Facebook\" in thisset"
   ]
  },
  {
   "cell_type": "code",
   "execution_count": null,
   "metadata": {
    "colab": {},
    "colab_type": "code",
    "id": "9Kq4OV9kneXq"
   },
   "outputs": [],
   "source": [
    "\"\"\"7、其他方法\n",
    "set.copy()\n",
    "复制集合\n",
    "set.difference(set2)\n",
    "求差集，在 set 中却不在 set2 中\n",
    "set.intersection(set2)\n",
    "求交集，同时存在于 set 和 set2 中\n",
    "set.union(set2)\n",
    "求并集，所有 set 和 set2 的元素\n",
    "set.symmetric_difference(set2)\n",
    "求对称差集，不同时出现在两个集合中的元素\n",
    "set.isdisjoint(set2)\n",
    "如果两个集合没有相同的元素，返回 True\n",
    "set.issubset(set2)\n",
    "如果 set 是 set2 的一个子集，返回 True\n",
    "set.issuperset(set2)\n",
    "如果 set 是 set2 的一个超集，返回 True"
   ]
  },
  {
   "cell_type": "code",
   "execution_count": null,
   "metadata": {
    "colab": {},
    "colab_type": "code",
    "id": "hEDdKsB-neS2"
   },
   "outputs": [],
   "source": [
    "#8、集合计算\n",
    "\n",
    "a = set('abracadabra')\n",
    "b = set('alacazam')\n",
    "\n",
    "print(a)                                  \n",
    "\n",
    "print(a - b)                             \n",
    "\n",
    "print(a | b)                             \n",
    "\n",
    "print(a & b)                              \n",
    "\n",
    "print(a ^ b) "
   ]
  },
  {
   "cell_type": "code",
   "execution_count": null,
   "metadata": {
    "colab": {
     "base_uri": "https://localhost:8080/",
     "height": 34
    },
    "colab_type": "code",
    "executionInfo": {
     "elapsed": 1188,
     "status": "ok",
     "timestamp": 1583561511254,
     "user": {
      "displayName": "Wang Huapeng",
      "photoUrl": "https://lh3.googleusercontent.com/a-/AOh14GhZeT_eN8i8VkCvGXMJ1JrrGvzGmZ2E61XsDT-e=s64",
      "userId": "09498284361622645166"
     },
     "user_tz": -480
    },
    "id": "M9DFmLtDntMT",
    "outputId": "28cbf58c-32db-4de1-efc8-13e23f476e97"
   },
   "outputs": [
    {
     "name": "stdout",
     "output_type": "stream",
     "text": [
      "{'r', 'd'}\n"
     ]
    }
   ],
   "source": [
    "#9、集合推导式\n",
    "a = {x for x in 'abracadabra' if x not in 'abc'}\n",
    "print(a)"
   ]
  },
  {
   "cell_type": "code",
   "execution_count": null,
   "metadata": {
    "colab": {},
    "colab_type": "code",
    "id": "xOXKfD50EvMf"
   },
   "outputs": [],
   "source": []
  }
 ],
 "metadata": {
  "colab": {
   "authorship_tag": "ABX9TyNMVQcDF+C2iXQO6UdF8SVj",
   "collapsed_sections": [],
   "name": "Python基础教程2_列表元组字典集合.ipynb",
   "provenance": [
    {
     "file_id": "1XNoEzQWdHF-RkmMRDiuHtTplAUuy8ZKO",
     "timestamp": 1581783052367
    }
   ]
  },
  "kernelspec": {
   "display_name": "Python 3.7.4 ('audio')",
   "language": "python",
   "name": "python3"
  },
  "language_info": {
   "codemirror_mode": {
    "name": "ipython",
    "version": 3
   },
   "file_extension": ".py",
   "mimetype": "text/x-python",
   "name": "python",
   "nbconvert_exporter": "python",
   "pygments_lexer": "ipython3",
   "version": "3.7.4"
  },
  "vscode": {
   "interpreter": {
    "hash": "dba0fc29436a362a45c694fed386f5b492e1934387027fdb7e0e9133769704e0"
   }
  }
 },
 "nbformat": 4,
 "nbformat_minor": 0
}
