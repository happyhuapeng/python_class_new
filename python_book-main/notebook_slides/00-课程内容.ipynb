{
 "cells": [
  {
   "cell_type": "markdown",
   "metadata": {
    "slideshow": {
     "slide_type": "slide"
    }
   },
   "source": [
    "# <center>Python 编程从入门到提高</center>\n",
    "\n",
    "##### <center>清华大学出版社</center>\n",
    "\n",
    "<br>\n",
    "<br>\n",
    "<br>\n",
    "\n",
    "#### <center>刘臣</center>\n",
    "\n",
    "\n",
    "\n",
    "##### <center>https://github.com/hitlic/python_book</center>"
   ]
  },
  {
   "cell_type": "markdown",
   "metadata": {
    "slideshow": {
     "slide_type": "slide"
    }
   },
   "source": [
    "## 课程介绍\n",
    "\n",
    "- Python 编程从入门到提高\n",
    "- 语言： Python\n",
    "- 教学方式：讲授 + 上机"
   ]
  },
  {
   "cell_type": "markdown",
   "metadata": {
    "slideshow": {
     "slide_type": "subslide"
    }
   },
   "source": [
    "## 课程内容\n",
    "- Python概述\n",
    "- Python编程基础\n",
    "- 常用数据结构\n",
    "- 函数与函数编程\n",
    "- 面向对象编程基础\n",
    "- 面向对象编程进阶\n",
    "- 调试与测试\n",
    "- 数据处理与分析基础\n",
    "- 性能优化技术*\n",
    "- 网络编程与并发处理\n",
    "- Web 的概念与原理\n",
    "- Python Web 开发技术"
   ]
  }
 ],
 "metadata": {
  "author": "liuchen",
  "celltoolbar": "幻灯片",
  "kernelspec": {
   "display_name": "Python 3",
   "language": "python",
   "name": "python3"
  },
  "language_info": {
   "codemirror_mode": {
    "name": "ipython",
    "version": 3
   },
   "file_extension": ".py",
   "mimetype": "text/x-python",
   "name": "python",
   "nbconvert_exporter": "python",
   "pygments_lexer": "ipython3",
   "version": "3.8.1"
  },
  "rise": {
   "enable_chalkboard": true,
   "footer": "",
   "progress": true,
   "scroll": true,
   "slideNumber": true
  },
  "toc": {
   "base_numbering": 1,
   "nav_menu": {},
   "number_sections": false,
   "sideBar": true,
   "skip_h1_title": false,
   "title_cell": "Table of Contents",
   "title_sidebar": "Contents",
   "toc_cell": false,
   "toc_position": {},
   "toc_section_display": true,
   "toc_window_display": false
  },
  "url": "https://github.com/hitlic/python_book"
 },
 "nbformat": 4,
 "nbformat_minor": 2
}
