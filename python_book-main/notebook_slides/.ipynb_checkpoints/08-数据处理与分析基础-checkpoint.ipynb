{
 "cells": [
  {
   "cell_type": "markdown",
   "metadata": {
    "slideshow": {
     "slide_type": "slide"
    }
   },
   "source": [
    "# <center>第8章 数据处理与分析基础</center>\n",
    "\n",
    "<br>\n",
    "\n",
    "- [8.1 文件读写](#8.1-文件读写)\n",
    "  - [8.1.1 文件的打开和关闭](#8.1.1-文件的打开和关闭)\n",
    "  - [8.1.2 路径管理](#8.1.2-路径管理)\n",
    "  - [8.1.3 文本文件读写](#8.1.3-文本文件读写)\n",
    "- [8.2 上下文管理](#8.2-上下文管理)\n",
    "  - [8.2.1 `with`语句块](#8.2.1-with语句块)\n",
    "  - [8.2.2 上下文管理协议*](#8.2.2-上下文管理协议*)\n",
    "- [8.3 数据库编程](#8.3-数据库编程)\n",
    "  - [8.3.1 数据库应用编程接口](#8.3.1-数据库应用编程接口)\n",
    "  - [8.3.2 嵌入式数据库编程](#8.3.2-嵌入式数据库编程)\n",
    "- [8.4 正则表达式*](#8.4-正则表达式*)\n",
    "  - [8.4.1 正则表达式匹配规则](#8.4.1-正则表达式匹配规则)\n",
    "  - [8.4.2 正则表达式的应用](#8.4.2-正则表达式的应用)\n",
    "  - [8.4.3 正则表达式的编译](#8.4.3-正则表达式的编译)\n",
    "- [8.5 数据分析中的数据结构 *](#8.5-数据分析中的数据结构-*)\n",
    "  - [8.5.1 NumPy](#8.5.1-NumPy)\n",
    "  - [8.5.2 SciPy](#8.5.2-SciPy)\n",
    "- [8.6 数据可视化*](#8.6-数据可视化*)\n",
    "  - [8.6.1 简单绘图](#8.6.1-简单绘图)\n",
    "  - [8.6.2 图像的配置与修饰](#8.6.2-图像的配置与修饰)\n",
    "  - [8.6.3 多子图图像的绘制](#8.6.3-多子图图像的绘制)\n",
    "  - [8.6.4 三维图像的绘制](#8.6.4-三维图像的绘制<br>)\n",
    "- [8.7 Pandas基础*](#8.7-Pandas基础*)\n",
    "  - [8.7.1 数据结构](#8.7.1-数据结构)\n",
    "  - [8.7.2 数据访问](#8.7.2-数据访问)\n",
    "- [8.8 Scikit-learn基础*](#8.8-Scikit-learn基础*)\n",
    "  - [8.8.1 Scikit-learn简介](#8.8.1-Scikit-learn简介)\n",
    "  - [8.8.2 分类问题](#8.8.2-分类问题)\n",
    "  - [8.8.3 聚类问题](#8.8.3-聚类问题)"
   ]
  },
  {
   "cell_type": "markdown",
   "metadata": {
    "slideshow": {
     "slide_type": "slide"
    }
   },
   "source": [
    "## 8.1 文件读写\n",
    "\n",
    "### 8.1.1 文件的打开和关闭\n",
    "\n",
    "- 为什么要打开和关闭文件？\n",
    "  - 打开文件是指将访问文件所需要的属性 信息从外存读取至内存之中，每次文件访问都会利用这些信息来对文件进行读、写操作， 从而避免频繁的文件检索，提升文件访问的效率\n",
    "  - 文件访问任务完成之后，需要关闭文 件以释放这些文件信息，同时将文件属性信息的变化写入磁盘文件之中\n",
    "\n",
    "- `open`函数\n",
    "  - 开文件并返回一个文件对象"
   ]
  },
  {
   "cell_type": "markdown",
   "metadata": {
    "slideshow": {
     "slide_type": "subslide"
    }
   },
   "source": [
    "- `open`函数的参数\n",
    "  - `file`： 取值为一个类路径对象(path-like object)\n",
    "  - `mode`:模式字符串，用于指定文件的打开模式"
   ]
  },
  {
   "cell_type": "markdown",
   "metadata": {
    "slideshow": {
     "slide_type": "subslide"
    }
   },
   "source": [
    "- 文件的打开模式\n",
    "\n",
    "|模式字符 |含义|\n",
    "|:--|:--|\n",
    "|'r' |读取模式(默认)|\n",
    "| 'w' |写入模式，如果文件存在则将其覆盖|\n",
    "| 'a' |写入模式，如果文件存在则将写入内容追加至尾部 'x' 排它性创建模式，如果文件已存在则打开失败 'b' 二进制模式|\n",
    "| 't' |文本模式(默认)|\n",
    "| '+' |更新模式(可读可写)|\n",
    "\n"
   ]
  },
  {
   "cell_type": "markdown",
   "metadata": {},
   "source": [
    "- 组合打开模式\n",
    "  - 'rb'：以二进制文件读取模式打开\n",
    "  - 'wb'：以二进制文件写 入模式打开\n",
    "  - 'a+'：以文本文件读取和追加模式打开\n",
    "  - 'ab+'：以二进制文件 读取和追加模式打开\n",
    "  - 'w+'：以文本文件读写模式打开"
   ]
  },
  {
   "cell_type": "markdown",
   "metadata": {
    "slideshow": {
     "slide_type": "subslide"
    }
   },
   "source": [
    "- 文件访问的过程\n",
    "\n",
    "```python\n",
    ">>> f = open('/path/to/file', 'rt') ...\n",
    "# 文件读写操作\n",
    "...\n",
    ">>> f.close()\n",
    "```"
   ]
  },
  {
   "cell_type": "markdown",
   "metadata": {
    "slideshow": {
     "slide_type": "subslide"
    }
   },
   "source": [
    "### 8.1.2 路径管理\n",
    "\n",
    "- `os`模块和`os.path`子模块\n",
    "\n",
    "|函数 | 功能|\n",
    "|:--|:--|\n",
    "|`os.listdir(path)`|返回 `path` 文件夹中的文件名构成的列表|\n",
    "|`os.path.exists(path)`|路径 `path` 是否存在|\n",
    "|`os.path.isabs(path)`|`path` 是否为绝对路径|\n",
    "|`os.path.isdir(path)`|`path` 是否为目录|\n",
    "|`os.path.isfile(path)`|`path` 是否为文件|\n",
    "|`os.path.abspath(path)`|获取 `path` 的绝对路径|\n",
    "|`os.path.basename(path)`|获取 `path` 的最后一项(文件名或最底层文件夹) |\n",
    "|`os.path.dirname(path)`|获取 `path` 中 `basename` 的所在路径|\n",
    "|`os.path.split(path)`|将 `path` 切分为 `dirname` 和 `basename` 两部分|\n",
    "|`os.path.getsize(path)`|获取文件的大小(字节) |\n",
    "|`os.path.getatime(path)`|获取文件或路径的最后访问时间(秒) |\n",
    "|`os.path.getmtime(path)`|获取文件或路径的最后修改时间(秒) |\n",
    "|`os.path.join(path1, path2, ...)`|将多个路径片段拼接为一个合法的路径|\n"
   ]
  },
  {
   "cell_type": "markdown",
   "metadata": {
    "slideshow": {
     "slide_type": "subslide"
    }
   },
   "source": [
    "- 首先需要在计算机 桌面上创建文件'file.txt'，然后打开命令行终端并进入用户主目录，进入Python环境并执行如下命令\n",
    "\n",
    "```python\n",
    ">>> from os.path import *\n",
    ">>> path = join('./Desktop/', 'file.txt')\n",
    ">>> abs_path = abspath(path)\n",
    ">>> abs_path\n",
    "'/Users/username/Desktop/file.txt'\n",
    ">>> isabs(abs_path)\n",
    "True\n",
    ">>> isfile(abs_path)\n",
    "True\n",
    ">>> isdir(abs_path)\n",
    "False\n",
    ">>> basename(abs_path)\n",
    "'file.txt'\n",
    ">>> dirname(abs_path)\n",
    "'/Users/username/Desktop'\n",
    ">>> split(abs_path)\n",
    "('/Users/username/Desktop', 'file.txt')\n",
    "```"
   ]
  },
  {
   "cell_type": "markdown",
   "metadata": {
    "slideshow": {
     "slide_type": "subslide"
    }
   },
   "source": [
    "- `pathlib`模块\n",
    "  - 对路径管理功能进行了封装，该模块的关键组成部分是三个类Path、 WindowsPath和PosixPath，分别用于处理 Windows 风格 的路径及 Posix(Linux、macOS 等)风格的路径\n",
    "\n",
    "```python\n",
    ">>> from pathlib import Path\n",
    ">>> path = Path('./Desktop')           # 创建Path对象\n",
    ">>> path = path / 'file.txt'           # 路径拼接\n",
    ">>> path\n",
    "PosixPath('Desktop/file.txt')\n",
    ">>> path = path.absolute()             # 获取绝对路径\n",
    ">>> path\n",
    "PosixPath('/Users/username/Desktop/file.txt')\n",
    ">>> path.exists()                      # 判断文件或文件夹是否存在\n",
    "True\n",
    ">>> path.is_file()                     # 判断指定路径是否是文件\n",
    "True\n",
    ">>> path.is_dir()                      # 判断指定路径是否是文件夹\n",
    "False\n",
    ">>> path.name                          # 获取文件名\n",
    "'file.txt'\n",
    ">>> path.parent\n",
    "PosixPath('/Users/username/Desktop')\n",
    ">>> path_iter = path.parent.iterdir()  # 获取父目录的迭代器\n",
    ">>> list(path_iter)                    # 获取父目录中的文件列表\n",
    "[PosixPath('/Users/username/Desktop/file.txt'), ... ]\n",
    "```"
   ]
  },
  {
   "cell_type": "markdown",
   "metadata": {
    "slideshow": {
     "slide_type": "subslide"
    }
   },
   "source": [
    "### 8.1.3 文本文件读写\n",
    "\n",
    "#### 常用文本文件读写方法\n",
    "  - `read()`:读入文本文件全部内容作为字符串返回;\n",
    "  - `readline()`:读入文本文件中的一行并将文件指针的位置后移一行;\n",
    "  - `readlines()`:读入文本文件全部内容，返回一个字符串列表，列表中的每个元素是文本文件的一行内容;\n",
    "  -  `write(text_str)`:将`text_str`表示的字符串写入文本文件;\n",
    "  - `writelines(str_iter)`:将可迭代对象`str_iter`写入文本文件，`str_iter`中的每个字符串作为文件的一行。"
   ]
  },
  {
   "cell_type": "markdown",
   "metadata": {
    "slideshow": {
     "slide_type": "subslide"
    }
   },
   "source": [
    "```python\n",
    ">>> f = open('./file.txt', 'w')               # 以写入模式打开文件\n",
    ">>> f.write('line1\\nline2\\nline3\\n')          # 写入第1到3行内容\n",
    "18\n",
    ">>> f.writelines(['line4\\n', 'line5\\n'])      # 写入第4、5行内容\n",
    ">>> f.close()                                 # 关闭文件\n",
    ">>> f = open('./file.txt')                    # 以读取模式打开文件\n",
    ">>> f.read()                                  # 读取文件全部内容\n",
    "'line1\\nline2\\nline3\\nline4\\nline5\\n'\n",
    ">>> f.seek(0)                                 # 移动文件指针至起始位置\n",
    "0\n",
    ">>> f.readlines()                             # 按行读取文件全部内容\n",
    "['line1\\n', 'line2\\n', 'line3\\n', 'line4\\n', 'line5\\n']\n",
    ">>> f.close()\n",
    ">>> f = open('./file.txt', 'a')               # 以追回模式打开文件\n",
    ">>> f.write('line6\\nline7\\n')                 # 追加写入第6、7行内容\n",
    "12\n",
    ">>> f.close()\n",
    ">>> f = open('./file.txt')\n",
    ">>> f.read()\n",
    "'line1\\nline2\\nline3\\nline4\\nline5\\nline6\\nline7\\n'\n",
    ">>> f.close()\n",
    "```"
   ]
  },
  {
   "cell_type": "markdown",
   "metadata": {
    "slideshow": {
     "slide_type": "subslide"
    }
   },
   "source": [
    "#### 大文件的读取\n",
    "\n",
    "- `read`方法和`readlines`方法会读入整个文件，在读取较大的文本文件时非常耗时，更严重的是可能会由于内存不足而使得程序无法运行\n",
    "- 解决方法1：使用`readline`方法\n",
    "\n",
    "```python\n",
    "f = open('/path/to/file.txt')\n",
    "while True:\n",
    "    line = f.readline()\n",
    "    if not line:\n",
    "        break\n",
    "    # 对文本行line进行处理\n",
    "f.close()\n",
    "```"
   ]
  },
  {
   "cell_type": "markdown",
   "metadata": {
    "slideshow": {
     "slide_type": "subslide"
    }
   },
   "source": [
    "- 解决方法2：直接对文件对象进行迭代\n",
    "\n",
    "```python\n",
    "f = open('/path/to/file.txt')\n",
    "for line in f:\n",
    "    pass\n",
    "    # 对文本行line进行处理\n",
    "f.close()\n",
    "```"
   ]
  },
  {
   "cell_type": "markdown",
   "metadata": {
    "slideshow": {
     "slide_type": "subslide"
    }
   },
   "source": [
    "#### 二进制文件读写*\n",
    "\n",
    "- 使用`open`函数以`'rb'`和`'wb'`模式打开文件，即可对二进制文件进行读写操作\n",
    "\n",
    "```python\n",
    "f = open('/path/to/binfile.bin', 'wb')  # 以二进制写入模式打开文件\n",
    "f.write('二进制字节串'.encode('utf-8')) # 字符串编码为字节串，并写入文件\n",
    "f.close()\n",
    "\n",
    "f = open('/path/to/binfile.bin', 'rb')  # 以二进制读取模式打开文件\n",
    "content = f.read()\n",
    "f.close()\n",
    "print(\"解码前：\", content)\n",
    "content = content.decode('utf-8')       # 对字节串进行解码\n",
    "print(\"解码后：\", content)\n",
    "```\n",
    "输出：\n",
    "```python\n",
    "解码前： b'\\xe4\\xba\\x8c\\xe8\\xbf\\x9b\\xe5\\x88\\xb6\\xe5\\xad\\x97\\xe8\\x8a\\x82\\xe4\\xb8\\xb2'\n",
    "解码后： 二进制字节串\n",
    "```"
   ]
  },
  {
   "cell_type": "markdown",
   "metadata": {
    "slideshow": {
     "slide_type": "slide"
    }
   },
   "source": [
    "## 8.2 上下文管理\n",
    "\n",
    "- 上下文\n",
    "  - 指程序运行的环境，某些操作只有在相应的环境或上下文之中时才能正确地运行\n",
    "  - 文件的读写操作必须在文件已经被打开的上下文之中\n",
    "  - 数据库的访问必 须在成功建立数据库连接的上下文之中\n",
    "- 上下文管理\n",
    "  - 上下文环境构建\n",
    "  - 操作过程中的异常处理\n",
    "  - 上下文环境的清理\n",
    "  - ... ...\n",
    "  - Python 将 构建和清理上下文环境的过程独离出来，称为上下文管理\n",
    "- 上下文管理器\n",
    "  - 具有上下文管理功能的对象，称为上下文管理器"
   ]
  },
  {
   "cell_type": "markdown",
   "metadata": {
    "slideshow": {
     "slide_type": "subslide"
    }
   },
   "source": [
    "### 8.2.1 `with`语句块\n",
    "\n",
    "- `with`语句块会调用上下文管理器的相关方法来构建上下文环境\n",
    "  - 文件对象就是一个上下文管理器\n",
    "  - 利用`with`可以更加方便、安全地访问文件\n",
    "  \n",
    "```python\n",
    "# 写入文件\n",
    "with open('/path/to/filename.txt', 'w') as f:\n",
    "    f.write('file contents')\n",
    "\n",
    "# 读取文件\n",
    "with open('/path/to/filename.txt', 'r') as f:\n",
    "    print(f.read())\n",
    "```\n",
    "\n",
    "- 利用`with`读取大文件\n",
    "\n",
    "```python\n",
    "with open('/path/to/file.txt') as f: \n",
    "    while True:\n",
    "        line = f.readline()\n",
    "        if not line:\n",
    "            break\n",
    "        # 对文本行line进行处理\n",
    "```"
   ]
  },
  {
   "cell_type": "markdown",
   "metadata": {
    "slideshow": {
     "slide_type": "subslide"
    }
   },
   "source": [
    "### 8.2.2 上下文管理协议*\n",
    "\n",
    "- 上下文管理功能由上下文管理协议约定，上下文管理器就是实现了上下文管理协议的类的实例\n",
    "- 上下文管理协议\n",
    "  - `__enter__(self)`:进入`with`语句块时调用该方法，返回上下文管理器自身或者相关的对象，若有`as`子句则返回对象会被赋值给`as`子句中的变量\n",
    "  - `__exit__(self, exc_type, exc_val, exc_tb)`:离开`with`语句块时调用该方法\n",
    "    - 如果`with`语句块中的代码在执行过程中抛出异常，则异常类型、异常值，以及异常追踪信息分别被传递至三个参数`exc_type`、`exc_val`和`exc_tb`\n",
    "    - 如果没有异常发生， 则传入的三个值都是`None`\n",
    "    - 该方法的返回值为一个布尔值，`True`表示不再向上抛出 捕获的异常，`False`表示继续抛出异常。"
   ]
  },
  {
   "cell_type": "markdown",
   "metadata": {
    "slideshow": {
     "slide_type": "subslide"
    }
   },
   "source": [
    "#### 自定义上下文管理器\n",
    "\n",
    "- 不再抛出with语句块中的异常"
   ]
  },
  {
   "cell_type": "code",
   "execution_count": 1,
   "metadata": {},
   "outputs": [],
   "source": [
    "class File:\n",
    "    def __init__(self, path, mode):\n",
    "        self.path = path\n",
    "        self.mode = mode\n",
    "\n",
    "    def __enter__(self):\n",
    "        print(\"进入上下文环境...\")\n",
    "        self.file = open(self.path, self.mode)\n",
    "        return self.file\n",
    "\n",
    "    def __exit__(self, exc_type, exc_val, exc_tb):\n",
    "        print(\"离开上下文环境...\")\n",
    "        self.file.close()\n",
    "        print('异常类型：', exc_type)\n",
    "        print('异常值：', exc_val)\n",
    "        print('异常跟踪：', exc_tb)\n",
    "        return True               # 不再抛出with语句块中的异常"
   ]
  },
  {
   "cell_type": "code",
   "execution_count": 2,
   "metadata": {},
   "outputs": [
    {
     "name": "stdout",
     "output_type": "stream",
     "text": [
      "进入上下文环境...\n",
      "离开上下文环境...\n",
      "异常类型： <class 'Exception'>\n",
      "异常值： 程序运行发生异常\n",
      "异常跟踪： <traceback object at 0x7f7f04191d40>\n"
     ]
    }
   ],
   "source": [
    "with File('test_file', 'w') as f:\n",
    "    f.write('file contents')\n",
    "    raise Exception('程序运行发生异常')"
   ]
  },
  {
   "cell_type": "markdown",
   "metadata": {
    "slideshow": {
     "slide_type": "subslide"
    }
   },
   "source": [
    "- 抛出with语句块中的异常"
   ]
  },
  {
   "cell_type": "code",
   "execution_count": 3,
   "metadata": {
    "slideshow": {
     "slide_type": "-"
    }
   },
   "outputs": [],
   "source": [
    "class File:\n",
    "    def __init__(self, path, mode):\n",
    "        self.path = path\n",
    "        self.mode = mode\n",
    "\n",
    "    def __enter__(self):\n",
    "        print(\"进入上下文环境...\")\n",
    "        self.file = open(self.path, self.mode)\n",
    "        return self.file\n",
    "\n",
    "    def __exit__(self, exc_type, exc_val, exc_tb):\n",
    "        print(\"离开上下文环境...\")\n",
    "        self.file.close()\n",
    "        print('异常类型：', exc_type)\n",
    "        print('异常值：', exc_val)\n",
    "        print('异常跟踪：', exc_tb)\n",
    "        return False            # 抛出with语句块中的异常"
   ]
  },
  {
   "cell_type": "code",
   "execution_count": 4,
   "metadata": {},
   "outputs": [
    {
     "name": "stdout",
     "output_type": "stream",
     "text": [
      "进入上下文环境...\n",
      "离开上下文环境...\n",
      "异常类型： <class 'Exception'>\n",
      "异常值： 程序运行发生异常\n",
      "异常跟踪： <traceback object at 0x7f7f04217800>\n"
     ]
    },
    {
     "ename": "Exception",
     "evalue": "程序运行发生异常",
     "output_type": "error",
     "traceback": [
      "\u001b[0;31m---------------------------------------------------------------------------\u001b[0m",
      "\u001b[0;31mException\u001b[0m                                 Traceback (most recent call last)",
      "\u001b[0;32m<ipython-input-4-7a29cbfd732b>\u001b[0m in \u001b[0;36m<module>\u001b[0;34m\u001b[0m\n\u001b[1;32m      1\u001b[0m \u001b[0;32mwith\u001b[0m \u001b[0mFile\u001b[0m\u001b[0;34m(\u001b[0m\u001b[0;34m'test_file'\u001b[0m\u001b[0;34m,\u001b[0m \u001b[0;34m'w'\u001b[0m\u001b[0;34m)\u001b[0m \u001b[0;32mas\u001b[0m \u001b[0mf\u001b[0m\u001b[0;34m:\u001b[0m\u001b[0;34m\u001b[0m\u001b[0;34m\u001b[0m\u001b[0m\n\u001b[1;32m      2\u001b[0m     \u001b[0mf\u001b[0m\u001b[0;34m.\u001b[0m\u001b[0mwrite\u001b[0m\u001b[0;34m(\u001b[0m\u001b[0;34m'file contents'\u001b[0m\u001b[0;34m)\u001b[0m\u001b[0;34m\u001b[0m\u001b[0;34m\u001b[0m\u001b[0m\n\u001b[0;32m----> 3\u001b[0;31m     \u001b[0;32mraise\u001b[0m \u001b[0mException\u001b[0m\u001b[0;34m(\u001b[0m\u001b[0;34m'程序运行发生异常'\u001b[0m\u001b[0;34m)\u001b[0m\u001b[0;34m\u001b[0m\u001b[0;34m\u001b[0m\u001b[0m\n\u001b[0m",
      "\u001b[0;31mException\u001b[0m: 程序运行发生异常"
     ]
    }
   ],
   "source": [
    "with File('test_file', 'w') as f:\n",
    "    f.write('file contents')\n",
    "    raise Exception('程序运行发生异常')"
   ]
  },
  {
   "cell_type": "markdown",
   "metadata": {
    "slideshow": {
     "slide_type": "subslide"
    }
   },
   "source": [
    "#### 应用\n",
    "- 利用上下文管理器计算代码块的运行时间"
   ]
  },
  {
   "cell_type": "code",
   "execution_count": 5,
   "metadata": {},
   "outputs": [],
   "source": [
    "import time\n",
    "class CodeRunTime:\n",
    "    def __enter__(self):\n",
    "        self.start = time.perf_counter()\n",
    "\n",
    "    def __exit__(self, exc_type, exc_val, exc_tb):\n",
    "        print(f'代码块运行时间：{time.perf_counter() - self.start}')\n",
    "        return False"
   ]
  },
  {
   "cell_type": "code",
   "execution_count": 6,
   "metadata": {},
   "outputs": [
    {
     "name": "stdout",
     "output_type": "stream",
     "text": [
      "代码块运行时间：0.1913649619998523\n"
     ]
    }
   ],
   "source": [
    "with CodeRunTime():\n",
    "    lst = []\n",
    "    for i in range(1000000):\n",
    "        lst.append(i)"
   ]
  },
  {
   "cell_type": "markdown",
   "metadata": {
    "slideshow": {
     "slide_type": "slide"
    }
   },
   "source": [
    "## 8.3 数据库编程\n",
    "\n",
    "### 8.3.1 数据库应用编程接口\n",
    "\n",
    "- 数据库访问过程\n",
    "\n",
    "<center>\n",
    "    <img src=\"./figures/fig8-1.png\" width=\"40%\"/>\n",
    "</center>"
   ]
  },
  {
   "cell_type": "markdown",
   "metadata": {
    "slideshow": {
     "slide_type": "subslide"
    }
   },
   "source": [
    "- 数据库适配器\n",
    "  - 是数据库管理系统在 Python 中的驱动应用程序，作为客户端与数据库服务器进行通信\n",
    "  - Python 官方给出了适配器 开发的统一规范，即数据库应用编程接口(DB-API)，该规范由 PEP249 定义"
   ]
  },
  {
   "cell_type": "markdown",
   "metadata": {
    "slideshow": {
     "slide_type": "subslide"
    }
   },
   "source": [
    "- 数据库应用编程接口(PEP249)\n",
    "\n",
    "<table align=\"center\">\n",
    "    <thead>\n",
    "        <td style=\"text-align:center;\">类型</td>\n",
    "        <td colspan=\"2\" style=\"text-align:center;\">名称</td>\n",
    "        <td style=\"text-align:center;\">功能</td>\n",
    "    </thead>\n",
    "    <tbody>\n",
    "        <tr>\n",
    "            <td rowspan=\"3\" style=\"text-align:left;\"> 全局属性 </td>\n",
    "            <td colspan=\"2\" style=\"text-align:left;\"> <tt>apilevel</tt></td>\n",
    "            <td style=\"text-align:left;\"> 字符串，兼容的 DB-API 版本(1.0 或 2.0) </td>\n",
    "        </tr>\n",
    "        <tr>\n",
    "            <td colspan=\"2\" style=\"text-align:left;\"> <tt>threadsafety</tt> </td>\n",
    "            <td style=\"text-align:left;\"> 线程安全级别(0 至 5) </td>\n",
    "        </tr>\n",
    "        <tr>\n",
    "            <td colspan=\"2\" style=\"text-align:left;\"> <tt>paramstyle</tt> </td>\n",
    "            <td style=\"text-align:left;\"> SQL 语句中占位符的风格(五种类型) </td>\n",
    "        </tr>\n",
    "        <tr>\n",
    "            <td style=\"text-align:left;\">函数</td>\n",
    "            <td colspan=\"2\" style=\"text-align:left;\"><tt>connect</tt></td>\n",
    "            <td style=\"text-align:left;\"> 建立并返回数据库连接 (<tt>Connection</tt>) 对象 </td>\n",
    "        </tr>\n",
    "        <tr>\n",
    "            <td rowspan=\"13\" style=\"text-align:left;\">类.方法</td>\n",
    "            <td rowspan=\"4\" style=\"text-align:left;\"><tt>Connection</tt></td>\n",
    "            <td style=\"text-align:left;\"><tt>.close</tt></td>\n",
    "            <td style=\"text-align:left;\">关闭数据库连接</td>\n",
    "        </tr>\n",
    "        <tr>\n",
    "            <td style=\"text-align:left;\"><tt>.commit</tt></td>\n",
    "            <td style=\"text-align:left;\">提交事务或操作<td>\n",
    "        </tr>\n",
    "        <tr>\n",
    "            <td style=\"text-align:left;\"><tt>.rollback</tt></td>\n",
    "            <td style=\"text-align:left;\">回滚事务<td>\n",
    "        </tr>\n",
    "        <tr>\n",
    "            <td style=\"text-align:left;\"><tt>.cursor</tt></td>\n",
    "            <td style=\"text-align:left;\">获取游标 (<tt>Cursor</tt>) 对象<td>\n",
    "        </tr>\n",
    "        <tr>\n",
    "            <td rowspan=\"9\" style=\"text-align:left; border-top:#cccccc solid 1px;\"><tt>Cursor</tt></td>\n",
    "            <td style=\"text-align:left; border-top:#cccccc solid 1px;\"><tt>.description</tt></td>\n",
    "            <td style=\"text-align:left; border-top:#cccccc solid 1px;\">游标状态描述信息(属性)</td>\n",
    "        </tr>\n",
    "        <tr>\n",
    "            <td style=\"text-align:left;\"><tt>.rowcount</tt></td>\n",
    "            <td style=\"text-align:left;\">最近一次操作的影响行数 (属性)<td>\n",
    "        </tr>\n",
    "        <tr>\n",
    "            <td style=\"text-align:left;\"><tt>.callproc</tt></td>\n",
    "            <td style=\"text-align:left;\">调用数据库存储过程<td>\n",
    "        </tr>\n",
    "        <tr>\n",
    "            <td style=\"text-align:left;\"><tt>.close</tt></td>\n",
    "            <td style=\"text-align:left;\">关闭游标<td>\n",
    "        </tr>\n",
    "        <tr>\n",
    "            <td style=\"text-align:left;\"><tt>.execute</tt></td>\n",
    "            <td style=\"text-align:left;\">执行 SQL 语句<td>\n",
    "        </tr>\n",
    "        <tr>\n",
    "            <td style=\"text-align:left;\"><tt>.executemany</tt></td>\n",
    "            <td style=\"text-align:left;\">利用一组参数多次执行同一 SQL 语句<td>\n",
    "        </tr>\n",
    "        <tr>\n",
    "            <td style=\"text-align:left;\"><tt>.fetchone</tt></td>\n",
    "            <td style=\"text-align:left;\">获取查询结果中的下一条记录<td>\n",
    "        </tr>\n",
    "        <tr>\n",
    "            <td style=\"text-align:left;\"><tt>.fetchmany</tt></td>\n",
    "            <td style=\"text-align:left;\">获取查询结果中指定数量的记录<td>\n",
    "        </tr>\n",
    "        <tr>\n",
    "            <td style=\"text-align:left;\"><tt>.fetchall</tt></td>\n",
    "            <td style=\"text-align:left;\">获取查询结果中的剩余的全部记录<td>\n",
    "        </tr>\n",
    "        <tr>\n",
    "            <td rowspan=\"7\" style=\"text-align:left;\">异常类</td>\n",
    "            <td colspan=\"2\" style=\"text-align:left;\"><tt>InterfaceError</tt></td>\n",
    "            <td style=\"text-align:left;\">数据库接口错误</td>\n",
    "        </tr>\n",
    "        <tr>\n",
    "            <td colspan=\"2\" style=\"text-align:left;\"><tt>DataError</tt></td>\n",
    "            <td style=\"text-align:left;\">数据处理错误</td>\n",
    "        </tr>\n",
    "        <tr>\n",
    "            <td colspan=\"2\" style=\"text-align:left;\"><tt>OperationalError</tt></td>\n",
    "            <td style=\"text-align:left;\">数据库操作执行错误</td>\n",
    "        </tr>\n",
    "        <tr>\n",
    "            <td colspan=\"2\" style=\"text-align:left;\"><tt>IntegrityError</tt></td>\n",
    "            <td style=\"text-align:left;\">数据库完整性错误</td>\n",
    "        </tr>\n",
    "        <tr>\n",
    "            <td colspan=\"2\" style=\"text-align:left;\"><tt>InternalError</tt></td>\n",
    "            <td style=\"text-align:left;\">数据库内部错误</td>\n",
    "        </tr>\n",
    "        <tr>\n",
    "            <td colspan=\"2\" style=\"text-align:left;\"><tt>ProgrammingError</tt></td>\n",
    "            <td style=\"text-align:left;\">SQL错误</td>\n",
    "        </tr>\n",
    "        <tr>\n",
    "            <td colspan=\"2\" style=\"text-align:left;\"><tt>NotSupportedError</tt></td>\n",
    "            <td style=\"text-align:left;\">操作不被支持错误</td>\n",
    "        </tr>\n",
    "    </tbody>\n",
    "</table>\n"
   ]
  },
  {
   "cell_type": "markdown",
   "metadata": {},
   "source": [
    "- DB-API 的 paramstyle 属性\n",
    "\n",
    "|取值| SQL 参数风格示例|\n",
    "|:--|:--|\n",
    "|`'qmark'`|`...WHERE name=?`|\n",
    "|`'numeric'`|`...WHERE name=:1`|\n",
    "|`'named'`|`...WHERE name=:name`|\n",
    "|`'format'`|`...WHERE name=%s`|\n",
    "|`'pyformat'`|`...WHERE name=%(name)s`|"
   ]
  },
  {
   "cell_type": "markdown",
   "metadata": {},
   "source": [
    "- PEP249 是一种官方建议的数据库适配器工具包开发规范，不具有强制性，实际的数据库适配器对 PEP249 规范的遵循程度不一致"
   ]
  },
  {
   "cell_type": "markdown",
   "metadata": {
    "slideshow": {
     "slide_type": "subslide"
    }
   },
   "source": [
    "### 8.3.2 嵌入式数据库编程\n",
    "\n",
    "- 嵌入式数据库编程的一般步骤:\n",
    "  - 建立数据库连接\n",
    "  - 获取游标\n",
    "  - 执行 SQL 语句\n",
    "  - 提交事务或操作\n",
    "  - 关闭游标和数据库连接\n"
   ]
  },
  {
   "cell_type": "markdown",
   "metadata": {
    "slideshow": {
     "slide_type": "subslide"
    }
   },
   "source": [
    "- 创建sqlite数据库和表"
   ]
  },
  {
   "cell_type": "code",
   "execution_count": 7,
   "metadata": {},
   "outputs": [],
   "source": [
    "import sqlite3\n",
    "conn = sqlite3.connect('test.db')          # 建立数据库连接\n",
    "cur = conn.cursor()                        # 获取游标\n",
    "sql = 'create table users(id int primary key, name varchar, email varchar)'\n",
    "cur.execute(sql)                           # 执行SQL语句\n",
    "cur.close()                                # 关闭游标\n",
    "conn.close()                               # 关闭数据库连接"
   ]
  },
  {
   "cell_type": "markdown",
   "metadata": {
    "slideshow": {
     "slide_type": "subslide"
    }
   },
   "source": [
    "- 数据的添加、修改和删除操作"
   ]
  },
  {
   "cell_type": "code",
   "execution_count": 8,
   "metadata": {},
   "outputs": [],
   "source": [
    "import sqlite3\n",
    "conn = sqlite3.connect(\"test.db\")  # 建立数据库连接\n",
    "cur = conn.cursor()                # 获取游标\n",
    "\n",
    "sql = \"insert into users values(1, '张三', 'zhangsan@test.com')\"\n",
    "cur.execute(sql)                   # 添加一条数据\n",
    "\n",
    "sql = \"insert into users values(?,?,?)\"\n",
    "data = [(2, '李四', 'lisi@test.com'),\n",
    "        (3, '王五', 'wangwu@test.com'),\n",
    "        (4, '赵六', 'zhaoliu@test.com')]\n",
    "cur.executemany(sql, data)         # 添加多条数据\n",
    "\n",
    "sql = \"update users set email='lisi_new@test.com' where id=2\"\n",
    "cur.execute(sql)                   # 修改数据\n",
    "\n",
    "sql = \"delete from users where id=3\"\n",
    "cur.execute(sql)                   # 删除数据\n",
    "conn.commit()                      # 提交操作\n",
    "cur.close()\n",
    "conn.close()"
   ]
  },
  {
   "cell_type": "markdown",
   "metadata": {
    "slideshow": {
     "slide_type": "subslide"
    }
   },
   "source": [
    "- 数据查询操作"
   ]
  },
  {
   "cell_type": "code",
   "execution_count": 9,
   "metadata": {},
   "outputs": [
    {
     "name": "stdout",
     "output_type": "stream",
     "text": [
      "(1, '张三', 'zhangsan@test.com')\n",
      "(2, '李四', 'lisi_new@test.com')\n",
      "(4, '赵六', 'zhaoliu@test.com')\n"
     ]
    }
   ],
   "source": [
    "import sqlite3\n",
    "\n",
    "sql = 'select * from users'\n",
    "with sqlite3.connect(\"test.db\") as conn:\n",
    "    cur = conn.cursor()\n",
    "    cur.execute(sql)                # 执行查询语句\n",
    "    records = cur.fetchall()        # 获取查询结果\n",
    "for row in records:\n",
    "    print(row)"
   ]
  },
  {
   "cell_type": "markdown",
   "metadata": {
    "slideshow": {
     "slide_type": "slide"
    }
   },
   "source": [
    "## 8.4 正则表达式*\n",
    "\n",
    "- 尽管Python的字符串处理方法非常强大，但还是难以应对一些复杂的字符串处理任务\n",
    "  - 判断一个邮箱地址、手机号码是否合法\n",
    "  - 提取出HTML文档中所有需要的数据\n",
    "- 设计思想\n",
    "  - 利用一种描述性语言定义规则，然后利用该规则来匹配字符串或字符串文档，找出所有满足规则的部分\n",
    "- 应用场景\n",
    "  - 匹配性检查，即判断某个字符串是否匹配特定的模式\n",
    "  - 文本提取，即提取字符串文本中与规则相匹配的内容\n",
    "  - 切分字符串，即将字符串文本在与规则相匹配的位置进行切分\n",
    "  - 字符串替换，即将字符串文本中与规则相匹配的内容进行替换\n",
    "- Python的`re`模块提供了正则表达式功能"
   ]
  },
  {
   "cell_type": "markdown",
   "metadata": {
    "slideshow": {
     "slide_type": "subslide"
    }
   },
   "source": [
    "### 8.4.1 正则表达式匹配规则\n",
    "\n",
    "- 字符匹配\n",
    "- 边界匹配\n",
    "- 重复限制\n",
    "- 分组\n",
    "- 后向引用\n",
    "- 前置条件和后置条件"
   ]
  },
  {
   "cell_type": "markdown",
   "metadata": {
    "slideshow": {
     "slide_type": "subslide"
    }
   },
   "source": [
    "-  字符匹配\n",
    "\n",
    "| 符号 | 功能 | 规则示例 | 匹配示例 |\n",
    "| :---- | :---- | :-------- | :-------- |\n",
    "| `.` | 匹配`\\n`之外任一字符 | `r'.'` | `'A'` |\n",
    "| `\\d` | 匹配一个数字 | `r'\\d'` | `'9'` |\n",
    "| `\\D` | 匹配一个非数字 | `r'\\D'` | `'A'` |\n",
    "| `\\w` | 匹配一个字母、数字或下划线 | `r'\\w'` | `'_'` |\n",
    "| `\\W` | 匹配一个`\\w`之外的字符 | `r'\\W'` | `'\\t'` |\n",
    "| `\\s` | 匹配任何空白字符 | `r'\\s'` | `'\\n'` |\n",
    "| `\\S` | 匹配任何非空白字符 | `r'\\S'` | `'A'` |\n",
    "|`x\\|y`|匹配`x`或`y`|`r'a\\|b\\|c'`|`'a'`|\n",
    "|`[xyz]`|匹配`xyz`中的任一字符|`r'[abc]'`|`'a'`|\n",
    "|`[x-z]`|匹配`x`到`z`之间的任一字符|`r[X-Z]`|`'Y'`|\n",
    "|`[^xyz]`|匹配`xyz`之外的任一字符|`r[^1-9]`|`'A'`|\n",
    "\n"
   ]
  },
  {
   "cell_type": "markdown",
   "metadata": {
    "slideshow": {
     "slide_type": "subslide"
    }
   },
   "source": [
    "- 边界匹配\n",
    "\n",
    "| 符号 | 功能 | 规则示例 | 匹配示例 | 不匹配示例|\n",
    "| :---- | :---- | :-------- | :-------- | :---|\n",
    "| `^` | 行头 | `r'^Py'` | `'the\\nPython'` | `'the Python'` |\n",
    "| `$` | 行尾 | `r'the$'` | `'the\\nPython'` | `'the Python'` |\n",
    "| `\\b` | 单词边界 | `r'\\bPy'` | `'the Python'` | `'the-Python'` |\n",
    "| `\\B` | 不是单词边界 | `r'\\BPy'` | `'the-Python'` | `'the Python'` |\n",
    "| `\\A` | 字符串头 | `r'\\A'Py` | `'Python coding'` | `'the\\nPython'` |\n",
    "| `\\Z` | 字符串尾 | `r'on\\Z'` | `'the Python'` | `'Python coding'` |"
   ]
  },
  {
   "cell_type": "markdown",
   "metadata": {
    "slideshow": {
     "slide_type": "subslide"
    }
   },
   "source": [
    "- 重复限制\n",
    "\n",
    "| 符号 | 功能 | 规则示例 | 匹配示例 | 不匹配示例|\n",
    "| :---- | :---- | :-------- | :-------- | :---|\n",
    "|`*`| 重复零次或多次| `r'\\d*'` | `'123abc'` |  |\n",
    "|`+`| 重复一次或多次| `r'\\d+'` | `'123abc'` | `'abc'` |\n",
    "|`?`| 重复零次或一次| `r'\\d?'` | `'1abc'` |  |\n",
    "|`{n}`| 重复n次| `r'\\d{3}'` | `'123abc'` | `'12abc'` |\n",
    "|`{n,m}`| 重复最少n次最多m次| `r'\\d{2,3}'` | `'123abc'` | `'1abc'` |\n",
    "|`{n,}`| 最少重复n次| `r'\\d{2,}'` | `'12abc'` | `'1abc'` |\n",
    "|`{,m}`| 最多重复m次| `r'\\d{,2}'` | `'12abc'` | `'123abc'` |"
   ]
  },
  {
   "cell_type": "markdown",
   "metadata": {
    "slideshow": {
     "slide_type": "subslide"
    }
   },
   "source": [
    "- 贪婪匹配与懒惰匹配\n",
    "  - 使用重复限制后，正则表达式规则在匹配文本时会出现匹配内容长度不能确定的问题\n",
    "  \n",
    "   例如，规则`r'\\w{3,5}'`在匹配字符串`'abcde'`时，它的三个子串`'abc'`、`'abcd'`和`'abcde'`都附合规则，那么它匹配到的究竟是哪个子串呢？\n",
    "   \n",
    "   Python正则表达式默认情况下匹配到的是最长的子串，这种方式称为__贪婪匹配__。\n",
    "  - 重复限制符号后添加`?`即表示待重复部分为__懒惰匹配__\n",
    "  \n",
    "\n",
    "| 符号     | 功能                               |\n",
    "| :-------- | :---------------------------------- |\n",
    "| `*?`     | 重复零次或多次，但次数尽可能少     |\n",
    "| `+?`     | 重复一次或多次，但次数尽可能少     |\n",
    "| `??`     | 重复零次或一次，但次数尽可能少     |\n",
    "| `{n}?`   | 重复n次，但次数尽可能少            |\n",
    "| `{n,m}?` | 重复最少n次最多m次，但次数尽可能少 |"
   ]
  },
  {
   "cell_type": "markdown",
   "metadata": {
    "slideshow": {
     "slide_type": "subslide"
    }
   },
   "source": [
    "- 分组与后向引用\n",
    "  - 正则表达式中使用`()`将多个符号作为一个分组\n",
    "    例如，规则`r'(\\d{1,3}\\.){3}\\d{1,3}'`用于匹配IP地址\n",
    "  - 分组匹配到的文本内容编号并保存在缓存之中\n",
    "    - 编号方式为：`\\1`表示匹配到的第1个内容，`\\2`表示匹配到的第2个内容，... ...\n",
    "    - 缓存数据可实现文本内容的提取\n",
    "    - 缓存的数据可以被正则表达式后续部分引用，称为__后向引用__\n",
    "    - 在分组中添加`?:`表示不缓存匹配内容，例如`r(?:\\d{1,3})`\n",
    "  - 命名分组\n",
    "    - Python中命名分组的方式为`(?P<group_name>)`\n",
    "    - 后向引用中使用分组名`(?P=group_name)`"
   ]
  },
  {
   "cell_type": "markdown",
   "metadata": {
    "slideshow": {
     "slide_type": "subslide"
    }
   },
   "source": [
    "- 前置条件和后置条件\n",
    "\n",
    "| 规则                | 说明       |  规则示例  |  匹配示例    | 不匹配示例 |\n",
    "| :------------------- | :---------- | :---- | :---- | :------------------- |\n",
    "| `r'(?=sub_rules)'`  | 后置条件   | `r'abc(?=[de])'` | `'abcd'`或`'abce'` | `'abcf'` |\n",
    "| `r'(?!sub_rules)'`  | 后置非条件 | `r'abc(?![de])'` | `'abcf'` | `'abcd'`或`'abce'` |\n",
    "| `r'(?<=sub_rules)'` | 前置条件   | `r'(?<=[ab])cde'` | `'acde'`或`'bcde'` | `'fcde'` |\n",
    "| `r'(?<!sub_rules)'` | 前置非条件 | `r'(?<![ab])cde'` | `'fcde'` | `'acde'`或`'bcde'` |"
   ]
  },
  {
   "cell_type": "markdown",
   "metadata": {
    "slideshow": {
     "slide_type": "subslide"
    }
   },
   "source": [
    "### 8.4.2 正则表达式的应用\n",
    "\n",
    "#### 匹配性检查\n",
    "\n",
    "- 实现\n",
    "  - `re.match`函数\n",
    "  - `re.search`函数\n",
    "- `Match`对象\n",
    "  - `start`\n",
    "  - `end`\n",
    "  - `span`\n",
    "  - `group`\n",
    "  - `groups`\n",
    "  - `groupdict`"
   ]
  },
  {
   "cell_type": "code",
   "execution_count": 18,
   "metadata": {
    "slideshow": {
     "slide_type": "subslide"
    }
   },
   "outputs": [
    {
     "data": {
      "text/plain": [
       "<re.Match object; span=(0, 13), match='test@mail.com'>"
      ]
     },
     "execution_count": 18,
     "metadata": {},
     "output_type": "execute_result"
    }
   ],
   "source": [
    "from re import match\n",
    "rule = r'^\\w{3,}@\\w+\\.(?P<suffix>com|cn|net)$'\n",
    "result = match(rule, 'test@mail.com')\n",
    "result"
   ]
  },
  {
   "cell_type": "code",
   "execution_count": 19,
   "metadata": {},
   "outputs": [
    {
     "name": "stdout",
     "output_type": "stream",
     "text": [
      "0\n",
      "13\n",
      "(0, 13)\n"
     ]
    }
   ],
   "source": [
    "print(result.start())\n",
    "print(result.end())\n",
    "print(result.span())"
   ]
  },
  {
   "cell_type": "code",
   "execution_count": 21,
   "metadata": {},
   "outputs": [
    {
     "data": {
      "text/plain": [
       "('test@mail.com', 'com')"
      ]
     },
     "execution_count": 21,
     "metadata": {},
     "output_type": "execute_result"
    }
   ],
   "source": [
    "result.group(0, 1)   # 返回一个或多个分组（0号和1号分组）"
   ]
  },
  {
   "cell_type": "code",
   "execution_count": 22,
   "metadata": {},
   "outputs": [
    {
     "data": {
      "text/plain": [
       "('com',)"
      ]
     },
     "execution_count": 22,
     "metadata": {},
     "output_type": "execute_result"
    }
   ],
   "source": [
    "result.groups()      # 返回所有在规则中指定的分组"
   ]
  },
  {
   "cell_type": "code",
   "execution_count": 23,
   "metadata": {},
   "outputs": [
    {
     "data": {
      "text/plain": [
       "{'suffix': 'com'}"
      ]
     },
     "execution_count": 23,
     "metadata": {},
     "output_type": "execute_result"
    }
   ],
   "source": [
    "result.groupdict()   # 返回命名分组构成的字典"
   ]
  },
  {
   "cell_type": "markdown",
   "metadata": {
    "slideshow": {
     "slide_type": "subslide"
    }
   },
   "source": [
    "- `match`和`search`都只返回字符串中第一次匹配到的结果，即其中有多个满足规则的内容\n",
    "- 两者的区别在于，当字符串包含多行时，`match`只会搜索第一行，而`search`则会搜索整个字符串"
   ]
  },
  {
   "cell_type": "code",
   "execution_count": 24,
   "metadata": {},
   "outputs": [
    {
     "data": {
      "text/plain": [
       "True"
      ]
     },
     "execution_count": 24,
     "metadata": {},
     "output_type": "execute_result"
    }
   ],
   "source": [
    "from re import search\n",
    "rule = r'\\w{3,}@\\w+\\.(com|cn|net)'\n",
    "text = 'my email is :\\n test@mail.com'   # 多行字符串\n",
    "match(rule, text) is None"
   ]
  },
  {
   "cell_type": "code",
   "execution_count": 25,
   "metadata": {},
   "outputs": [
    {
     "data": {
      "text/plain": [
       "<re.Match object; span=(15, 28), match='test@mail.com'>"
      ]
     },
     "execution_count": 25,
     "metadata": {},
     "output_type": "execute_result"
    }
   ],
   "source": [
    "search(rule, text)"
   ]
  },
  {
   "cell_type": "markdown",
   "metadata": {
    "slideshow": {
     "slide_type": "subslide"
    }
   },
   "source": [
    "#### 文本提取\n",
    "\n",
    "- 实现\n",
    "  - `re.findall`\n",
    "    - 会搜索字符串文本，并返回所有与规则相匹配的内容构成的列表\n",
    "  - `re.finditer`\n",
    "    - 返回一个生成器"
   ]
  },
  {
   "cell_type": "code",
   "execution_count": 26,
   "metadata": {},
   "outputs": [
    {
     "data": {
      "text/plain": [
       "[('test1@mail1.com', 'com'), ('test2@mail2.net', 'net')]"
      ]
     },
     "execution_count": 26,
     "metadata": {},
     "output_type": "execute_result"
    }
   ],
   "source": [
    "from re import findall\n",
    "rule = r'(\\w{3,}@\\w+\\.(com|cn|net))'\n",
    "text = ''' I have two emials. They are test1@mail1.com\n",
    "                                   and test2@mail2.net.'''\n",
    "findall(rule, text)"
   ]
  },
  {
   "cell_type": "code",
   "execution_count": 27,
   "metadata": {},
   "outputs": [
    {
     "data": {
      "text/plain": [
       "['test1@mail1.com', 'test2@mail2.net']"
      ]
     },
     "execution_count": 27,
     "metadata": {},
     "output_type": "execute_result"
    }
   ],
   "source": [
    "rule = r'(\\w{3,}@\\w+\\.(?:com|cn|net))'  # 不缓存不需要的分组\n",
    "findall(rule, text)"
   ]
  },
  {
   "cell_type": "markdown",
   "metadata": {
    "slideshow": {
     "slide_type": "subslide"
    }
   },
   "source": [
    "#### 切分字符串\n",
    "\n",
    "- 实现\n",
    "  - `re.split`"
   ]
  },
  {
   "cell_type": "code",
   "execution_count": 28,
   "metadata": {},
   "outputs": [
    {
     "data": {
      "text/plain": [
       "['a', 'b', 'c', 'd', 'e', 'f', 'g']"
      ]
     },
     "execution_count": 28,
     "metadata": {},
     "output_type": "execute_result"
    }
   ],
   "source": [
    "from re import split\n",
    "text = 'a,b;c.d e|f-g'\n",
    "rule = r'[,\\;\\.\\ |-]'\n",
    "split(rule, text)"
   ]
  },
  {
   "cell_type": "markdown",
   "metadata": {
    "slideshow": {
     "slide_type": "subslide"
    }
   },
   "source": [
    "#### 字符串替换\n",
    "\n",
    "- 实现\n",
    "  - `re.sub`\n",
    "    - 返回替换后的字符串\n",
    "  - `re.subn`\n",
    "    - 返回由替换后的字符串和替换次数组成的元组"
   ]
  },
  {
   "cell_type": "code",
   "execution_count": 31,
   "metadata": {},
   "outputs": [
    {
     "data": {
      "text/plain": [
       "'I have two emials. They are ***@mail1.com and ***@mail2.net.'"
      ]
     },
     "execution_count": 31,
     "metadata": {},
     "output_type": "execute_result"
    }
   ],
   "source": [
    "from re import sub\n",
    "text = 'I have two emials. They are test1@mail1.com and test2@mail2.net.'\n",
    "rule = r'(\\w{3,})(?=@\\w+\\.(com|cn|net))'\n",
    "sub(rule, '***', text)"
   ]
  },
  {
   "cell_type": "markdown",
   "metadata": {
    "slideshow": {
     "slide_type": "subslide"
    }
   },
   "source": [
    "### 8.4.3 正则表达式的编译\n",
    "\n",
    "- 正则表达式的使用过程\n",
    "  - 1 编译\n",
    "  - 2 匹配\n",
    "  - 每次调用都会重新编译一次\n",
    "- 提高效率的方式\n",
    "  - 编译和匹配分开\n",
    "- 实现\n",
    "  - `re.compile`"
   ]
  },
  {
   "cell_type": "code",
   "execution_count": 32,
   "metadata": {},
   "outputs": [
    {
     "data": {
      "text/plain": [
       "'I have two emials. They are ***@mail1.com and ***@mail2.net.'"
      ]
     },
     "execution_count": 32,
     "metadata": {},
     "output_type": "execute_result"
    }
   ],
   "source": [
    "from re import compile\n",
    "text = 'I have two emials. They are test1@mail1.com and test2@mail2.net.'\n",
    "regex = compile(r'(\\w{3,})(?=@\\w+\\.(com|cn|net))')\n",
    "regex.sub('***', text)"
   ]
  },
  {
   "cell_type": "markdown",
   "metadata": {
    "slideshow": {
     "slide_type": "slide"
    }
   },
   "source": [
    "## 8.5 数据分析中的数据结构 *\n",
    "\n",
    "### 8.5.1 NumPy\n",
    "\n",
    "- NumPy 是一种高效的矩阵/高维数组计算工具包，几乎所有的数据 分析和处理工具都依赖或支持 NumPy\n",
    "\n",
    "#### `ndarray`\n",
    "\n",
    "- NumPy 中最核心的数据类型\n",
    "- 创建`ndarray`常常使用 Numpy 中的`array`函数"
   ]
  },
  {
   "cell_type": "code",
   "execution_count": 10,
   "metadata": {},
   "outputs": [
    {
     "data": {
      "text/plain": [
       "numpy.ndarray"
      ]
     },
     "execution_count": 10,
     "metadata": {},
     "output_type": "execute_result"
    }
   ],
   "source": [
    "import numpy as np\n",
    "nda = np.array([[1, 4, 2],[8, 5, 7]])\n",
    "type(nda)"
   ]
  },
  {
   "cell_type": "code",
   "execution_count": 11,
   "metadata": {},
   "outputs": [
    {
     "data": {
      "text/plain": [
       "array([[1, 4, 2],\n",
       "       [8, 5, 7]])"
      ]
     },
     "execution_count": 11,
     "metadata": {},
     "output_type": "execute_result"
    }
   ],
   "source": [
    "nda"
   ]
  },
  {
   "cell_type": "markdown",
   "metadata": {
    "slideshow": {
     "slide_type": "subslide"
    }
   },
   "source": [
    "- 创建特殊结构的ndarray\n",
    "\n",
    "|函数 |功能描述|\n",
    "|:--|:--|\n",
    "|`zeros`| 创建全 0 的多维数组|\n",
    "|`ones`| 创建全 1 的多维数组|\n",
    "|`eye`| 创建对角线元素为 1 的二维数组 |\n",
    "|`random.rand`| 以随机生成的数据创建多维数组|"
   ]
  },
  {
   "cell_type": "code",
   "execution_count": 12,
   "metadata": {},
   "outputs": [
    {
     "data": {
      "text/plain": [
       "array([[0., 0., 0.],\n",
       "       [0., 0., 0.],\n",
       "       [0., 0., 0.]])"
      ]
     },
     "execution_count": 12,
     "metadata": {},
     "output_type": "execute_result"
    }
   ],
   "source": [
    "import numpy as np\n",
    "np.zeros(shape=[3,3])   # 3行3列元素为0的多维数组"
   ]
  },
  {
   "cell_type": "code",
   "execution_count": 13,
   "metadata": {},
   "outputs": [
    {
     "data": {
      "text/plain": [
       "array([[1., 1., 1.],\n",
       "       [1., 1., 1.],\n",
       "       [1., 1., 1.]])"
      ]
     },
     "execution_count": 13,
     "metadata": {},
     "output_type": "execute_result"
    }
   ],
   "source": [
    "np.ones(shape=[3,3])    # 3行3列元素为1的多维数组"
   ]
  },
  {
   "cell_type": "code",
   "execution_count": 14,
   "metadata": {},
   "outputs": [
    {
     "data": {
      "text/plain": [
       "array([[1., 0., 0.],\n",
       "       [0., 1., 0.],\n",
       "       [0., 0., 1.]])"
      ]
     },
     "execution_count": 14,
     "metadata": {},
     "output_type": "execute_result"
    }
   ],
   "source": [
    "np.eye(3)               # 3阶单位矩阵"
   ]
  },
  {
   "cell_type": "code",
   "execution_count": 15,
   "metadata": {},
   "outputs": [
    {
     "data": {
      "text/plain": [
       "array([[0.93886107, 0.05554724, 0.07318204],\n",
       "       [0.81070672, 0.99872441, 0.61734829],\n",
       "       [0.8443944 , 0.65327837, 0.93905703]])"
      ]
     },
     "execution_count": 15,
     "metadata": {},
     "output_type": "execute_result"
    }
   ],
   "source": [
    "np.random.rand(3,3)     # 3行3列由随机数字组成的多维数组"
   ]
  },
  {
   "cell_type": "markdown",
   "metadata": {
    "slideshow": {
     "slide_type": "subslide"
    }
   },
   "source": [
    "#### 多维数组的操作\n",
    "\n",
    "- 元素访问与过滤"
   ]
  },
  {
   "cell_type": "code",
   "execution_count": 16,
   "metadata": {},
   "outputs": [
    {
     "data": {
      "text/plain": [
       "array([0.45003522, 0.88112387, 0.00835263, 0.20844166, 0.81008449])"
      ]
     },
     "execution_count": 16,
     "metadata": {},
     "output_type": "execute_result"
    }
   ],
   "source": [
    "import numpy as np\n",
    "nda = np.random.rand(5)\n",
    "nda"
   ]
  },
  {
   "cell_type": "code",
   "execution_count": 17,
   "metadata": {},
   "outputs": [
    {
     "data": {
      "text/plain": [
       "array([0.45003522, 0.00835263, 0.81008449])"
      ]
     },
     "execution_count": 17,
     "metadata": {},
     "output_type": "execute_result"
    }
   ],
   "source": [
    "nda[[0, 2, 4]] # 获取索引为0、2、4的三个元素"
   ]
  },
  {
   "cell_type": "code",
   "execution_count": 19,
   "metadata": {},
   "outputs": [
    {
     "data": {
      "text/plain": [
       "array([0.45003522, 0.88112387, 0.81008449])"
      ]
     },
     "execution_count": 19,
     "metadata": {},
     "output_type": "execute_result"
    }
   ],
   "source": [
    "nda[nda>0.3] # 获 取 大 于0.3的 元 素"
   ]
  },
  {
   "cell_type": "markdown",
   "metadata": {
    "slideshow": {
     "slide_type": "subslide"
    }
   },
   "source": [
    "- 改变形状与维度"
   ]
  },
  {
   "cell_type": "code",
   "execution_count": 20,
   "metadata": {},
   "outputs": [
    {
     "data": {
      "text/plain": [
       "array([[11, 12],\n",
       "       [21, 22],\n",
       "       [31, 32]])"
      ]
     },
     "execution_count": 20,
     "metadata": {},
     "output_type": "execute_result"
    }
   ],
   "source": [
    "nda = np.array([[11, 12],[21, 22], [31, 32]])\n",
    "nda"
   ]
  },
  {
   "cell_type": "code",
   "execution_count": 21,
   "metadata": {},
   "outputs": [
    {
     "data": {
      "text/plain": [
       "array([[11, 12, 21],\n",
       "       [22, 31, 32]])"
      ]
     },
     "execution_count": 21,
     "metadata": {},
     "output_type": "execute_result"
    }
   ],
   "source": [
    "nda.reshape(2, 3)      # 转换为2行3列"
   ]
  },
  {
   "cell_type": "code",
   "execution_count": 22,
   "metadata": {},
   "outputs": [
    {
     "data": {
      "text/plain": [
       "array([[11, 21, 31],\n",
       "       [12, 22, 32]])"
      ]
     },
     "execution_count": 22,
     "metadata": {},
     "output_type": "execute_result"
    }
   ],
   "source": [
    "nda.transpose(1, 0)    # 转置"
   ]
  },
  {
   "cell_type": "markdown",
   "metadata": {
    "slideshow": {
     "slide_type": "subslide"
    }
   },
   "source": [
    "- 元素运算"
   ]
  },
  {
   "cell_type": "code",
   "execution_count": 23,
   "metadata": {},
   "outputs": [
    {
     "data": {
      "text/plain": [
       "array([[-0.99999021, -0.53657292],\n",
       "       [ 0.83665564, -0.00885131],\n",
       "       [-0.40403765,  0.55142668]])"
      ]
     },
     "execution_count": 23,
     "metadata": {},
     "output_type": "execute_result"
    }
   ],
   "source": [
    "np.sin(nda)           # 每个元素求正弦值"
   ]
  },
  {
   "cell_type": "code",
   "execution_count": 24,
   "metadata": {},
   "outputs": [
    {
     "data": {
      "text/plain": [
       "21.5"
      ]
     },
     "execution_count": 24,
     "metadata": {},
     "output_type": "execute_result"
    }
   ],
   "source": [
    "np.average(nda)       # 均值"
   ]
  },
  {
   "cell_type": "markdown",
   "metadata": {
    "slideshow": {
     "slide_type": "subslide"
    }
   },
   "source": [
    "#### 矩阵运算"
   ]
  },
  {
   "cell_type": "code",
   "execution_count": 25,
   "metadata": {},
   "outputs": [],
   "source": [
    "import numpy as np\n",
    "A = np.array([[1, 2],\n",
    "              [3, 4]])\n",
    "B = np.array([[1, 1],\n",
    "              [1, 1]])"
   ]
  },
  {
   "cell_type": "code",
   "execution_count": 26,
   "metadata": {},
   "outputs": [
    {
     "data": {
      "text/plain": [
       "array([[2, 3],\n",
       "       [4, 5]])"
      ]
     },
     "execution_count": 26,
     "metadata": {},
     "output_type": "execute_result"
    }
   ],
   "source": [
    "A + B                  # 矩阵求和"
   ]
  },
  {
   "cell_type": "code",
   "execution_count": 27,
   "metadata": {},
   "outputs": [
    {
     "data": {
      "text/plain": [
       "array([[3, 3],\n",
       "       [7, 7]])"
      ]
     },
     "execution_count": 27,
     "metadata": {},
     "output_type": "execute_result"
    }
   ],
   "source": [
    "A.dot(B)               # 矩阵运算"
   ]
  },
  {
   "cell_type": "code",
   "execution_count": 28,
   "metadata": {},
   "outputs": [
    {
     "data": {
      "text/plain": [
       "array([[[3, 3],\n",
       "        [7, 7]],\n",
       "\n",
       "       [[3, 3],\n",
       "        [7, 7]]])"
      ]
     },
     "execution_count": 28,
     "metadata": {},
     "output_type": "execute_result"
    }
   ],
   "source": [
    "As = np.array([[[1, 2],\n",
    "                [3, 4]],\n",
    "               [[1, 2],\n",
    "                [3, 4]],\n",
    "              ])\n",
    "Bs = np.array([[[1, 1],\n",
    "                [1, 1]],\n",
    "               [[1, 1],\n",
    "                [1, 1]],\n",
    "               ])\n",
    "np.matmul(As, Bs)        # 批量矩阵运算"
   ]
  },
  {
   "cell_type": "markdown",
   "metadata": {
    "slideshow": {
     "slide_type": "subslide"
    }
   },
   "source": [
    "#### 广播\n",
    "\n",
    "- 数学中的矩阵运算要求两个矩阵的形状必须相匹配\n",
    "  - 在高维矩阵运算中可能会带来不必要的计算量和存储空间\n",
    "- 广播(Broadcast)\n",
    "  - 是 NumPy 中的一种特有的运算机制，目的就是适当放松矩阵运算中必须要求形状相匹配的条件，提升运算效率"
   ]
  },
  {
   "cell_type": "code",
   "execution_count": 29,
   "metadata": {},
   "outputs": [
    {
     "data": {
      "text/plain": [
       "array([[[2, 3],\n",
       "        [4, 5]],\n",
       "\n",
       "       [[2, 3],\n",
       "        [4, 5]]])"
      ]
     },
     "execution_count": 29,
     "metadata": {},
     "output_type": "execute_result"
    }
   ],
   "source": [
    "import numpy as np\n",
    "As = np.array([[[1, 2],            # As为3维数组\n",
    "                [3, 4]],\n",
    "               [[1, 2],\n",
    "                [3, 4]],\n",
    "               ])\n",
    "B = np.array([[1, 1], [1, 1]])     # B为2维数组\n",
    "\n",
    "As + B"
   ]
  },
  {
   "cell_type": "code",
   "execution_count": 30,
   "metadata": {
    "slideshow": {
     "slide_type": "-"
    }
   },
   "outputs": [
    {
     "data": {
      "text/plain": [
       "array([[[3, 3],\n",
       "        [7, 7]],\n",
       "\n",
       "       [[3, 3],\n",
       "        [7, 7]]])"
      ]
     },
     "execution_count": 30,
     "metadata": {},
     "output_type": "execute_result"
    }
   ],
   "source": [
    "As.dot(B)"
   ]
  },
  {
   "cell_type": "markdown",
   "metadata": {
    "slideshow": {
     "slide_type": "subslide"
    }
   },
   "source": [
    "- NumPy 多维数组运算中，一旦发生形状不匹配的情况就会自动触发广播\n",
    "- 广播的逻辑本质，是在特定维度上复制数组使得其形状相匹配\n",
    "- 广播相关概念\n",
    "  - 轴(Axes)\n",
    "    - NumPy 多维数组中的一个维度称为一个轴\n",
    "  - 轴长\n",
    "    - 一个轴上数据元素的数量称为维度的轴长\n",
    "  - 后尾维度(Trailing Dimension)\n",
    "    - 高维数组的最后一个或多个连续的轴"
   ]
  },
  {
   "cell_type": "markdown",
   "metadata": {},
   "source": [
    "- As和B具有相同的后尾维度"
   ]
  },
  {
   "cell_type": "code",
   "execution_count": 31,
   "metadata": {},
   "outputs": [
    {
     "data": {
      "text/plain": [
       "(2, 2, 2)"
      ]
     },
     "execution_count": 31,
     "metadata": {},
     "output_type": "execute_result"
    }
   ],
   "source": [
    "As.shape # As的形状是由其3个有序的轴的长度构成的元组"
   ]
  },
  {
   "cell_type": "code",
   "execution_count": 32,
   "metadata": {},
   "outputs": [
    {
     "data": {
      "text/plain": [
       "(2, 2)"
      ]
     },
     "execution_count": 32,
     "metadata": {},
     "output_type": "execute_result"
    }
   ],
   "source": [
    "B.shape #B的形状 "
   ]
  },
  {
   "cell_type": "markdown",
   "metadata": {
    "slideshow": {
     "slide_type": "subslide"
    }
   },
   "source": [
    "- 广播的条件\n",
    "  - 当数组维度不同时，后尾维度的轴长(或形状)相符\n",
    "  - 当数组维度相同时，其中之一拥有至少一个轴长为 1 的维度"
   ]
  },
  {
   "cell_type": "code",
   "execution_count": 33,
   "metadata": {},
   "outputs": [
    {
     "data": {
      "text/plain": [
       "array([[[2, 3],\n",
       "        [4, 5]],\n",
       "\n",
       "       [[2, 3],\n",
       "        [4, 5]]])"
      ]
     },
     "execution_count": 33,
     "metadata": {},
     "output_type": "execute_result"
    }
   ],
   "source": [
    "B = np.array([[[1, 1], [1, 1]]])\n",
    "As + B"
   ]
  },
  {
   "cell_type": "code",
   "execution_count": 34,
   "metadata": {},
   "outputs": [
    {
     "data": {
      "text/plain": [
       "array([[[[3, 3]],\n",
       "\n",
       "        [[7, 7]]],\n",
       "\n",
       "\n",
       "       [[[3, 3]],\n",
       "\n",
       "        [[7, 7]]]])"
      ]
     },
     "execution_count": 34,
     "metadata": {},
     "output_type": "execute_result"
    }
   ],
   "source": [
    "As.dot(B)"
   ]
  },
  {
   "cell_type": "markdown",
   "metadata": {
    "slideshow": {
     "slide_type": "subslide"
    }
   },
   "source": [
    "### 8.5.2 SciPy\n",
    "\n",
    "- SciPy 是一个常用于数学、科学、工程领域的工具包，可用于解决数值计算、积分、 优化、图像处理、常微分方程数求解、信号处理等问题\n",
    "- SciPy 依赖于 NumPy\n",
    "\n",
    "#### 特征值与特征向量求解\n",
    "\n",
    "- 矩阵$\\mathbf A$的特征值和特征向量分别是满足下式的向量$\\mathbf v$和标量$\\lambda$：\n",
    "\n",
    "$$\n",
    "\\mathbf A \\mathbf v = \\lambda \\mathbf v\n",
    "$$\n",
    "\n",
    "- 可利用`scipy.linalg`中的`eig`函数来求特征值与特征向量"
   ]
  },
  {
   "cell_type": "code",
   "execution_count": 35,
   "metadata": {},
   "outputs": [
    {
     "data": {
      "text/plain": [
       "array([ 2.+0.j, 11.+0.j,  2.+0.j])"
      ]
     },
     "execution_count": 35,
     "metadata": {},
     "output_type": "execute_result"
    }
   ],
   "source": [
    "from scipy import linalg\n",
    "\n",
    "A = np.array([[6, 2, 4],\n",
    "              [2, 3, 2],\n",
    "              [4, 2, 6]])\n",
    "lmds, vs = linalg.eig(A)\n",
    "lmds       # 特征值"
   ]
  },
  {
   "cell_type": "code",
   "execution_count": 36,
   "metadata": {},
   "outputs": [
    {
     "data": {
      "text/plain": [
       "array([[-0.74535599,  0.66666667, -0.34869867],\n",
       "       [ 0.2981424 ,  0.33333333, -0.65103258],\n",
       "       [ 0.59628479,  0.66666667,  0.67421496]])"
      ]
     },
     "execution_count": 36,
     "metadata": {},
     "output_type": "execute_result"
    }
   ],
   "source": [
    "vs         # 每一列是一个特征向量"
   ]
  },
  {
   "cell_type": "markdown",
   "metadata": {
    "slideshow": {
     "slide_type": "subslide"
    }
   },
   "source": [
    "#### 奇异值分解\n",
    "\n",
    "- 奇异值分解是将形如$m\\times n$的矩阵$\\mathbf A$分解为如下形式：\n",
    "\n",
    "$$\n",
    "\\mathbf A = \\mathbf U\\Sigma \\mathbf V\n",
    "$$\n",
    "\n",
    "其中$\\mathbf U$和$\\mathbf V$为分别为$m\\times m$和$n\\times n$的正交矩阵\n",
    "（$\\mathbf{UU}^{\\top}=\\mathbf I$，$\\mathbf{VV}^{\\top}=\\mathbf I$），\n",
    "分别称为左奇异矩阵和右奇异矩阵；$\\Sigma$为仅主对角线元素有非零值的$m\\times n$矩阵，\n",
    "这些非零值称为奇异值\n",
    "\n",
    "- 奇异值分解在数据降维和压缩、信息推荐、数据去噪等领域有重要的应用价值\n",
    "- 可利用`scipy.linalg`中的`svd`函数来对矩阵进行奇异值分解\n"
   ]
  },
  {
   "cell_type": "code",
   "execution_count": 37,
   "metadata": {},
   "outputs": [],
   "source": [
    "from scipy import linalg\n",
    "A = np.array([[1,  5,  7,  6,  1],\n",
    "              [2,  1, 10,  4,  4],\n",
    "              [3,  6,  7,  5,  2]])\n",
    "U, Sigma, V = linalg.svd(A)"
   ]
  },
  {
   "cell_type": "code",
   "execution_count": 38,
   "metadata": {},
   "outputs": [
    {
     "data": {
      "text/plain": [
       "array([[-0.55572489,  0.40548161, -0.72577856],\n",
       "       [-0.59283199, -0.80531618,  0.00401031],\n",
       "       [-0.58285511,  0.43249337,  0.68791671]])"
      ]
     },
     "execution_count": 38,
     "metadata": {},
     "output_type": "execute_result"
    }
   ],
   "source": [
    "U        # 左奇异矩阵"
   ]
  },
  {
   "cell_type": "code",
   "execution_count": 39,
   "metadata": {},
   "outputs": [
    {
     "data": {
      "text/plain": [
       "array([18.53581747,  5.0056557 ,  1.83490648])"
      ]
     },
     "execution_count": 39,
     "metadata": {},
     "output_type": "execute_result"
    }
   ],
   "source": [
    "Sigma   # 奇异值"
   ]
  },
  {
   "cell_type": "code",
   "execution_count": 40,
   "metadata": {},
   "outputs": [
    {
     "data": {
      "text/plain": [
       "array([[-0.18828164, -0.37055755, -0.74981208, -0.46504304, -0.22080294],\n",
       "       [ 0.01844501,  0.76254787, -0.4369731 ,  0.27450785, -0.38971845],\n",
       "       [ 0.73354812,  0.27392013, -0.12258381, -0.48996859,  0.36301365],\n",
       "       [ 0.36052404, -0.34595041, -0.43411102,  0.6833004 ,  0.30820273],\n",
       "       [-0.5441869 ,  0.2940985 , -0.20822387, -0.0375734 ,  0.7567019 ]])"
      ]
     },
     "execution_count": 40,
     "metadata": {},
     "output_type": "execute_result"
    }
   ],
   "source": [
    "V       # 右奇异矩阵"
   ]
  },
  {
   "cell_type": "markdown",
   "metadata": {
    "slideshow": {
     "slide_type": "subslide"
    }
   },
   "source": [
    "#### 稀疏矩阵\n",
    "\n",
    "- 稀疏矩阵\n",
    "  - 矩阵中绝大多数元素是零或者是接近0的数字\n",
    "- 稀疏矩阵的存储方式\n",
    "  - SciPy 的sparse 模块中提供了7种类型的稀疏矩阵"
   ]
  },
  {
   "cell_type": "markdown",
   "metadata": {},
   "source": [
    "| 类型         | 结构特点                              | 优点                                     | 缺点                                    |\n",
    "| :-------- | :--------- | :-------------- | :-------------- |\n",
    "| `coo_matrix` | 采用(行, 列, 数据)三 元组形式存储数据 | 创建方便，结构转换快                     | 不支持运算和切片操作                    |\n",
    "| `dok_matrix` | 基于字典存储数据                      | 创建方便，结构转换快                     | 运算效率低，不支持切片操作              |\n",
    "| `csr_matrix` | 按行压缩存储数据                      | 运算效率高，行切片效率高                 | 列切片效率低，结构转换慢                |\n",
    "| `csc_matrix` | 按列压缩存储数据                      | 运算效率高，列切片效率高                 | 行切片效率低，结构转换慢                |\n",
    "| `bsr_matrix` | 采用分块方式存储数据                  | 运算效率高，适用于有密集子矩阵的稀疏矩阵 | 切片效率低，结构转换慢                  |\n",
    "| `lil_matrix` | 采用嵌套列表存储数据                  | 行切片效率高，结构转换快                 | 运算效率低，列切片效率低                |\n",
    "| `dia_matrix` | 按对角线存储数据                      | 运算效率高，对角性良好时存储效率高       | 对角性不好时存储效率低，不 支持切片操作 |\n",
    "\n"
   ]
  },
  {
   "cell_type": "markdown",
   "metadata": {
    "slideshow": {
     "slide_type": "subslide"
    }
   },
   "source": [
    "- `coo_matrix`"
   ]
  },
  {
   "cell_type": "code",
   "execution_count": 41,
   "metadata": {},
   "outputs": [
    {
     "data": {
      "text/plain": [
       "scipy.sparse.coo.coo_matrix"
      ]
     },
     "execution_count": 41,
     "metadata": {},
     "output_type": "execute_result"
    }
   ],
   "source": [
    "from scipy import sparse\n",
    "row_index = [0, 1, 1, 2, 3, 4]\n",
    "col_index = [1, 2, 4, 2, 3, 2]\n",
    "data = [1, 2, 3, 4, 5, 6]\n",
    "m_coo = sparse.coo_matrix((data, (row_index, col_index)), dtype=float)\n",
    "type(m_coo)"
   ]
  },
  {
   "cell_type": "code",
   "execution_count": 42,
   "metadata": {},
   "outputs": [
    {
     "name": "stdout",
     "output_type": "stream",
     "text": [
      "  (0, 1)\t1.0\n",
      "  (1, 2)\t2.0\n",
      "  (1, 4)\t3.0\n",
      "  (2, 2)\t4.0\n",
      "  (3, 3)\t5.0\n",
      "  (4, 2)\t6.0\n"
     ]
    }
   ],
   "source": [
    "print(m_coo)                      # 显示矩阵元素"
   ]
  },
  {
   "cell_type": "code",
   "execution_count": 43,
   "metadata": {},
   "outputs": [
    {
     "data": {
      "text/plain": [
       "matrix([[0., 1., 0., 0., 0.],\n",
       "        [0., 0., 2., 0., 3.],\n",
       "        [0., 0., 4., 0., 0.],\n",
       "        [0., 0., 0., 5., 0.],\n",
       "        [0., 0., 6., 0., 0.]])"
      ]
     },
     "execution_count": 43,
     "metadata": {},
     "output_type": "execute_result"
    }
   ],
   "source": [
    "m_coo.todense()                   # 转密度矩阵"
   ]
  },
  {
   "cell_type": "markdown",
   "metadata": {
    "slideshow": {
     "slide_type": "subslide"
    }
   },
   "source": [
    "- `csr_matrix`"
   ]
  },
  {
   "cell_type": "code",
   "execution_count": 46,
   "metadata": {},
   "outputs": [
    {
     "data": {
      "text/plain": [
       "scipy.sparse.csr.csr_matrix"
      ]
     },
     "execution_count": 46,
     "metadata": {},
     "output_type": "execute_result"
    }
   ],
   "source": [
    "from scipy.sparse import linalg\n",
    "\n",
    "m_csr = m_coo.tocsr()             # 将coo_matrix转为csr_matrix\n",
    "type(m_csr)"
   ]
  },
  {
   "cell_type": "code",
   "execution_count": 48,
   "metadata": {},
   "outputs": [
    {
     "data": {
      "text/plain": [
       "matrix([[ 1.,  0.,  0.,  0.,  0.],\n",
       "        [ 0., 13.,  8.,  0., 12.],\n",
       "        [ 0.,  8., 16.,  0., 24.],\n",
       "        [ 0.,  0.,  0., 25.,  0.],\n",
       "        [ 0., 12., 24.,  0., 36.]])"
      ]
     },
     "execution_count": 48,
     "metadata": {},
     "output_type": "execute_result"
    }
   ],
   "source": [
    "m_trans = m_csr.transpose()       # 稀疏矩阵转置\n",
    "mm = m_csr.dot(m_trans)           # 稀疏矩阵矩阵相乘\n",
    "mm.todense()                      # 将稀疏矩阵转为密度矩阵"
   ]
  },
  {
   "cell_type": "markdown",
   "metadata": {
    "slideshow": {
     "slide_type": "slide"
    }
   },
   "source": [
    "## 8.6 数据可视化*\n",
    "\n",
    "- Matplotlib是Python中著名的绘图库。它最初是对Matlab绘图命令的模仿，目前是Python绘图领域影响最为广泛的工具\n",
    "\n",
    "### 8.6.1 简单绘图\n",
    "\n",
    "- `pyplot`模块定义了大量函数用于绘制、配置或修改图像\n",
    "\n",
    "|函数| 功能|\n",
    "|:--|:--|\n",
    "|`plot`| 折线图 |\n",
    "|`scatter`| 散点图 |\n",
    "|`bar`| 柱状图 |\n",
    "|`pie`| 饼图 |\n",
    "|`hist`| 直方图 |\n",
    "|`imshow`| 热力图|"
   ]
  },
  {
   "cell_type": "code",
   "execution_count": 49,
   "metadata": {},
   "outputs": [
    {
     "data": {
      "image/png": "[encoded data removed]",
      "text/plain": [
       "<Figure size 432x288 with 1 Axes>"
      ]
     },
     "metadata": {
      "needs_background": "light"
     },
     "output_type": "display_data"
    }
   ],
   "source": [
    "import matplotlib.pyplot as plt\n",
    "#（a）折线图\n",
    "x = range(10)\n",
    "y = [i**2 for i in x]\n",
    "plt.plot(x, y)\n",
    "plt.show()"
   ]
  },
  {
   "cell_type": "code",
   "execution_count": 50,
   "metadata": {},
   "outputs": [
    {
     "data": {
      "image/png": "[encoded data removed]",
      "text/plain": [
       "<Figure size 432x288 with 1 Axes>"
      ]
     },
     "metadata": {
      "needs_background": "light"
     },
     "output_type": "display_data"
    }
   ],
   "source": [
    "#（b）散点图\n",
    "x = range(10)\n",
    "y = [i**2 for i in x]\n",
    "plt.scatter(x, y)\n",
    "plt.show()"
   ]
  },
  {
   "cell_type": "code",
   "execution_count": 51,
   "metadata": {},
   "outputs": [
    {
     "data": {
      "image/png": "[encoded data removed]",
      "text/plain": [
       "<Figure size 432x288 with 1 Axes>"
      ]
     },
     "metadata": {
      "needs_background": "light"
     },
     "output_type": "display_data"
    }
   ],
   "source": [
    "#（c）柱状图\n",
    "x = range(10)\n",
    "y = [i**2 for i in x]\n",
    "plt.bar(x, y)\n",
    "plt.show()"
   ]
  },
  {
   "cell_type": "code",
   "execution_count": 52,
   "metadata": {},
   "outputs": [
    {
     "data": {
      "image/png": "[encoded data removed]",
      "text/plain": [
       "<Figure size 432x288 with 1 Axes>"
      ]
     },
     "metadata": {},
     "output_type": "display_data"
    }
   ],
   "source": [
    "#（d）饼图\n",
    "numbers = [0.1, 0.4, 0.3, 0.2]\n",
    "plt.pie(numbers)\n",
    "plt.show()"
   ]
  },
  {
   "cell_type": "code",
   "execution_count": 53,
   "metadata": {},
   "outputs": [
    {
     "data": {
      "image/png": "[encoded data removed]",
      "text/plain": [
       "<Figure size 432x288 with 1 Axes>"
      ]
     },
     "metadata": {
      "needs_background": "light"
     },
     "output_type": "display_data"
    }
   ],
   "source": [
    "#（e）直方图\n",
    "x = [1, 1, 2, 2, 2, 2, 3, 3]\n",
    "plt.hist(x)\n",
    "plt.show()"
   ]
  },
  {
   "cell_type": "code",
   "execution_count": 54,
   "metadata": {},
   "outputs": [
    {
     "data": {
      "image/png": "[encoded data removed]",
      "text/plain": [
       "<Figure size 432x288 with 1 Axes>"
      ]
     },
     "metadata": {
      "needs_background": "light"
     },
     "output_type": "display_data"
    }
   ],
   "source": [
    "#（f）热力图\n",
    "X = [[1, 2, 3], [4, 5, 6], [7, 8, 9]]\n",
    "plt.imshow(X)\n",
    "plt.show()"
   ]
  },
  {
   "cell_type": "markdown",
   "metadata": {
    "slideshow": {
     "slide_type": "subslide"
    }
   },
   "source": [
    "### 8.6.2 图像的配置与修饰\n",
    "\n",
    "- Matplotlib图像的主要组成部分\n",
    "  - 图像：是一个`Figure`对象。常用的属性包括图像的大小(`figsize`)、分辨率(`dpi`)等，可包含一个或多个坐标轴\n",
    "  - 坐标轴：图像的子图，是一个`AxesSubplot`对象。常用属性有标题(`title`)等，每个坐标轴由 x 轴(`xaxis`)和 y 轴(`yaxis`)组成，每个轴都可以配置自己的标识 (`xlabel`或`ylabel`)、刻度、刻度范围、刻度标识等\n",
    "  - 绘图：具体的图形对象，可以是折线图、散点图等。属性有线形、宽度、颜色、修饰符(marker)及其形状和颜色等\n",
    "  - 填充：在折线图与坐标轴之间(坐标轴的`fill`方法)或者不同的折线之间 (坐标轴的`fill_between`方法)填充颜色\n",
    "  - 图例：根据绘图的线形、颜色、修饰符等自动生成\n",
    "  - 标注：使用坐标轴的annotate方法或text方法添加文本或箭头等形状，文本中支持 Latex 符号和公式"
   ]
  },
  {
   "cell_type": "markdown",
   "metadata": {},
   "source": [
    "<center>\n",
    "    <img src=\"./figures/fig8-3.png\" width=\"70%\"/>\n",
    "<center>"
   ]
  },
  {
   "cell_type": "code",
   "execution_count": 55,
   "metadata": {
    "slideshow": {
     "slide_type": "subslide"
    }
   },
   "outputs": [
    {
     "data": {
      "image/png": "[encoded data removed]",
      "text/plain": [
       "<Figure size 800x600 with 1 Axes>"
      ]
     },
     "metadata": {
      "needs_background": "light"
     },
     "output_type": "display_data"
    }
   ],
   "source": [
    "import numpy as np\n",
    "import matplotlib.pyplot as plt\n",
    "from matplotlib.ticker import MultipleLocator\n",
    "\n",
    "font = {'family': 'simhei', 'size':12}  # 中文字体和字号\n",
    "# 图像大小和分辨率\n",
    "plt.figure(figsize=[8, 6], dpi=100)\n",
    "\n",
    "# 折线图\n",
    "x = np.arange(-10, 10.1, 0.1)\n",
    "y1 = x ** 2\n",
    "y2 = np.array([64] * len(x))\n",
    "plt.plot(x, y1, label='$y=x^2$', marker='s', markevery=20)\n",
    "plt.plot(x, y2, label='$y=64$', marker='o', markevery=20)\n",
    "\n",
    "# 区域填充\n",
    "x_fill = np.arange(-8, 8, 0.1)\n",
    "y1_fill = x_fill ** 2\n",
    "y2_fill = np.array([64]*len(x_fill))\n",
    "plt.fill_between(x_fill, y1_fill, y2_fill, alpha=.2)\n",
    "\n",
    "# 坐标轴配置\n",
    "plt.xlim(-11, 11)      # x轴刻度区间\n",
    "plt.ylim(-5, 105)      # y轴刻度区间\n",
    "ax = plt.gca()         # 获取坐标轴对象\n",
    "# ax.set_xticks(range(-10, 11, 5))   # 设置x轴刻度\n",
    "# ax.set_yticks(range(-0, 101, 10))  # 设置y轴刻度\n",
    "ax.xaxis.set_major_locator(MultipleLocator(5))  # x轴主刻度\n",
    "ax.xaxis.set_minor_locator(MultipleLocator(1))  # x轴副刻度\n",
    "ax.yaxis.set_major_locator(MultipleLocator(10)) # y轴主刻度\n",
    "ax.yaxis.set_minor_locator(MultipleLocator(5))  # y轴副刻度\n",
    "\n",
    "plt.annotate('$y=x^2$', xy=(-9, 81), xytext=(-7, 90),  # 标注\n",
    "            arrowprops={'arrowstyle': \"->\"})\n",
    "plt.xlabel('x轴标识（xlabel）', fontdict=font)    # x轴标识\n",
    "plt.ylabel('y轴标识（ylabel）', fontdict=font)    # y轴标识\n",
    "plt.title(\"标题（title）\", fontdict={'family': 'simhei'})  # 图像标题\n",
    "plt.legend(loc='upper right')                   # 图例\n",
    "plt.show()                                      # 显示图像"
   ]
  },
  {
   "cell_type": "markdown",
   "metadata": {
    "slideshow": {
     "slide_type": "subslide"
    }
   },
   "source": [
    "- 中美新冠病毒确诊数量对比"
   ]
  },
  {
   "cell_type": "code",
   "execution_count": 56,
   "metadata": {},
   "outputs": [
    {
     "data": {
      "image/png": "[encoded data removed]",
      "text/plain": [
       "<Figure size 432x288 with 1 Axes>"
      ]
     },
     "metadata": {
      "needs_background": "light"
     },
     "output_type": "display_data"
    }
   ],
   "source": [
    "import matplotlib.pyplot as plt\n",
    "import matplotlib\n",
    "matplotlib.rc('font', family='simsun')          # 设置字体\n",
    "china = [11791, 79824, 81554, 82874, 83017, 83534, 84337,\n",
    "         85058, 85414, 85997, 86542, 87071]\n",
    "usa = [11, 66, 140640, 1003974, 1734040, 2537636, 4388566,\n",
    "       5899504, 7077015, 8852730, 13082877, 19346790]\n",
    "mothons = ['1月', '2月', '3月', '4月', '5月', '6月',\n",
    "           '7月', '8月', '9月', '10月', '11月', '12月']\n",
    "plt.plot(china, label='中国', marker='o')\n",
    "plt.plot(usa, label='美国', marker='s')\n",
    "plt.legend()\n",
    "plt.xticks(range(0, 12), mothons, rotation=45)  # 设置x轴坐标标签\n",
    "plt.yscale('log')                               # 设置y轴为对数坐标\n",
    "plt.title('中美新冠病毒确诊数量对比', fontdict={'size': 16})\n",
    "plt.show()"
   ]
  },
  {
   "cell_type": "markdown",
   "metadata": {
    "slideshow": {
     "slide_type": "subslide"
    }
   },
   "source": [
    "### 8.6.3 多子图图像的绘制\n"
   ]
  },
  {
   "cell_type": "code",
   "execution_count": 57,
   "metadata": {},
   "outputs": [
    {
     "data": {
      "image/png": "[encoded data removed]",
      "text/plain": [
       "<Figure size 432x288 with 4 Axes>"
      ]
     },
     "metadata": {
      "needs_background": "light"
     },
     "output_type": "display_data"
    }
   ],
   "source": [
    "import matplotlib.pyplot as plt\n",
    "plt.subplot(2, 2, 1)  # 2行2列第 1 幅子图像\n",
    "plt.text(0.5, 0.5, 'subplot(2,2,1)', ha='center', va='center', size=15)\n",
    "plt.subplot(2, 2, 2)  # 2行2列第 2 幅子图像\n",
    "plt.text(0.5, 0.5, 'subplot(2,2,2)', ha='center', va='center', size=15)\n",
    "plt.subplot(2, 2, 3)  # 2行2列第 3 幅子图像\n",
    "plt.text(0.5, 0.5, 'subplot(2,2,3)', ha='center', va='center', size=15)\n",
    "plt.subplot(2, 2, 4)  # 2行2列第 4 幅子图像\n",
    "plt.text(0.5, 0.5, 'subplot(2,2,4)', ha='center', va='center', size=15)\n",
    "plt.subplots_adjust(left=0.08, bottom=0.08, right=0.96, top=0.96, \n",
    "                    wspace=0.3, hspace=0.3)  # 调整图像的边距和间距\n",
    "plt.show()"
   ]
  },
  {
   "cell_type": "markdown",
   "metadata": {
    "slideshow": {
     "slide_type": "subslide"
    }
   },
   "source": [
    "### 8.6.4 三维图像的绘制\n",
    "\n",
    "- Matplotlib的`mpl_toolkits`辅助模块中提供了各种三维图像的绘制功能\n",
    "- 函数$Z=\\sin(\\sqrt{X^2+Y^2})$的三维图像"
   ]
  },
  {
   "cell_type": "code",
   "execution_count": 62,
   "metadata": {},
   "outputs": [
    {
     "data": {
      "image/png": "[encoded data removed]",
      "text/plain": [
       "<Figure size 432x288 with 1 Axes>"
      ]
     },
     "metadata": {
      "needs_background": "light"
     },
     "output_type": "display_data"
    }
   ],
   "source": [
    "import numpy as np\n",
    "import matplotlib.pyplot as plt\n",
    "import matplotlib as mpl\n",
    "from mpl_toolkits.mplot3d import Axes3D\n",
    "mpl.rcParams['axes.unicode_minus']=False  # 使负号正常显示\n",
    "\n",
    "fig = plt.figure()\n",
    "ax = Axes3D(fig)\n",
    "\n",
    "X = np.arange(-6, 6, 0.1)\n",
    "Y = np.arange(-6, 6, 0.1)\n",
    "X, Y = np.meshgrid(X, Y)\n",
    "Z = np.sin(np.sqrt(X**2 + Y**2))\n",
    "\n",
    "ax.plot_surface(X, Y, Z, rstride=1, cstride=1, cmap='coolwarm')\n",
    "plt.show()"
   ]
  },
  {
   "cell_type": "markdown",
   "metadata": {
    "slideshow": {
     "slide_type": "slide"
    }
   },
   "source": [
    "## 8.7 Pandas基础*\n",
    "\n",
    "- Pandas是Python数据分析与处理领域非常知名的工具之一，常用于结构化数据分析任务，例如数据分析、数据挖掘和数据清洗等\n",
    "- 从功能上来说可以粗略地认为它是电子表格和结构化查询语言（SQL）相结合的Python实现\n",
    "\n",
    "### 8.7.1 数据结构\n",
    "\n",
    "#### 系列（`Series`）\n",
    "\n",
    "- 系列本质上是带有索引的一维数组元素可以是整数、浮点数、字符串，以及其他的 Python 对象\n",
    "- 可以基于列表、字典或者 Numpy 数组来创建一个系列"
   ]
  },
  {
   "cell_type": "code",
   "execution_count": 63,
   "metadata": {},
   "outputs": [
    {
     "data": {
      "text/plain": [
       "0    1\n",
       "1    4\n",
       "2    2\n",
       "dtype: int64"
      ]
     },
     "execution_count": 63,
     "metadata": {},
     "output_type": "execute_result"
    }
   ],
   "source": [
    "import pandas as pd\n",
    "import numpy as np\n",
    "\n",
    "lst = [1, 4, 2]\n",
    "s1 = pd.Series(lst)                        # 由列表创建系列\n",
    "s1"
   ]
  },
  {
   "cell_type": "code",
   "execution_count": 64,
   "metadata": {},
   "outputs": [
    {
     "data": {
      "text/plain": [
       "0    1\n",
       "1    4\n",
       "2    2\n",
       "dtype: int64"
      ]
     },
     "execution_count": 64,
     "metadata": {},
     "output_type": "execute_result"
    }
   ],
   "source": [
    "s2 = pd.Series(np.array(lst))              # 由Numpy数组创建系列\n",
    "s2"
   ]
  },
  {
   "cell_type": "code",
   "execution_count": 65,
   "metadata": {},
   "outputs": [
    {
     "data": {
      "text/plain": [
       "a    1\n",
       "b    4\n",
       "c    2\n",
       "dtype: int64"
      ]
     },
     "execution_count": 65,
     "metadata": {},
     "output_type": "execute_result"
    }
   ],
   "source": [
    "s3 = pd.Series(lst, index=['a', 'b', 'c']) # 系列的标签索引\n",
    "s3"
   ]
  },
  {
   "cell_type": "code",
   "execution_count": 66,
   "metadata": {},
   "outputs": [
    {
     "data": {
      "text/plain": [
       "a    1.0\n",
       "b    2.0\n",
       "c    3.0\n",
       "dtype: float64"
      ]
     },
     "execution_count": 66,
     "metadata": {},
     "output_type": "execute_result"
    }
   ],
   "source": [
    "dic = {'a': 1, 'b': 2, 'c': 3}\n",
    "s4 = pd.Series(dic, dtype=float)           # 由字典创建系列\n",
    "s4"
   ]
  },
  {
   "cell_type": "markdown",
   "metadata": {
    "slideshow": {
     "slide_type": "subslide"
    }
   },
   "source": [
    "#### 数据框\n",
    "\n",
    "- 普通的数据框从逻辑上来说是一种二维表格\n",
    "- 可以基于二维列表或二 维 Numpy 数组创建数据框，也可以基于系列来创建数据框"
   ]
  },
  {
   "cell_type": "code",
   "execution_count": 67,
   "metadata": {},
   "outputs": [
    {
     "data": {
      "text/html": [
       "<div>\n",
       "<style scoped>\n",
       "    .dataframe tbody tr th:only-of-type {\n",
       "        vertical-align: middle;\n",
       "    }\n",
       "\n",
       "    .dataframe tbody tr th {\n",
       "        vertical-align: top;\n",
       "    }\n",
       "\n",
       "    .dataframe thead th {\n",
       "        text-align: right;\n",
       "    }\n",
       "</style>\n",
       "<table border=\"1\" class=\"dataframe\">\n",
       "  <thead>\n",
       "    <tr style=\"text-align: right;\">\n",
       "      <th></th>\n",
       "      <th>0</th>\n",
       "      <th>1</th>\n",
       "    </tr>\n",
       "  </thead>\n",
       "  <tbody>\n",
       "    <tr>\n",
       "      <th>a</th>\n",
       "      <td>1</td>\n",
       "      <td>8</td>\n",
       "    </tr>\n",
       "    <tr>\n",
       "      <th>b</th>\n",
       "      <td>4</td>\n",
       "      <td>5</td>\n",
       "    </tr>\n",
       "    <tr>\n",
       "      <th>c</th>\n",
       "      <td>2</td>\n",
       "      <td>7</td>\n",
       "    </tr>\n",
       "  </tbody>\n",
       "</table>\n",
       "</div>"
      ],
      "text/plain": [
       "   0  1\n",
       "a  1  8\n",
       "b  4  5\n",
       "c  2  7"
      ]
     },
     "execution_count": 67,
     "metadata": {},
     "output_type": "execute_result"
    }
   ],
   "source": [
    "lst = [[1, 8],[4, 5],[2, 7]]\n",
    "df1 = pd.DataFrame(lst, index=['a', 'b', 'c'])  # 由列表创建数据框\n",
    "df1"
   ]
  },
  {
   "cell_type": "code",
   "execution_count": 69,
   "metadata": {},
   "outputs": [
    {
     "data": {
      "text/html": [
       "<div>\n",
       "<style scoped>\n",
       "    .dataframe tbody tr th:only-of-type {\n",
       "        vertical-align: middle;\n",
       "    }\n",
       "\n",
       "    .dataframe tbody tr th {\n",
       "        vertical-align: top;\n",
       "    }\n",
       "\n",
       "    .dataframe thead th {\n",
       "        text-align: right;\n",
       "    }\n",
       "</style>\n",
       "<table border=\"1\" class=\"dataframe\">\n",
       "  <thead>\n",
       "    <tr style=\"text-align: right;\">\n",
       "      <th></th>\n",
       "      <th>s1</th>\n",
       "      <th>s2</th>\n",
       "    </tr>\n",
       "  </thead>\n",
       "  <tbody>\n",
       "    <tr>\n",
       "      <th>0</th>\n",
       "      <td>1</td>\n",
       "      <td>8</td>\n",
       "    </tr>\n",
       "    <tr>\n",
       "      <th>1</th>\n",
       "      <td>4</td>\n",
       "      <td>5</td>\n",
       "    </tr>\n",
       "    <tr>\n",
       "      <th>2</th>\n",
       "      <td>2</td>\n",
       "      <td>7</td>\n",
       "    </tr>\n",
       "  </tbody>\n",
       "</table>\n",
       "</div>"
      ],
      "text/plain": [
       "   s1  s2\n",
       "0   1   8\n",
       "1   4   5\n",
       "2   2   7"
      ]
     },
     "execution_count": 69,
     "metadata": {},
     "output_type": "execute_result"
    }
   ],
   "source": [
    "df2 = pd.DataFrame(np.array(lst),               # 由Numpy数组创建数据框，\n",
    "                   columns=['s1', 's2'])        # 并指定列名\n",
    "df2"
   ]
  },
  {
   "cell_type": "code",
   "execution_count": 71,
   "metadata": {},
   "outputs": [
    {
     "data": {
      "text/html": [
       "<div>\n",
       "<style scoped>\n",
       "    .dataframe tbody tr th:only-of-type {\n",
       "        vertical-align: middle;\n",
       "    }\n",
       "\n",
       "    .dataframe tbody tr th {\n",
       "        vertical-align: top;\n",
       "    }\n",
       "\n",
       "    .dataframe thead th {\n",
       "        text-align: right;\n",
       "    }\n",
       "</style>\n",
       "<table border=\"1\" class=\"dataframe\">\n",
       "  <thead>\n",
       "    <tr style=\"text-align: right;\">\n",
       "      <th></th>\n",
       "      <th>s1</th>\n",
       "      <th>s2</th>\n",
       "    </tr>\n",
       "  </thead>\n",
       "  <tbody>\n",
       "    <tr>\n",
       "      <th>0</th>\n",
       "      <td>1</td>\n",
       "      <td>8</td>\n",
       "    </tr>\n",
       "    <tr>\n",
       "      <th>1</th>\n",
       "      <td>4</td>\n",
       "      <td>5</td>\n",
       "    </tr>\n",
       "    <tr>\n",
       "      <th>2</th>\n",
       "      <td>2</td>\n",
       "      <td>7</td>\n",
       "    </tr>\n",
       "  </tbody>\n",
       "</table>\n",
       "</div>"
      ],
      "text/plain": [
       "   s1  s2\n",
       "0   1   8\n",
       "1   4   5\n",
       "2   2   7"
      ]
     },
     "execution_count": 71,
     "metadata": {},
     "output_type": "execute_result"
    }
   ],
   "source": [
    "s1 = pd.Series([1, 4, 2])\n",
    "s2 = pd.Series([8, 5, 7])\n",
    "df3 = pd.DataFrame({'s1': s1, 's2': s2})  # 由系列创建数据框\n",
    "df3"
   ]
  },
  {
   "cell_type": "code",
   "execution_count": 72,
   "metadata": {},
   "outputs": [
    {
     "data": {
      "text/html": [
       "<div>\n",
       "<style scoped>\n",
       "    .dataframe tbody tr th:only-of-type {\n",
       "        vertical-align: middle;\n",
       "    }\n",
       "\n",
       "    .dataframe tbody tr th {\n",
       "        vertical-align: top;\n",
       "    }\n",
       "\n",
       "    .dataframe thead th {\n",
       "        text-align: right;\n",
       "    }\n",
       "</style>\n",
       "<table border=\"1\" class=\"dataframe\">\n",
       "  <thead>\n",
       "    <tr style=\"text-align: right;\">\n",
       "      <th></th>\n",
       "      <th>s1</th>\n",
       "      <th>s2</th>\n",
       "    </tr>\n",
       "  </thead>\n",
       "  <tbody>\n",
       "    <tr>\n",
       "      <th>0</th>\n",
       "      <td>1</td>\n",
       "      <td>8</td>\n",
       "    </tr>\n",
       "    <tr>\n",
       "      <th>1</th>\n",
       "      <td>4</td>\n",
       "      <td>5</td>\n",
       "    </tr>\n",
       "    <tr>\n",
       "      <th>2</th>\n",
       "      <td>2</td>\n",
       "      <td>7</td>\n",
       "    </tr>\n",
       "    <tr>\n",
       "      <th>3</th>\n",
       "      <td>0</td>\n",
       "      <td>0</td>\n",
       "    </tr>\n",
       "  </tbody>\n",
       "</table>\n",
       "</div>"
      ],
      "text/plain": [
       "   s1  s2\n",
       "0   1   8\n",
       "1   4   5\n",
       "2   2   7\n",
       "3   0   0"
      ]
     },
     "execution_count": 72,
     "metadata": {},
     "output_type": "execute_result"
    }
   ],
   "source": [
    "df3 = df3.append({'s1': 0, 's2':0}, ignore_index=True)  # 添加行\n",
    "df3"
   ]
  },
  {
   "cell_type": "code",
   "execution_count": 73,
   "metadata": {},
   "outputs": [
    {
     "data": {
      "text/html": [
       "<div>\n",
       "<style scoped>\n",
       "    .dataframe tbody tr th:only-of-type {\n",
       "        vertical-align: middle;\n",
       "    }\n",
       "\n",
       "    .dataframe tbody tr th {\n",
       "        vertical-align: top;\n",
       "    }\n",
       "\n",
       "    .dataframe thead th {\n",
       "        text-align: right;\n",
       "    }\n",
       "</style>\n",
       "<table border=\"1\" class=\"dataframe\">\n",
       "  <thead>\n",
       "    <tr style=\"text-align: right;\">\n",
       "      <th></th>\n",
       "      <th>s1</th>\n",
       "      <th>s2</th>\n",
       "      <th>new</th>\n",
       "    </tr>\n",
       "  </thead>\n",
       "  <tbody>\n",
       "    <tr>\n",
       "      <th>0</th>\n",
       "      <td>1</td>\n",
       "      <td>8</td>\n",
       "      <td>9</td>\n",
       "    </tr>\n",
       "    <tr>\n",
       "      <th>1</th>\n",
       "      <td>4</td>\n",
       "      <td>5</td>\n",
       "      <td>9</td>\n",
       "    </tr>\n",
       "    <tr>\n",
       "      <th>2</th>\n",
       "      <td>2</td>\n",
       "      <td>7</td>\n",
       "      <td>9</td>\n",
       "    </tr>\n",
       "    <tr>\n",
       "      <th>3</th>\n",
       "      <td>0</td>\n",
       "      <td>0</td>\n",
       "      <td>0</td>\n",
       "    </tr>\n",
       "  </tbody>\n",
       "</table>\n",
       "</div>"
      ],
      "text/plain": [
       "   s1  s2  new\n",
       "0   1   8    9\n",
       "1   4   5    9\n",
       "2   2   7    9\n",
       "3   0   0    0"
      ]
     },
     "execution_count": 73,
     "metadata": {},
     "output_type": "execute_result"
    }
   ],
   "source": [
    "df3['new'] = df3.s1 + df3.s2              # 添加列\n",
    "df3"
   ]
  },
  {
   "cell_type": "markdown",
   "metadata": {
    "slideshow": {
     "slide_type": "subslide"
    }
   },
   "source": [
    "- 数据框的读入和写出\n",
    "  - Pandas支持多种格式数据的读入和写出，常用的格式包括Excel、CSV、JSON、SQL、HDF、STATA、SAS、SPSS等。"
   ]
  },
  {
   "cell_type": "code",
   "execution_count": 74,
   "metadata": {},
   "outputs": [
    {
     "data": {
      "text/html": [
       "<div>\n",
       "<style scoped>\n",
       "    .dataframe tbody tr th:only-of-type {\n",
       "        vertical-align: middle;\n",
       "    }\n",
       "\n",
       "    .dataframe tbody tr th {\n",
       "        vertical-align: top;\n",
       "    }\n",
       "\n",
       "    .dataframe thead th {\n",
       "        text-align: right;\n",
       "    }\n",
       "</style>\n",
       "<table border=\"1\" class=\"dataframe\">\n",
       "  <thead>\n",
       "    <tr style=\"text-align: right;\">\n",
       "      <th></th>\n",
       "      <th>s1</th>\n",
       "      <th>s2</th>\n",
       "      <th>new</th>\n",
       "    </tr>\n",
       "  </thead>\n",
       "  <tbody>\n",
       "    <tr>\n",
       "      <th>0</th>\n",
       "      <td>1</td>\n",
       "      <td>8</td>\n",
       "      <td>9</td>\n",
       "    </tr>\n",
       "    <tr>\n",
       "      <th>1</th>\n",
       "      <td>4</td>\n",
       "      <td>5</td>\n",
       "      <td>9</td>\n",
       "    </tr>\n",
       "    <tr>\n",
       "      <th>2</th>\n",
       "      <td>2</td>\n",
       "      <td>7</td>\n",
       "      <td>9</td>\n",
       "    </tr>\n",
       "    <tr>\n",
       "      <th>3</th>\n",
       "      <td>0</td>\n",
       "      <td>0</td>\n",
       "      <td>0</td>\n",
       "    </tr>\n",
       "  </tbody>\n",
       "</table>\n",
       "</div>"
      ],
      "text/plain": [
       "   s1  s2  new\n",
       "0   1   8    9\n",
       "1   4   5    9\n",
       "2   2   7    9\n",
       "3   0   0    0"
      ]
     },
     "execution_count": 74,
     "metadata": {},
     "output_type": "execute_result"
    }
   ],
   "source": [
    "df3.to_csv('test.csv', index=False)  # 保存为CSV格式（不保存索引）\n",
    "df4 = pd.read_csv('test.csv')        # 读入CSV格式创建数据框\n",
    "df4"
   ]
  },
  {
   "cell_type": "markdown",
   "metadata": {
    "slideshow": {
     "slide_type": "subslide"
    }
   },
   "source": [
    "### 8.7.2 数据访问\n",
    "\n",
    "#### 索引访问"
   ]
  },
  {
   "cell_type": "code",
   "execution_count": 75,
   "metadata": {},
   "outputs": [
    {
     "data": {
      "text/plain": [
       "2.0"
      ]
     },
     "execution_count": 75,
     "metadata": {},
     "output_type": "execute_result"
    }
   ],
   "source": [
    "s4[1]"
   ]
  },
  {
   "cell_type": "code",
   "execution_count": 76,
   "metadata": {},
   "outputs": [
    {
     "data": {
      "text/plain": [
       "a    1.0\n",
       "b    2.0\n",
       "dtype: float64"
      ]
     },
     "execution_count": 76,
     "metadata": {},
     "output_type": "execute_result"
    }
   ],
   "source": [
    "s4[0:2]"
   ]
  },
  {
   "cell_type": "code",
   "execution_count": 77,
   "metadata": {},
   "outputs": [
    {
     "data": {
      "text/plain": [
       "1.0"
      ]
     },
     "execution_count": 77,
     "metadata": {},
     "output_type": "execute_result"
    }
   ],
   "source": [
    "s4['a']"
   ]
  },
  {
   "cell_type": "code",
   "execution_count": 78,
   "metadata": {},
   "outputs": [
    {
     "data": {
      "text/plain": [
       "a    1.0\n",
       "c    3.0\n",
       "dtype: float64"
      ]
     },
     "execution_count": 78,
     "metadata": {},
     "output_type": "execute_result"
    }
   ],
   "source": [
    "s4[[0, 2]]"
   ]
  },
  {
   "cell_type": "code",
   "execution_count": 79,
   "metadata": {},
   "outputs": [
    {
     "data": {
      "text/plain": [
       "a    1.0\n",
       "c    3.0\n",
       "dtype: float64"
      ]
     },
     "execution_count": 79,
     "metadata": {},
     "output_type": "execute_result"
    }
   ],
   "source": [
    "s4[['a', 'c']]"
   ]
  },
  {
   "cell_type": "markdown",
   "metadata": {
    "slideshow": {
     "slide_type": "subslide"
    }
   },
   "source": [
    "- 数据框的索引访问常用到三个属性\n",
    "  - `loc`: 使用标签索引来访问一行或多行\n",
    "  - `iloc`: 使用整数索引来访问一行或多行\n",
    "  - `iat`: 通过指定行和列来访问数据框元素"
   ]
  },
  {
   "cell_type": "code",
   "execution_count": 80,
   "metadata": {},
   "outputs": [
    {
     "data": {
      "text/html": [
       "<div>\n",
       "<style scoped>\n",
       "    .dataframe tbody tr th:only-of-type {\n",
       "        vertical-align: middle;\n",
       "    }\n",
       "\n",
       "    .dataframe tbody tr th {\n",
       "        vertical-align: top;\n",
       "    }\n",
       "\n",
       "    .dataframe thead th {\n",
       "        text-align: right;\n",
       "    }\n",
       "</style>\n",
       "<table border=\"1\" class=\"dataframe\">\n",
       "  <thead>\n",
       "    <tr style=\"text-align: right;\">\n",
       "      <th></th>\n",
       "      <th>c1</th>\n",
       "      <th>c2</th>\n",
       "    </tr>\n",
       "  </thead>\n",
       "  <tbody>\n",
       "    <tr>\n",
       "      <th>a</th>\n",
       "      <td>1</td>\n",
       "      <td>8</td>\n",
       "    </tr>\n",
       "    <tr>\n",
       "      <th>b</th>\n",
       "      <td>4</td>\n",
       "      <td>5</td>\n",
       "    </tr>\n",
       "    <tr>\n",
       "      <th>c</th>\n",
       "      <td>2</td>\n",
       "      <td>7</td>\n",
       "    </tr>\n",
       "  </tbody>\n",
       "</table>\n",
       "</div>"
      ],
      "text/plain": [
       "   c1  c2\n",
       "a   1   8\n",
       "b   4   5\n",
       "c   2   7"
      ]
     },
     "execution_count": 80,
     "metadata": {},
     "output_type": "execute_result"
    }
   ],
   "source": [
    "lst = [[1, 8],[4, 5],[2, 7]]\n",
    "df = pd.DataFrame(lst, index=['a', 'b', 'c'], columns=['c1', 'c2'])\n",
    "df"
   ]
  },
  {
   "cell_type": "code",
   "execution_count": 81,
   "metadata": {},
   "outputs": [
    {
     "data": {
      "text/plain": [
       "a    1\n",
       "b    4\n",
       "c    2\n",
       "Name: c1, dtype: int64"
      ]
     },
     "execution_count": 81,
     "metadata": {},
     "output_type": "execute_result"
    }
   ],
   "source": [
    "df.c1                    # 访问c1列，等同于df['c1']"
   ]
  },
  {
   "cell_type": "code",
   "execution_count": 82,
   "metadata": {},
   "outputs": [
    {
     "data": {
      "text/html": [
       "<div>\n",
       "<style scoped>\n",
       "    .dataframe tbody tr th:only-of-type {\n",
       "        vertical-align: middle;\n",
       "    }\n",
       "\n",
       "    .dataframe tbody tr th {\n",
       "        vertical-align: top;\n",
       "    }\n",
       "\n",
       "    .dataframe thead th {\n",
       "        text-align: right;\n",
       "    }\n",
       "</style>\n",
       "<table border=\"1\" class=\"dataframe\">\n",
       "  <thead>\n",
       "    <tr style=\"text-align: right;\">\n",
       "      <th></th>\n",
       "      <th>c1</th>\n",
       "      <th>c2</th>\n",
       "    </tr>\n",
       "  </thead>\n",
       "  <tbody>\n",
       "    <tr>\n",
       "      <th>a</th>\n",
       "      <td>1</td>\n",
       "      <td>8</td>\n",
       "    </tr>\n",
       "    <tr>\n",
       "      <th>b</th>\n",
       "      <td>4</td>\n",
       "      <td>5</td>\n",
       "    </tr>\n",
       "  </tbody>\n",
       "</table>\n",
       "</div>"
      ],
      "text/plain": [
       "   c1  c2\n",
       "a   1   8\n",
       "b   4   5"
      ]
     },
     "execution_count": 82,
     "metadata": {},
     "output_type": "execute_result"
    }
   ],
   "source": [
    "df.loc[['a', 'b']]       # 访问a和b两行"
   ]
  },
  {
   "cell_type": "code",
   "execution_count": 83,
   "metadata": {},
   "outputs": [
    {
     "data": {
      "text/plain": [
       "a    1\n",
       "b    4\n",
       "Name: c1, dtype: int64"
      ]
     },
     "execution_count": 83,
     "metadata": {},
     "output_type": "execute_result"
    }
   ],
   "source": [
    "df.loc[['a', 'b'], 'c1'] # 访问a和b两行的c1列"
   ]
  },
  {
   "cell_type": "code",
   "execution_count": 84,
   "metadata": {},
   "outputs": [
    {
     "data": {
      "text/html": [
       "<div>\n",
       "<style scoped>\n",
       "    .dataframe tbody tr th:only-of-type {\n",
       "        vertical-align: middle;\n",
       "    }\n",
       "\n",
       "    .dataframe tbody tr th {\n",
       "        vertical-align: top;\n",
       "    }\n",
       "\n",
       "    .dataframe thead th {\n",
       "        text-align: right;\n",
       "    }\n",
       "</style>\n",
       "<table border=\"1\" class=\"dataframe\">\n",
       "  <thead>\n",
       "    <tr style=\"text-align: right;\">\n",
       "      <th></th>\n",
       "      <th>c1</th>\n",
       "      <th>c2</th>\n",
       "    </tr>\n",
       "  </thead>\n",
       "  <tbody>\n",
       "    <tr>\n",
       "      <th>a</th>\n",
       "      <td>1</td>\n",
       "      <td>8</td>\n",
       "    </tr>\n",
       "    <tr>\n",
       "      <th>c</th>\n",
       "      <td>2</td>\n",
       "      <td>7</td>\n",
       "    </tr>\n",
       "  </tbody>\n",
       "</table>\n",
       "</div>"
      ],
      "text/plain": [
       "   c1  c2\n",
       "a   1   8\n",
       "c   2   7"
      ]
     },
     "execution_count": 84,
     "metadata": {},
     "output_type": "execute_result"
    }
   ],
   "source": [
    "df.iloc[0:3:2]           # 行切片，等于与df[0:3:2]"
   ]
  },
  {
   "cell_type": "code",
   "execution_count": 85,
   "metadata": {},
   "outputs": [
    {
     "data": {
      "text/plain": [
       "a    1\n",
       "b    4\n",
       "Name: c1, dtype: int64"
      ]
     },
     "execution_count": 85,
     "metadata": {},
     "output_type": "execute_result"
    }
   ],
   "source": [
    "df.iloc[0:2, 0]          # 访问0到1行第0列"
   ]
  },
  {
   "cell_type": "code",
   "execution_count": 86,
   "metadata": {},
   "outputs": [
    {
     "data": {
      "text/plain": [
       "8"
      ]
     },
     "execution_count": 86,
     "metadata": {},
     "output_type": "execute_result"
    }
   ],
   "source": [
    "df.iat[0, 1]             # 访问位于第0行第1列的元素"
   ]
  },
  {
   "cell_type": "markdown",
   "metadata": {
    "slideshow": {
     "slide_type": "subslide"
    }
   },
   "source": [
    "#### 条件选择\n",
    "\n",
    "- 根据指定的条件对系列或数据框的值进行过滤"
   ]
  },
  {
   "cell_type": "code",
   "execution_count": 87,
   "metadata": {},
   "outputs": [],
   "source": [
    "lst = [[1, 8],[4, 5],[2, 7]]\n",
    "df = pd.DataFrame(lst, index=['a', 'b', 'c'], columns=['c1', 'c2'])"
   ]
  },
  {
   "cell_type": "code",
   "execution_count": 88,
   "metadata": {},
   "outputs": [
    {
     "data": {
      "text/html": [
       "<div>\n",
       "<style scoped>\n",
       "    .dataframe tbody tr th:only-of-type {\n",
       "        vertical-align: middle;\n",
       "    }\n",
       "\n",
       "    .dataframe tbody tr th {\n",
       "        vertical-align: top;\n",
       "    }\n",
       "\n",
       "    .dataframe thead th {\n",
       "        text-align: right;\n",
       "    }\n",
       "</style>\n",
       "<table border=\"1\" class=\"dataframe\">\n",
       "  <thead>\n",
       "    <tr style=\"text-align: right;\">\n",
       "      <th></th>\n",
       "      <th>c1</th>\n",
       "      <th>c2</th>\n",
       "    </tr>\n",
       "  </thead>\n",
       "  <tbody>\n",
       "    <tr>\n",
       "      <th>b</th>\n",
       "      <td>4</td>\n",
       "      <td>5</td>\n",
       "    </tr>\n",
       "    <tr>\n",
       "      <th>c</th>\n",
       "      <td>2</td>\n",
       "      <td>7</td>\n",
       "    </tr>\n",
       "  </tbody>\n",
       "</table>\n",
       "</div>"
      ],
      "text/plain": [
       "   c1  c2\n",
       "b   4   5\n",
       "c   2   7"
      ]
     },
     "execution_count": 88,
     "metadata": {},
     "output_type": "execute_result"
    }
   ],
   "source": [
    "df[df.c1>1]                 # c1列大于1的行"
   ]
  },
  {
   "cell_type": "code",
   "execution_count": 89,
   "metadata": {},
   "outputs": [
    {
     "data": {
      "text/html": [
       "<div>\n",
       "<style scoped>\n",
       "    .dataframe tbody tr th:only-of-type {\n",
       "        vertical-align: middle;\n",
       "    }\n",
       "\n",
       "    .dataframe tbody tr th {\n",
       "        vertical-align: top;\n",
       "    }\n",
       "\n",
       "    .dataframe thead th {\n",
       "        text-align: right;\n",
       "    }\n",
       "</style>\n",
       "<table border=\"1\" class=\"dataframe\">\n",
       "  <thead>\n",
       "    <tr style=\"text-align: right;\">\n",
       "      <th></th>\n",
       "      <th>c1</th>\n",
       "      <th>c2</th>\n",
       "    </tr>\n",
       "  </thead>\n",
       "  <tbody>\n",
       "    <tr>\n",
       "      <th>c</th>\n",
       "      <td>2</td>\n",
       "      <td>7</td>\n",
       "    </tr>\n",
       "  </tbody>\n",
       "</table>\n",
       "</div>"
      ],
      "text/plain": [
       "   c1  c2\n",
       "c   2   7"
      ]
     },
     "execution_count": 89,
     "metadata": {},
     "output_type": "execute_result"
    }
   ],
   "source": [
    "df[(df.c1>1) & (df.c2>5)]   # c1列大于1且c2列大于5的行"
   ]
  },
  {
   "cell_type": "code",
   "execution_count": 90,
   "metadata": {},
   "outputs": [
    {
     "data": {
      "text/html": [
       "<div>\n",
       "<style scoped>\n",
       "    .dataframe tbody tr th:only-of-type {\n",
       "        vertical-align: middle;\n",
       "    }\n",
       "\n",
       "    .dataframe tbody tr th {\n",
       "        vertical-align: top;\n",
       "    }\n",
       "\n",
       "    .dataframe thead th {\n",
       "        text-align: right;\n",
       "    }\n",
       "</style>\n",
       "<table border=\"1\" class=\"dataframe\">\n",
       "  <thead>\n",
       "    <tr style=\"text-align: right;\">\n",
       "      <th></th>\n",
       "      <th>c1</th>\n",
       "      <th>c2</th>\n",
       "    </tr>\n",
       "  </thead>\n",
       "  <tbody>\n",
       "    <tr>\n",
       "      <th>a</th>\n",
       "      <td>1</td>\n",
       "      <td>8</td>\n",
       "    </tr>\n",
       "    <tr>\n",
       "      <th>b</th>\n",
       "      <td>4</td>\n",
       "      <td>5</td>\n",
       "    </tr>\n",
       "  </tbody>\n",
       "</table>\n",
       "</div>"
      ],
      "text/plain": [
       "   c1  c2\n",
       "a   1   8\n",
       "b   4   5"
      ]
     },
     "execution_count": 90,
     "metadata": {},
     "output_type": "execute_result"
    }
   ],
   "source": [
    "df[(df.c1>2) | (df.c2>7)]   # c1列大于2或c2列大于7的行"
   ]
  },
  {
   "cell_type": "markdown",
   "metadata": {
    "slideshow": {
     "slide_type": "subslide"
    }
   },
   "source": [
    "#### 迭代\n",
    "\n",
    "- 数据框可以生成多种类型的迭代器，能够对行进行不同形式的迭代遍历"
   ]
  },
  {
   "cell_type": "code",
   "execution_count": 91,
   "metadata": {},
   "outputs": [
    {
     "name": "stdout",
     "output_type": "stream",
     "text": [
      "1\n",
      "4\n",
      "2\n"
     ]
    }
   ],
   "source": [
    "lst = [[1, 8],[4, 5],[2, 7]]\n",
    "df = pd.DataFrame(lst, index=['a', 'b', 'c'], columns=['c1', 'c2'])\n",
    "for v in df.c1:               # 遍历系列\n",
    "    print(v)"
   ]
  },
  {
   "cell_type": "code",
   "execution_count": 92,
   "metadata": {},
   "outputs": [
    {
     "name": "stdout",
     "output_type": "stream",
     "text": [
      "a 1 8\n",
      "b 4 5\n",
      "c 2 7\n"
     ]
    }
   ],
   "source": [
    "for i, r in df.iterrows():    # 遍历数据框的行\n",
    "    print(i, r[0], r[1])"
   ]
  },
  {
   "cell_type": "code",
   "execution_count": 93,
   "metadata": {},
   "outputs": [
    {
     "name": "stdout",
     "output_type": "stream",
     "text": [
      "Pandas(Index='a', c1=1, c2=8)\n",
      "Pandas(Index='b', c1=4, c2=5)\n",
      "Pandas(Index='c', c1=2, c2=7)\n"
     ]
    }
   ],
   "source": [
    "for r in df.itertuples():     # 遍历数所框的行\n",
    "    print(r)"
   ]
  },
  {
   "cell_type": "markdown",
   "metadata": {
    "slideshow": {
     "slide_type": "subslide"
    }
   },
   "source": [
    "#### 统计分析\n",
    "\n",
    "- 系列数据常用统计方法\n",
    "\n",
    "|函数 |功能|\n",
    "|:--|:--|\n",
    "|`count`| 数据量 |\n",
    "|`sum`|  求和 |\n",
    "|`mean`|  均值 |\n",
    "|`median`|  中位数 |\n",
    "|`std`|  准偏差 |\n",
    "|`min`|  最小值 |\n",
    "|`max`|  最大值 |\n",
    "|`value_counts`|  频次统计|"
   ]
  },
  {
   "cell_type": "markdown",
   "metadata": {
    "slideshow": {
     "slide_type": "subslide"
    }
   },
   "source": [
    "- 数据框的描述信息"
   ]
  },
  {
   "cell_type": "code",
   "execution_count": 94,
   "metadata": {
    "slideshow": {
     "slide_type": "-"
    }
   },
   "outputs": [
    {
     "data": {
      "text/html": [
       "<div>\n",
       "<style scoped>\n",
       "    .dataframe tbody tr th:only-of-type {\n",
       "        vertical-align: middle;\n",
       "    }\n",
       "\n",
       "    .dataframe tbody tr th {\n",
       "        vertical-align: top;\n",
       "    }\n",
       "\n",
       "    .dataframe thead th {\n",
       "        text-align: right;\n",
       "    }\n",
       "</style>\n",
       "<table border=\"1\" class=\"dataframe\">\n",
       "  <thead>\n",
       "    <tr style=\"text-align: right;\">\n",
       "      <th></th>\n",
       "      <th>c1</th>\n",
       "      <th>c2</th>\n",
       "    </tr>\n",
       "  </thead>\n",
       "  <tbody>\n",
       "    <tr>\n",
       "      <th>count</th>\n",
       "      <td>3.000000</td>\n",
       "      <td>3.000000</td>\n",
       "    </tr>\n",
       "    <tr>\n",
       "      <th>mean</th>\n",
       "      <td>2.333333</td>\n",
       "      <td>6.666667</td>\n",
       "    </tr>\n",
       "    <tr>\n",
       "      <th>std</th>\n",
       "      <td>1.527525</td>\n",
       "      <td>1.527525</td>\n",
       "    </tr>\n",
       "    <tr>\n",
       "      <th>min</th>\n",
       "      <td>1.000000</td>\n",
       "      <td>5.000000</td>\n",
       "    </tr>\n",
       "    <tr>\n",
       "      <th>25%</th>\n",
       "      <td>1.500000</td>\n",
       "      <td>6.000000</td>\n",
       "    </tr>\n",
       "    <tr>\n",
       "      <th>50%</th>\n",
       "      <td>2.000000</td>\n",
       "      <td>7.000000</td>\n",
       "    </tr>\n",
       "    <tr>\n",
       "      <th>75%</th>\n",
       "      <td>3.000000</td>\n",
       "      <td>7.500000</td>\n",
       "    </tr>\n",
       "    <tr>\n",
       "      <th>max</th>\n",
       "      <td>4.000000</td>\n",
       "      <td>8.000000</td>\n",
       "    </tr>\n",
       "  </tbody>\n",
       "</table>\n",
       "</div>"
      ],
      "text/plain": [
       "             c1        c2\n",
       "count  3.000000  3.000000\n",
       "mean   2.333333  6.666667\n",
       "std    1.527525  1.527525\n",
       "min    1.000000  5.000000\n",
       "25%    1.500000  6.000000\n",
       "50%    2.000000  7.000000\n",
       "75%    3.000000  7.500000\n",
       "max    4.000000  8.000000"
      ]
     },
     "execution_count": 94,
     "metadata": {},
     "output_type": "execute_result"
    }
   ],
   "source": [
    "lst = [[1, 8],[4, 5],[2, 7]]\n",
    "df = pd.DataFrame(lst, index=['a', 'b', 'c'], columns=['c1', 'c2'])\n",
    "df.describe()"
   ]
  },
  {
   "cell_type": "markdown",
   "metadata": {
    "slideshow": {
     "slide_type": "subslide"
    }
   },
   "source": [
    "- 协方差和相关系数"
   ]
  },
  {
   "cell_type": "code",
   "execution_count": 95,
   "metadata": {},
   "outputs": [
    {
     "data": {
      "text/plain": [
       "-0.01931279550960339"
      ]
     },
     "execution_count": 95,
     "metadata": {},
     "output_type": "execute_result"
    }
   ],
   "source": [
    "data = np.random.randn(100, 2)\n",
    "df = pd.DataFrame(data, columns=['c1', 'c2'])\n",
    "df.c1.cov(df.c2)            # c1列与c2列的协方差 "
   ]
  },
  {
   "cell_type": "code",
   "execution_count": 96,
   "metadata": {},
   "outputs": [
    {
     "data": {
      "text/html": [
       "<div>\n",
       "<style scoped>\n",
       "    .dataframe tbody tr th:only-of-type {\n",
       "        vertical-align: middle;\n",
       "    }\n",
       "\n",
       "    .dataframe tbody tr th {\n",
       "        vertical-align: top;\n",
       "    }\n",
       "\n",
       "    .dataframe thead th {\n",
       "        text-align: right;\n",
       "    }\n",
       "</style>\n",
       "<table border=\"1\" class=\"dataframe\">\n",
       "  <thead>\n",
       "    <tr style=\"text-align: right;\">\n",
       "      <th></th>\n",
       "      <th>c1</th>\n",
       "      <th>c2</th>\n",
       "    </tr>\n",
       "  </thead>\n",
       "  <tbody>\n",
       "    <tr>\n",
       "      <th>c1</th>\n",
       "      <td>0.853200</td>\n",
       "      <td>-0.019313</td>\n",
       "    </tr>\n",
       "    <tr>\n",
       "      <th>c2</th>\n",
       "      <td>-0.019313</td>\n",
       "      <td>0.715135</td>\n",
       "    </tr>\n",
       "  </tbody>\n",
       "</table>\n",
       "</div>"
      ],
      "text/plain": [
       "          c1        c2\n",
       "c1  0.853200 -0.019313\n",
       "c2 -0.019313  0.715135"
      ]
     },
     "execution_count": 96,
     "metadata": {},
     "output_type": "execute_result"
    }
   ],
   "source": [
    "df.cov()                    # df中各列的协议差矩阵"
   ]
  },
  {
   "cell_type": "code",
   "execution_count": 97,
   "metadata": {},
   "outputs": [
    {
     "data": {
      "text/plain": [
       "-0.024724395919958092"
      ]
     },
     "execution_count": 97,
     "metadata": {},
     "output_type": "execute_result"
    }
   ],
   "source": [
    "df.c1.corr(df.c2)           # c1列与c2列的相关系数"
   ]
  },
  {
   "cell_type": "code",
   "execution_count": 98,
   "metadata": {},
   "outputs": [
    {
     "data": {
      "text/html": [
       "<div>\n",
       "<style scoped>\n",
       "    .dataframe tbody tr th:only-of-type {\n",
       "        vertical-align: middle;\n",
       "    }\n",
       "\n",
       "    .dataframe tbody tr th {\n",
       "        vertical-align: top;\n",
       "    }\n",
       "\n",
       "    .dataframe thead th {\n",
       "        text-align: right;\n",
       "    }\n",
       "</style>\n",
       "<table border=\"1\" class=\"dataframe\">\n",
       "  <thead>\n",
       "    <tr style=\"text-align: right;\">\n",
       "      <th></th>\n",
       "      <th>c1</th>\n",
       "      <th>c2</th>\n",
       "    </tr>\n",
       "  </thead>\n",
       "  <tbody>\n",
       "    <tr>\n",
       "      <th>c1</th>\n",
       "      <td>1.000000</td>\n",
       "      <td>-0.024724</td>\n",
       "    </tr>\n",
       "    <tr>\n",
       "      <th>c2</th>\n",
       "      <td>-0.024724</td>\n",
       "      <td>1.000000</td>\n",
       "    </tr>\n",
       "  </tbody>\n",
       "</table>\n",
       "</div>"
      ],
      "text/plain": [
       "          c1        c2\n",
       "c1  1.000000 -0.024724\n",
       "c2 -0.024724  1.000000"
      ]
     },
     "execution_count": 98,
     "metadata": {},
     "output_type": "execute_result"
    }
   ],
   "source": [
    "df.corr(method='pearson')   # df中各列的相关矩阵"
   ]
  },
  {
   "cell_type": "markdown",
   "metadata": {
    "slideshow": {
     "slide_type": "slide"
    }
   },
   "source": [
    "## 8.8 Scikit-learn基础*\n",
    "\n",
    "### 8.8.1 Scikit-learn简介\n",
    "\n",
    "- Scikit-learn是一种通用的机器学习工具包，它依赖 NumPy、SciPy 和 Matplotlib 以实现高效的数值过算、优化和可视化\n",
    "- Scikit-learn对整个机器学习流程提供了完整的支持，例如数据集读取、数据处理与 转换、模型及学习方法、模型的评价与选择等\n",
    "- Scikit-learn的核心功能\n",
    "\n",
    "| 功能           | 描述                                                         |\n",
    "| :-------------- | :------------------------------------------ |\n",
    "| 有监督学习模型 | 分类模型、回归模型、集成学习模型、有监督神经网络模型、半监督学习模型，以及特征选择工具 |\n",
    "| 无监督学习模型 | 聚类模型、双向聚类模型、包括高斯混合模型、流形学习、矩阵分解、变 分估计、异常检测、密度估计、有监督神经网络模型 |\n",
    "| 模型选择与评价 | 交叉验证、调参工具、性能评价指标、模型保存、偏差/方差分析    |\n",
    "| 模型解释       | 部分依赖图(PDP)、排列特征重要性(Permutation feature importance) |\n",
    "| 可视化         | 数据可视化、学习过程可视化、模型评价/选择可视化等            |\n",
    "| 数据转换工具   | 特征提取、数据预处理、缺失值处理、数据降维、标签处理、核方法 |\n",
    "| 数据集工具     | 内置数据集、数据集生成工具、数据集加载工具                   |\n",
    "| 高性能计算工具 | 大数据集处理、并行计算、资源管理与配置                       |\n",
    "\n",
    "\n"
   ]
  },
  {
   "cell_type": "markdown",
   "metadata": {
    "slideshow": {
     "slide_type": "subslide"
    }
   },
   "source": [
    "- Scikit-learn 将大多数机器学习功能封装为类并基于相同或相似的接口实现，主要可分为如下三种\n",
    "  -  Estimator:估计器，各常机器学习模型都被封装为估计器。绝大多数估计器都有如下三个方法:\n",
    "     - fit(x, y):根据数据x及标签y对模型进行训练\n",
    "     - score(x, y):根据数据x及标签y对训练好的模型进行评价\n",
    "     - predict(x):利用训练好的模型预测数据x的标签\n",
    "  - Transformer:转换器，对数据进行转换操作，如标准化、降维、特征选择等。大多数转换器都有如下三个方法:\n",
    "     - fit(x, y):根据数据x和标签y确定数据转换方式\n",
    "     - transform(x):根据确定的转换方式，对数据x进行转换\n",
    "     - fit_transform(x, y):确定数据转换方式，并且对数据进行转换\n",
    "  - Pipline\n",
    "   - 将数据处理、转换到模型学习等多个步骤组装为一个完整的过程以便于 模型的训练和使用，通常会包含多个转换器和一个估计器。Pipline对象也有fit、 score、predict、fit_transform等方法。"
   ]
  },
  {
   "cell_type": "markdown",
   "metadata": {
    "slideshow": {
     "slide_type": "subslide"
    }
   },
   "source": [
    "### 8.8.2 分类问题\n",
    "\n",
    "- 分类问题\n",
    "  - 给定一组类别已知的样本数据集（有监督数据），确定一个分类函数用于对类别未知的数据的所属类别进行预测\n",
    "- k 最近邻算法\n",
    "  - step1：确定 k 值以及样本距离的定义方式\n",
    "  - step2：对于数据集中的样本s，计算它与其他样本数据的距离\n",
    "  - step3：确定距离最近的k个样本以及它们所属的类别c\n",
    "  - step4：将s的类别标记为c\n",
    "- 鸢尾花数据集（Iris）\n",
    "  - 每个样本对应着一朵鸢尾花样本，记录着花萼长度、花萼宽度、花瓣长度、花瓣宽度四个特征\n",
    "  - 数据集中共包含三个类别（iris-setosa、iris-versicolour和iris-virginica）的鸢尾花样本\n",
    "  - 每个类别共有50个样本数据"
   ]
  },
  {
   "cell_type": "markdown",
   "metadata": {
    "slideshow": {
     "slide_type": "subslide"
    }
   },
   "source": [
    "- 鸢尾花分类的 k 最近邻模型"
   ]
  },
  {
   "cell_type": "code",
   "execution_count": 99,
   "metadata": {},
   "outputs": [
    {
     "name": "stdout",
     "output_type": "stream",
     "text": [
      "测试集正确率： 0.9666666666666667\n",
      "预测样本： [5.4 3.7 1.5 0.2]\n",
      "预测类别： setosa\n",
      "真实类别： setosa\n"
     ]
    }
   ],
   "source": [
    "from sklearn import neighbors, datasets\n",
    "from sklearn.utils import shuffle\n",
    "\n",
    "iris = datasets.load_iris()                          # 加载数据集\n",
    "\n",
    "X, y = shuffle(iris.data, iris.target)               # 随机打乱数据\n",
    "X_train, X_test = X[:120], X[120:]                   # 训练集与测试集特征\n",
    "y_train, y_test = y[:120], y[120:]                   # 训练集与测试集标签\n",
    "\n",
    "knn = neighbors.KNeighborsClassifier(n_neighbors=10, # K最近邻估计器\n",
    "                                     metric='minkowski', p=2)\n",
    "knn.fit(X_train, y_train)                            # 训练\n",
    "\n",
    "accuracy = knn.score(X_test, y_test)                 # 模型评价\n",
    "print(\"测试集正确率：\", accuracy)\n",
    "\n",
    "d_id = 10\n",
    "data_x = iris.data[d_id]\n",
    "data_y = iris.target[d_id]\n",
    "result = knn.predict([data_x])                       # 预测\n",
    "\n",
    "print('预测样本：', data_x)\n",
    "print('预测类别：', iris.target_names[result[0]])\n",
    "print('真实类别：', iris.target_names[data_y])"
   ]
  },
  {
   "cell_type": "markdown",
   "metadata": {
    "slideshow": {
     "slide_type": "subslide"
    }
   },
   "source": [
    "### 8.8.3 聚类问题\n",
    "\n",
    "- 聚类问题\n",
    "  - 给定一组样本数据根据相似度，将 它们划分入不同的类别，使得类内数据之间的距离尽可能小，类与类之间的距离尽可能 大\n",
    "- $k$均值模型\n",
    "  - 第一，计算数据与聚类中心之间的距离，并将其划分入距离最近的中心表示的类别之中\n",
    "  - 第二，根据新的数据类别划分结果，更新类别中心的位置\n",
    "  - 重复这两个步骤，直到达到最大迭代次数或者类别中心的位置不再发生变化"
   ]
  },
  {
   "cell_type": "markdown",
   "metadata": {
    "slideshow": {
     "slide_type": "subslide"
    }
   },
   "source": [
    "- $k$均值模型"
   ]
  },
  {
   "cell_type": "code",
   "execution_count": 100,
   "metadata": {},
   "outputs": [
    {
     "data": {
      "image/png": "[encoded data removed]",
      "text/plain": [
       "<Figure size 720x360 with 2 Axes>"
      ]
     },
     "metadata": {
      "needs_background": "light"
     },
     "output_type": "display_data"
    }
   ],
   "source": [
    "import matplotlib.pyplot as plt\n",
    "from sklearn.cluster import KMeans\n",
    "from sklearn.datasets import make_blobs\n",
    "\n",
    "font = {'family': 'simsun', 'size': 12}\n",
    "plt.figure(figsize=[10, 5])\n",
    "\n",
    "centers = [[0, 1], [-1, -1], [1, -1]]\n",
    "X, labels_true = make_blobs(n_samples=300,              # 生成数据集\n",
    "                            centers=centers, cluster_std=0.3)\n",
    "\n",
    "# 画出原始数据\n",
    "plt.subplot(1, 2, 1)\n",
    "plt.scatter(X[:, 0], X[:, 1])\n",
    "plt.xlabel('(a) 原始数据', fontdict=font)\n",
    "\n",
    "k_means = KMeans(n_clusters=3)                          # K均值估计器\n",
    "k_means.fit(X)                                          # 聚类\n",
    "\n",
    "# 画出聚类结果\n",
    "plt.subplot(1, 2, 2)\n",
    "marker_list = ['o', 's', '^']\n",
    "color_list = ['r', 'b', 'g']\n",
    "for i in range(3):\n",
    "    c_data = X[k_means.labels_ == i]  # 获取一个类别的数据\n",
    "    plt.scatter(c_data[:, 0], c_data[:, 1],             # 画出一个类别\n",
    "                c=color_list[i], marker=marker_list[i], alpha=0.6)\n",
    "\n",
    "plt.xlabel('(b) 聚类结果', fontdict=font)\n",
    "plt.show()"
   ]
  }
 ],
 "metadata": {
  "author": "liuchen",
  "celltoolbar": "幻灯片",
  "kernelspec": {
   "display_name": "Python 3",
   "language": "python",
   "name": "python3"
  },
  "language_info": {
   "codemirror_mode": {
    "name": "ipython",
    "version": 3
   },
   "file_extension": ".py",
   "mimetype": "text/x-python",
   "name": "python",
   "nbconvert_exporter": "python",
   "pygments_lexer": "ipython3",
   "version": "3.8.1"
  },
  "rise": {
   "enable_chalkboard": true,
   "footer": "",
   "progress": true,
   "scroll": true,
   "slideNumber": true
  },
  "toc": {
   "base_numbering": 1,
   "nav_menu": {},
   "number_sections": false,
   "sideBar": true,
   "skip_h1_title": false,
   "title_cell": "Table of Contents",
   "title_sidebar": "Contents",
   "toc_cell": false,
   "toc_position": {
    "height": "calc(100% - 180px)",
    "left": "10px",
    "top": "150px",
    "width": "221.63601684570312px"
   },
   "toc_section_display": true,
   "toc_window_display": false
  },
  "url": "https://github.com/hitlic/python_book"
 },
 "nbformat": 4,
 "nbformat_minor": 4
}
